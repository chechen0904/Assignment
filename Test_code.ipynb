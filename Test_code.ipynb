{
 "cells": [
  {
   "cell_type": "markdown",
   "id": "b13f1ef6",
   "metadata": {},
   "source": [
    "***The following lines of code are just for testing purposes.***"
   ]
  },
  {
   "cell_type": "code",
   "execution_count": 1,
   "id": "93424a69",
   "metadata": {},
   "outputs": [
    {
     "name": "stdout",
     "output_type": "stream",
     "text": [
      "Hello, World!\n"
     ]
    }
   ],
   "source": [
    "print (\"Hello, World!\")"
   ]
  },
  {
   "cell_type": "code",
   "execution_count": 2,
   "id": "9321eb38",
   "metadata": {},
   "outputs": [],
   "source": [
    "x = \"A\"\n",
    "y = \"B\"\n",
    "z = \"C\""
   ]
  },
  {
   "cell_type": "code",
   "execution_count": 4,
   "id": "598e2313",
   "metadata": {},
   "outputs": [
    {
     "name": "stdout",
     "output_type": "stream",
     "text": [
      "A\n",
      "B\n",
      "C\n"
     ]
    }
   ],
   "source": [
    "print(x)\n",
    "print(y)\n",
    "print(z)"
   ]
  },
  {
   "cell_type": "code",
   "execution_count": 5,
   "id": "ac295e48",
   "metadata": {},
   "outputs": [],
   "source": [
    "a = 3\n",
    "b =\"Python\""
   ]
  },
  {
   "cell_type": "code",
   "execution_count": 6,
   "id": "df104ce0",
   "metadata": {},
   "outputs": [
    {
     "name": "stdout",
     "output_type": "stream",
     "text": [
      "PythonPythonPython\n"
     ]
    }
   ],
   "source": [
    "print(a * b)"
   ]
  }
 ],
 "metadata": {
  "kernelspec": {
   "display_name": "Python 3 (ipykernel)",
   "language": "python",
   "name": "python3"
  },
  "language_info": {
   "codemirror_mode": {
    "name": "ipython",
    "version": 3
   },
   "file_extension": ".py",
   "mimetype": "text/x-python",
   "name": "python",
   "nbconvert_exporter": "python",
   "pygments_lexer": "ipython3",
   "version": "3.8.3"
  }
 },
 "nbformat": 4,
 "nbformat_minor": 5
}
