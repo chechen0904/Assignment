{
 "cells": [
  {
   "cell_type": "markdown",
   "id": "36b871bd",
   "metadata": {},
   "source": [
    "***Dataset from: http://insideairbnb.com/get-the-data.html***\n",
    "        \n",
    "***I choose Barcelona.***"
   ]
  },
  {
   "cell_type": "code",
   "execution_count": 1,
   "id": "169f7a5f",
   "metadata": {},
   "outputs": [],
   "source": [
    "import pandas as pd\n",
    "import numpy as np\n",
    "import os\n",
    "from pathlib import Path\n",
    "import sys\n",
    "import re\n",
    "from datetime import datetime\n",
    "func = \"../Function/\"\n",
    "sys.path.append(func)\n",
    "from py_helper_functions import *\n",
    "\n",
    "\n",
    "from patsy import dmatrices\n",
    "from sklearn.model_selection import train_test_split\n",
    "from mizani.formatters import percent_format\n",
    "from plotnine import *\n",
    "import matplotlib.pyplot as plt\n",
    "\n",
    "from skranger.ensemble import RangerForestRegressor\n",
    "from sklearn.model_selection import GridSearchCV\n",
    "from sklearn.model_selection import RandomizedSearchCV\n",
    "from sklearn.impute import SimpleImputer\n",
    "from sklearn.inspection import permutation_importance\n",
    "from sklearn.inspection import plot_partial_dependence\n",
    "from sklearn.inspection import partial_dependence\n",
    "from sklearn.compose import ColumnTransformer\n",
    "from sklearn.pipeline import Pipeline\n",
    "from sklearn.preprocessing import OneHotEncoder"
   ]
  },
  {
   "cell_type": "markdown",
   "id": "b8ba1d5b",
   "metadata": {},
   "source": [
    "***Import the data which I want to used.***"
   ]
  },
  {
   "cell_type": "code",
   "execution_count": 2,
   "id": "cffc93a5",
   "metadata": {},
   "outputs": [],
   "source": [
    "bcn = pd.read_csv('../Data/listings.csv')"
   ]
  },
  {
   "cell_type": "markdown",
   "id": "59a69cfb",
   "metadata": {},
   "source": [
    "***Check whether the city has more than 10K rows of data***"
   ]
  },
  {
   "cell_type": "code",
   "execution_count": 3,
   "id": "24a58889",
   "metadata": {},
   "outputs": [
    {
     "data": {
      "text/plain": [
       "16206"
      ]
     },
     "execution_count": 3,
     "metadata": {},
     "output_type": "execute_result"
    }
   ],
   "source": [
    "len(bcn)"
   ]
  },
  {
   "cell_type": "code",
   "execution_count": 4,
   "id": "8786e979",
   "metadata": {},
   "outputs": [
    {
     "data": {
      "text/plain": [
       "Entire rental unit                     7519\n",
       "Private room in rental unit            5768\n",
       "Entire serviced apartment               411\n",
       "Entire loft                             279\n",
       "Room in boutique hotel                  262\n",
       "Entire condominium (condo)              260\n",
       "Private room in condominium (condo)     242\n",
       "Private room in residential home        222\n",
       "Private room in hostel                  137\n",
       "Room in hotel                           134\n",
       "Private room in serviced apartment      129\n",
       "Shared room in hostel                    90\n",
       "Private room in bed and breakfast        83\n",
       "Private room in guest suite              78\n",
       "Entire residential home                  65\n",
       "Room in hostel                           59\n",
       "Private room in loft                     58\n",
       "Shared room in rental unit               57\n",
       "Entire guest suite                       40\n",
       "Room in serviced apartment               32\n",
       "Private room in casa particular          28\n",
       "Boat                                     28\n",
       "Private room                             23\n",
       "Private room in guesthouse               20\n",
       "Entire townhouse                         17\n",
       "Shared room in bed and breakfast         17\n",
       "Entire guesthouse                        17\n",
       "Private room in floor                    16\n",
       "Entire villa                             16\n",
       "Private room in townhouse                11\n",
       "Room in aparthotel                       10\n",
       "Private room in dome house               10\n",
       "Room in bed and breakfast                 9\n",
       "Private room in villa                     8\n",
       "Camper/RV                                 6\n",
       "Shared room in loft                       5\n",
       "Shared room in guest suite                5\n",
       "Private room in chalet                    4\n",
       "Shared room in residential home           3\n",
       "Private room in boat                      3\n",
       "Casa particular                           3\n",
       "Tiny house                                3\n",
       "Entire chalet                             3\n",
       "Entire home/apt                           2\n",
       "Shared room in serviced apartment         2\n",
       "Entire place                              2\n",
       "Private room in tiny house                2\n",
       "Private room in farm stay                 1\n",
       "Shared room in hotel                      1\n",
       "Shared room in floor                      1\n",
       "Shared room in condominium (condo)        1\n",
       "Private room in vacation home             1\n",
       "Shared room in guesthouse                 1\n",
       "Barn                                      1\n",
       "Floor                                     1\n",
       "Name: property_type, dtype: int64"
      ]
     },
     "execution_count": 4,
     "metadata": {},
     "output_type": "execute_result"
    }
   ],
   "source": [
    "bcn[\"property_type\"].value_counts()"
   ]
  },
  {
   "cell_type": "markdown",
   "id": "804b1045",
   "metadata": {},
   "source": [
    "***keep if property type > 100***"
   ]
  },
  {
   "cell_type": "code",
   "execution_count": 5,
   "id": "af8d6534",
   "metadata": {},
   "outputs": [],
   "source": [
    "bcn = bcn.loc[lambda x: x[\"property_type\"].isin([\"Entire rental unit\", \n",
    "                                                 \"Private room in rental unit\", \n",
    "                                                 \"Entire serviced apartment\", \n",
    "                                                 \"Entire loft\", \n",
    "                                                 \"Room in boutique hotel\", \n",
    "                                                 \"Entire condominium (condo)\", \n",
    "                                                 \"Private room in condominium (condo)\", \n",
    "                                                 \"Private room in residential home\", \n",
    "                                                 \"Private room in hostel\", \n",
    "                                                 \"Room in hotel\", \n",
    "                                                 \"Private room in serviced apartment\",\n",
    "                                                 \"Shared room in hostel\",\n",
    "                                                 \"Entire residential home\", \n",
    "                                                 \"Room in hostel\",\n",
    "                                                 \"Private room in loft\",\n",
    "                                                 \"Shared room in rental unit\"\n",
    "                                                ])]"
   ]
  },
  {
   "cell_type": "markdown",
   "id": "4267b4c3",
   "metadata": {},
   "source": [
    "***Re-classify the property type***"
   ]
  },
  {
   "cell_type": "code",
   "execution_count": 6,
   "id": "96e4a5fc",
   "metadata": {},
   "outputs": [],
   "source": [
    "bcn[\"property_type\"] = np.where(\n",
    "    bcn[\"property_type\"] == \"Private room in rental unit\", \n",
    "    \"Entire rental unit\", \n",
    "    bcn[\"property_type\"]\n",
    ")\n",
    "bcn[\"property_type\"] = np.where(\n",
    "    bcn[\"property_type\"] == \"Entire loft\", \n",
    "    \"Entire serviced apartment\", \n",
    "    bcn[\"property_type\"]\n",
    ")\n",
    "bcn[\"property_type\"] = np.where(\n",
    "    bcn[\"property_type\"] == \"Room in boutique hotel\", \n",
    "    \"Room in hotel\", \n",
    "    bcn[\"property_type\"]\n",
    ")\n",
    "bcn[\"property_type\"] = np.where(\n",
    "    bcn[\"property_type\"] == \"Entire condominium (condo)\", \n",
    "    \"Entire serviced apartment\", \n",
    "    bcn[\"property_type\"]\n",
    ")\n",
    "bcn[\"property_type\"] = np.where(\n",
    "    bcn[\"property_type\"] == \"Private room in condominium (condo)\", \n",
    "    \"Entire serviced apartment\", \n",
    "    bcn[\"property_type\"]\n",
    ")\n",
    "bcn[\"property_type\"] = np.where(\n",
    "    bcn[\"property_type\"] == \"Private room in residential home\", \n",
    "    \"Entire serviced apartment\", \n",
    "    bcn[\"property_type\"]\n",
    ")\n",
    "bcn[\"property_type\"] = np.where(\n",
    "    bcn[\"property_type\"] == \"Private room in hostel\", \n",
    "    \"Room in hotel\", \n",
    "    bcn[\"property_type\"]\n",
    ")\n",
    "bcn[\"property_type\"] = np.where(\n",
    "    bcn[\"property_type\"] == \"Private room in serviced apartment\", \n",
    "    \"Entire serviced apartment\", \n",
    "    bcn[\"property_type\"]\n",
    ")\n",
    "bcn[\"property_type\"] = np.where(\n",
    "    bcn[\"property_type\"] == \"Shared room in hostel\", \n",
    "    \"Room in hotel\", \n",
    "    bcn[\"property_type\"]\n",
    ")\n",
    "bcn[\"property_type\"] = np.where(\n",
    "    bcn[\"property_type\"] == \"Entire residential home\", \n",
    "    \"Entire serviced apartment\", \n",
    "    bcn[\"property_type\"]\n",
    ")\n",
    "bcn[\"property_type\"] = np.where(\n",
    "    bcn[\"property_type\"] == \"Room in hostel\", \n",
    "    \"Room in hotel\", \n",
    "    bcn[\"property_type\"]\n",
    ")\n",
    "bcn[\"property_type\"] = np.where(\n",
    "    bcn[\"property_type\"] == \"Private room in loft\", \n",
    "    \"Entire serviced apartment\", \n",
    "    bcn[\"property_type\"]\n",
    ")\n",
    "bcn[\"property_type\"] = np.where(\n",
    "    bcn[\"property_type\"] == \"Shared room in rental unit\", \n",
    "    \"Entire rental unit\", \n",
    "    bcn[\"property_type\"]\n",
    ")"
   ]
  },
  {
   "cell_type": "markdown",
   "id": "62e27f7e",
   "metadata": {},
   "source": [
    "***Rename the property type, make it shorter***"
   ]
  },
  {
   "cell_type": "code",
   "execution_count": 7,
   "id": "41253375",
   "metadata": {},
   "outputs": [],
   "source": [
    "bcn[\"property_type\"] = bcn[\"property_type\"].map(\n",
    "    {\n",
    "        \"Entire rental unit\": \"Rental unit\",\n",
    "        \"Entire serviced apartment\": \"Apartment\",\n",
    "        \"Room in hotel\": \"Hotel\"\n",
    "    }\n",
    ")"
   ]
  },
  {
   "cell_type": "markdown",
   "id": "c8cbf4bf",
   "metadata": {},
   "source": [
    "***Property type as factor***"
   ]
  },
  {
   "cell_type": "code",
   "execution_count": 8,
   "id": "457f7208",
   "metadata": {},
   "outputs": [],
   "source": [
    "bcn[\"f_property_type\"] = bcn[\"property_type\"].astype(\"category\")"
   ]
  },
  {
   "cell_type": "code",
   "execution_count": 9,
   "id": "d020a58f",
   "metadata": {},
   "outputs": [
    {
     "data": {
      "text/plain": [
       "Rental unit    13344\n",
       "Apartment       1666\n",
       "Hotel            682\n",
       "Name: property_type, dtype: int64"
      ]
     },
     "execution_count": 9,
     "metadata": {},
     "output_type": "execute_result"
    }
   ],
   "source": [
    "bcn[\"property_type\"].value_counts()"
   ]
  },
  {
   "cell_type": "code",
   "execution_count": 10,
   "id": "1e9ba5c1",
   "metadata": {},
   "outputs": [
    {
     "data": {
      "text/plain": [
       "Entire home/apt    8534\n",
       "Private room       6813\n",
       "Hotel room          198\n",
       "Shared room         147\n",
       "Name: room_type, dtype: int64"
      ]
     },
     "execution_count": 10,
     "metadata": {},
     "output_type": "execute_result"
    }
   ],
   "source": [
    "bcn[\"room_type\"].value_counts()"
   ]
  },
  {
   "cell_type": "markdown",
   "id": "92a360ab",
   "metadata": {},
   "source": [
    "***Room type as factor***"
   ]
  },
  {
   "cell_type": "code",
   "execution_count": 11,
   "id": "923a77b8",
   "metadata": {},
   "outputs": [],
   "source": [
    "bcn[\"f_room_type\"] = bcn[\"room_type\"].astype(\"category\")"
   ]
  },
  {
   "cell_type": "markdown",
   "id": "15f9e950",
   "metadata": {},
   "source": [
    "***Rename the room type, make it shorter***"
   ]
  },
  {
   "cell_type": "code",
   "execution_count": 12,
   "id": "3f7f2840",
   "metadata": {},
   "outputs": [],
   "source": [
    "bcn[\"f_room_type2\"] = bcn[\"f_room_type\"].map(\n",
    "    {\n",
    "        \"Entire home/apt\": \"Entire/Apt\",\n",
    "        \"Private room\": \"Private\",\n",
    "        \"Hotel room\": \"Hotel\",\n",
    "        \"Shared room\": \"Shared\"\n",
    "    }\n",
    ")"
   ]
  },
  {
   "cell_type": "code",
   "execution_count": 13,
   "id": "98656317",
   "metadata": {},
   "outputs": [
    {
     "data": {
      "text/html": [
       "<div>\n",
       "<style scoped>\n",
       "    .dataframe tbody tr th:only-of-type {\n",
       "        vertical-align: middle;\n",
       "    }\n",
       "\n",
       "    .dataframe tbody tr th {\n",
       "        vertical-align: top;\n",
       "    }\n",
       "\n",
       "    .dataframe thead th {\n",
       "        text-align: right;\n",
       "    }\n",
       "</style>\n",
       "<table border=\"1\" class=\"dataframe\">\n",
       "  <thead>\n",
       "    <tr style=\"text-align: right;\">\n",
       "      <th></th>\n",
       "      <th>0</th>\n",
       "      <th>1</th>\n",
       "    </tr>\n",
       "  </thead>\n",
       "  <tbody>\n",
       "    <tr>\n",
       "      <th>id</th>\n",
       "      <td>18674</td>\n",
       "      <td>23197</td>\n",
       "    </tr>\n",
       "    <tr>\n",
       "      <th>listing_url</th>\n",
       "      <td>https://www.airbnb.com/rooms/18674</td>\n",
       "      <td>https://www.airbnb.com/rooms/23197</td>\n",
       "    </tr>\n",
       "    <tr>\n",
       "      <th>scrape_id</th>\n",
       "      <td>20210910193102</td>\n",
       "      <td>20210910193102</td>\n",
       "    </tr>\n",
       "    <tr>\n",
       "      <th>last_scraped</th>\n",
       "      <td>2021-09-10</td>\n",
       "      <td>2021-09-11</td>\n",
       "    </tr>\n",
       "    <tr>\n",
       "      <th>name</th>\n",
       "      <td>Huge flat for 8 people close to Sagrada Familia</td>\n",
       "      <td>Forum CCIB DeLuxe★Spacious &amp;Elegant★Large Balcony</td>\n",
       "    </tr>\n",
       "    <tr>\n",
       "      <th>description</th>\n",
       "      <td>110m2 apartment to rent in Barcelona. Located ...</td>\n",
       "      <td>Beautiful spacious apartment, large terrace, 5...</td>\n",
       "    </tr>\n",
       "    <tr>\n",
       "      <th>neighborhood_overview</th>\n",
       "      <td>Apartment in Barcelona located in the heart of...</td>\n",
       "      <td>Strategically located in the Parc del Fòrum ar...</td>\n",
       "    </tr>\n",
       "    <tr>\n",
       "      <th>picture_url</th>\n",
       "      <td>https://a0.muscache.com/pictures/13031453/413c...</td>\n",
       "      <td>https://a0.muscache.com/pictures/738532/806da1...</td>\n",
       "    </tr>\n",
       "    <tr>\n",
       "      <th>host_id</th>\n",
       "      <td>71615</td>\n",
       "      <td>90417</td>\n",
       "    </tr>\n",
       "    <tr>\n",
       "      <th>host_url</th>\n",
       "      <td>https://www.airbnb.com/users/show/71615</td>\n",
       "      <td>https://www.airbnb.com/users/show/90417</td>\n",
       "    </tr>\n",
       "    <tr>\n",
       "      <th>host_name</th>\n",
       "      <td>Mireia And Maria</td>\n",
       "      <td>Etain (Marnie)</td>\n",
       "    </tr>\n",
       "    <tr>\n",
       "      <th>host_since</th>\n",
       "      <td>2010-01-19</td>\n",
       "      <td>2010-03-09</td>\n",
       "    </tr>\n",
       "    <tr>\n",
       "      <th>host_location</th>\n",
       "      <td>Barcelona, Catalonia, Spain</td>\n",
       "      <td>Catalonia, Spain</td>\n",
       "    </tr>\n",
       "    <tr>\n",
       "      <th>host_about</th>\n",
       "      <td>We are Mireia (43) &amp; Maria (45), two multiling...</td>\n",
       "      <td>Hi.  I'm Etain, though everyone calls me by my...</td>\n",
       "    </tr>\n",
       "    <tr>\n",
       "      <th>host_response_time</th>\n",
       "      <td>within an hour</td>\n",
       "      <td>within an hour</td>\n",
       "    </tr>\n",
       "    <tr>\n",
       "      <th>host_response_rate</th>\n",
       "      <td>100%</td>\n",
       "      <td>100%</td>\n",
       "    </tr>\n",
       "    <tr>\n",
       "      <th>host_acceptance_rate</th>\n",
       "      <td>83%</td>\n",
       "      <td>70%</td>\n",
       "    </tr>\n",
       "    <tr>\n",
       "      <th>host_is_superhost</th>\n",
       "      <td>f</td>\n",
       "      <td>f</td>\n",
       "    </tr>\n",
       "    <tr>\n",
       "      <th>host_thumbnail_url</th>\n",
       "      <td>https://a0.muscache.com/im/users/71615/profile...</td>\n",
       "      <td>https://a0.muscache.com/im/users/90417/profile...</td>\n",
       "    </tr>\n",
       "    <tr>\n",
       "      <th>host_picture_url</th>\n",
       "      <td>https://a0.muscache.com/im/users/71615/profile...</td>\n",
       "      <td>https://a0.muscache.com/im/users/90417/profile...</td>\n",
       "    </tr>\n",
       "    <tr>\n",
       "      <th>host_neighbourhood</th>\n",
       "      <td>la Sagrada Família</td>\n",
       "      <td>El Besòs i el Maresme</td>\n",
       "    </tr>\n",
       "    <tr>\n",
       "      <th>host_listings_count</th>\n",
       "      <td>35</td>\n",
       "      <td>2</td>\n",
       "    </tr>\n",
       "    <tr>\n",
       "      <th>host_total_listings_count</th>\n",
       "      <td>35</td>\n",
       "      <td>2</td>\n",
       "    </tr>\n",
       "    <tr>\n",
       "      <th>host_verifications</th>\n",
       "      <td>['email', 'phone', 'reviews', 'jumio', 'govern...</td>\n",
       "      <td>['email', 'phone', 'reviews', 'jumio', 'offlin...</td>\n",
       "    </tr>\n",
       "    <tr>\n",
       "      <th>host_has_profile_pic</th>\n",
       "      <td>t</td>\n",
       "      <td>t</td>\n",
       "    </tr>\n",
       "    <tr>\n",
       "      <th>host_identity_verified</th>\n",
       "      <td>t</td>\n",
       "      <td>t</td>\n",
       "    </tr>\n",
       "    <tr>\n",
       "      <th>neighbourhood</th>\n",
       "      <td>Barcelona, CT, Spain</td>\n",
       "      <td>Sant Adria de Besos, Barcelona, Spain</td>\n",
       "    </tr>\n",
       "    <tr>\n",
       "      <th>neighbourhood_cleansed</th>\n",
       "      <td>la Sagrada Família</td>\n",
       "      <td>el Besòs i el Maresme</td>\n",
       "    </tr>\n",
       "    <tr>\n",
       "      <th>neighbourhood_group_cleansed</th>\n",
       "      <td>Eixample</td>\n",
       "      <td>Sant Martí</td>\n",
       "    </tr>\n",
       "    <tr>\n",
       "      <th>latitude</th>\n",
       "      <td>41.4056</td>\n",
       "      <td>41.4129</td>\n",
       "    </tr>\n",
       "    <tr>\n",
       "      <th>longitude</th>\n",
       "      <td>2.17262</td>\n",
       "      <td>2.22063</td>\n",
       "    </tr>\n",
       "    <tr>\n",
       "      <th>property_type</th>\n",
       "      <td>Rental unit</td>\n",
       "      <td>Rental unit</td>\n",
       "    </tr>\n",
       "    <tr>\n",
       "      <th>room_type</th>\n",
       "      <td>Entire home/apt</td>\n",
       "      <td>Entire home/apt</td>\n",
       "    </tr>\n",
       "    <tr>\n",
       "      <th>accommodates</th>\n",
       "      <td>8</td>\n",
       "      <td>6</td>\n",
       "    </tr>\n",
       "    <tr>\n",
       "      <th>bathrooms</th>\n",
       "      <td>NaN</td>\n",
       "      <td>NaN</td>\n",
       "    </tr>\n",
       "    <tr>\n",
       "      <th>bathrooms_text</th>\n",
       "      <td>2 baths</td>\n",
       "      <td>2 baths</td>\n",
       "    </tr>\n",
       "    <tr>\n",
       "      <th>bedrooms</th>\n",
       "      <td>3</td>\n",
       "      <td>3</td>\n",
       "    </tr>\n",
       "    <tr>\n",
       "      <th>beds</th>\n",
       "      <td>6</td>\n",
       "      <td>5</td>\n",
       "    </tr>\n",
       "    <tr>\n",
       "      <th>amenities</th>\n",
       "      <td>[\"TV\", \"Wifi\", \"Hair dryer\", \"Washer\", \"Dedica...</td>\n",
       "      <td>[\"TV\", \"Washer\", \"Bed linens\", \"Hangers\", \"Pai...</td>\n",
       "    </tr>\n",
       "    <tr>\n",
       "      <th>price</th>\n",
       "      <td>$121.00</td>\n",
       "      <td>$229.00</td>\n",
       "    </tr>\n",
       "    <tr>\n",
       "      <th>minimum_nights</th>\n",
       "      <td>1</td>\n",
       "      <td>4</td>\n",
       "    </tr>\n",
       "    <tr>\n",
       "      <th>maximum_nights</th>\n",
       "      <td>1125</td>\n",
       "      <td>300</td>\n",
       "    </tr>\n",
       "    <tr>\n",
       "      <th>minimum_minimum_nights</th>\n",
       "      <td>1</td>\n",
       "      <td>4</td>\n",
       "    </tr>\n",
       "    <tr>\n",
       "      <th>maximum_minimum_nights</th>\n",
       "      <td>3</td>\n",
       "      <td>7</td>\n",
       "    </tr>\n",
       "    <tr>\n",
       "      <th>minimum_maximum_nights</th>\n",
       "      <td>1125</td>\n",
       "      <td>1125</td>\n",
       "    </tr>\n",
       "    <tr>\n",
       "      <th>maximum_maximum_nights</th>\n",
       "      <td>1125</td>\n",
       "      <td>1125</td>\n",
       "    </tr>\n",
       "    <tr>\n",
       "      <th>minimum_nights_avg_ntm</th>\n",
       "      <td>1.6</td>\n",
       "      <td>4.1</td>\n",
       "    </tr>\n",
       "    <tr>\n",
       "      <th>maximum_nights_avg_ntm</th>\n",
       "      <td>1125</td>\n",
       "      <td>1125</td>\n",
       "    </tr>\n",
       "    <tr>\n",
       "      <th>calendar_updated</th>\n",
       "      <td>NaN</td>\n",
       "      <td>NaN</td>\n",
       "    </tr>\n",
       "    <tr>\n",
       "      <th>has_availability</th>\n",
       "      <td>t</td>\n",
       "      <td>t</td>\n",
       "    </tr>\n",
       "    <tr>\n",
       "      <th>availability_30</th>\n",
       "      <td>1</td>\n",
       "      <td>22</td>\n",
       "    </tr>\n",
       "    <tr>\n",
       "      <th>availability_60</th>\n",
       "      <td>26</td>\n",
       "      <td>52</td>\n",
       "    </tr>\n",
       "    <tr>\n",
       "      <th>availability_90</th>\n",
       "      <td>50</td>\n",
       "      <td>82</td>\n",
       "    </tr>\n",
       "    <tr>\n",
       "      <th>availability_365</th>\n",
       "      <td>58</td>\n",
       "      <td>128</td>\n",
       "    </tr>\n",
       "    <tr>\n",
       "      <th>calendar_last_scraped</th>\n",
       "      <td>2021-09-10</td>\n",
       "      <td>2021-09-11</td>\n",
       "    </tr>\n",
       "    <tr>\n",
       "      <th>number_of_reviews</th>\n",
       "      <td>21</td>\n",
       "      <td>52</td>\n",
       "    </tr>\n",
       "    <tr>\n",
       "      <th>number_of_reviews_ltm</th>\n",
       "      <td>0</td>\n",
       "      <td>0</td>\n",
       "    </tr>\n",
       "    <tr>\n",
       "      <th>number_of_reviews_l30d</th>\n",
       "      <td>0</td>\n",
       "      <td>0</td>\n",
       "    </tr>\n",
       "    <tr>\n",
       "      <th>first_review</th>\n",
       "      <td>2014-03-02</td>\n",
       "      <td>2016-01-05</td>\n",
       "    </tr>\n",
       "    <tr>\n",
       "      <th>last_review</th>\n",
       "      <td>2019-10-11</td>\n",
       "      <td>2019-12-15</td>\n",
       "    </tr>\n",
       "    <tr>\n",
       "      <th>review_scores_rating</th>\n",
       "      <td>4.4</td>\n",
       "      <td>4.74</td>\n",
       "    </tr>\n",
       "    <tr>\n",
       "      <th>review_scores_accuracy</th>\n",
       "      <td>4.55</td>\n",
       "      <td>4.92</td>\n",
       "    </tr>\n",
       "    <tr>\n",
       "      <th>review_scores_cleanliness</th>\n",
       "      <td>4.75</td>\n",
       "      <td>4.92</td>\n",
       "    </tr>\n",
       "    <tr>\n",
       "      <th>review_scores_checkin</th>\n",
       "      <td>4.8</td>\n",
       "      <td>4.94</td>\n",
       "    </tr>\n",
       "    <tr>\n",
       "      <th>review_scores_communication</th>\n",
       "      <td>4.9</td>\n",
       "      <td>4.98</td>\n",
       "    </tr>\n",
       "    <tr>\n",
       "      <th>review_scores_location</th>\n",
       "      <td>4.75</td>\n",
       "      <td>4.67</td>\n",
       "    </tr>\n",
       "    <tr>\n",
       "      <th>review_scores_value</th>\n",
       "      <td>4.3</td>\n",
       "      <td>4.69</td>\n",
       "    </tr>\n",
       "    <tr>\n",
       "      <th>license</th>\n",
       "      <td>HUTB-002062</td>\n",
       "      <td>HUTB-005057</td>\n",
       "    </tr>\n",
       "    <tr>\n",
       "      <th>instant_bookable</th>\n",
       "      <td>t</td>\n",
       "      <td>f</td>\n",
       "    </tr>\n",
       "    <tr>\n",
       "      <th>calculated_host_listings_count</th>\n",
       "      <td>19</td>\n",
       "      <td>2</td>\n",
       "    </tr>\n",
       "    <tr>\n",
       "      <th>calculated_host_listings_count_entire_homes</th>\n",
       "      <td>19</td>\n",
       "      <td>2</td>\n",
       "    </tr>\n",
       "    <tr>\n",
       "      <th>calculated_host_listings_count_private_rooms</th>\n",
       "      <td>0</td>\n",
       "      <td>0</td>\n",
       "    </tr>\n",
       "    <tr>\n",
       "      <th>calculated_host_listings_count_shared_rooms</th>\n",
       "      <td>0</td>\n",
       "      <td>0</td>\n",
       "    </tr>\n",
       "    <tr>\n",
       "      <th>reviews_per_month</th>\n",
       "      <td>0.23</td>\n",
       "      <td>0.75</td>\n",
       "    </tr>\n",
       "    <tr>\n",
       "      <th>f_property_type</th>\n",
       "      <td>Rental unit</td>\n",
       "      <td>Rental unit</td>\n",
       "    </tr>\n",
       "    <tr>\n",
       "      <th>f_room_type</th>\n",
       "      <td>Entire home/apt</td>\n",
       "      <td>Entire home/apt</td>\n",
       "    </tr>\n",
       "    <tr>\n",
       "      <th>f_room_type2</th>\n",
       "      <td>Entire/Apt</td>\n",
       "      <td>Entire/Apt</td>\n",
       "    </tr>\n",
       "  </tbody>\n",
       "</table>\n",
       "</div>"
      ],
      "text/plain": [
       "                                                                                              0  \\\n",
       "id                                                                                        18674   \n",
       "listing_url                                                  https://www.airbnb.com/rooms/18674   \n",
       "scrape_id                                                                        20210910193102   \n",
       "last_scraped                                                                         2021-09-10   \n",
       "name                                            Huge flat for 8 people close to Sagrada Familia   \n",
       "description                                   110m2 apartment to rent in Barcelona. Located ...   \n",
       "neighborhood_overview                         Apartment in Barcelona located in the heart of...   \n",
       "picture_url                                   https://a0.muscache.com/pictures/13031453/413c...   \n",
       "host_id                                                                                   71615   \n",
       "host_url                                                https://www.airbnb.com/users/show/71615   \n",
       "host_name                                                                      Mireia And Maria   \n",
       "host_since                                                                           2010-01-19   \n",
       "host_location                                                       Barcelona, Catalonia, Spain   \n",
       "host_about                                    We are Mireia (43) & Maria (45), two multiling...   \n",
       "host_response_time                                                               within an hour   \n",
       "host_response_rate                                                                         100%   \n",
       "host_acceptance_rate                                                                        83%   \n",
       "host_is_superhost                                                                             f   \n",
       "host_thumbnail_url                            https://a0.muscache.com/im/users/71615/profile...   \n",
       "host_picture_url                              https://a0.muscache.com/im/users/71615/profile...   \n",
       "host_neighbourhood                                                           la Sagrada Família   \n",
       "host_listings_count                                                                          35   \n",
       "host_total_listings_count                                                                    35   \n",
       "host_verifications                            ['email', 'phone', 'reviews', 'jumio', 'govern...   \n",
       "host_has_profile_pic                                                                          t   \n",
       "host_identity_verified                                                                        t   \n",
       "neighbourhood                                                              Barcelona, CT, Spain   \n",
       "neighbourhood_cleansed                                                       la Sagrada Família   \n",
       "neighbourhood_group_cleansed                                                           Eixample   \n",
       "latitude                                                                                41.4056   \n",
       "longitude                                                                               2.17262   \n",
       "property_type                                                                       Rental unit   \n",
       "room_type                                                                       Entire home/apt   \n",
       "accommodates                                                                                  8   \n",
       "bathrooms                                                                                   NaN   \n",
       "bathrooms_text                                                                          2 baths   \n",
       "bedrooms                                                                                      3   \n",
       "beds                                                                                          6   \n",
       "amenities                                     [\"TV\", \"Wifi\", \"Hair dryer\", \"Washer\", \"Dedica...   \n",
       "price                                                                                   $121.00   \n",
       "minimum_nights                                                                                1   \n",
       "maximum_nights                                                                             1125   \n",
       "minimum_minimum_nights                                                                        1   \n",
       "maximum_minimum_nights                                                                        3   \n",
       "minimum_maximum_nights                                                                     1125   \n",
       "maximum_maximum_nights                                                                     1125   \n",
       "minimum_nights_avg_ntm                                                                      1.6   \n",
       "maximum_nights_avg_ntm                                                                     1125   \n",
       "calendar_updated                                                                            NaN   \n",
       "has_availability                                                                              t   \n",
       "availability_30                                                                               1   \n",
       "availability_60                                                                              26   \n",
       "availability_90                                                                              50   \n",
       "availability_365                                                                             58   \n",
       "calendar_last_scraped                                                                2021-09-10   \n",
       "number_of_reviews                                                                            21   \n",
       "number_of_reviews_ltm                                                                         0   \n",
       "number_of_reviews_l30d                                                                        0   \n",
       "first_review                                                                         2014-03-02   \n",
       "last_review                                                                          2019-10-11   \n",
       "review_scores_rating                                                                        4.4   \n",
       "review_scores_accuracy                                                                     4.55   \n",
       "review_scores_cleanliness                                                                  4.75   \n",
       "review_scores_checkin                                                                       4.8   \n",
       "review_scores_communication                                                                 4.9   \n",
       "review_scores_location                                                                     4.75   \n",
       "review_scores_value                                                                         4.3   \n",
       "license                                                                             HUTB-002062   \n",
       "instant_bookable                                                                              t   \n",
       "calculated_host_listings_count                                                               19   \n",
       "calculated_host_listings_count_entire_homes                                                  19   \n",
       "calculated_host_listings_count_private_rooms                                                  0   \n",
       "calculated_host_listings_count_shared_rooms                                                   0   \n",
       "reviews_per_month                                                                          0.23   \n",
       "f_property_type                                                                     Rental unit   \n",
       "f_room_type                                                                     Entire home/apt   \n",
       "f_room_type2                                                                         Entire/Apt   \n",
       "\n",
       "                                                                                              1  \n",
       "id                                                                                        23197  \n",
       "listing_url                                                  https://www.airbnb.com/rooms/23197  \n",
       "scrape_id                                                                        20210910193102  \n",
       "last_scraped                                                                         2021-09-11  \n",
       "name                                          Forum CCIB DeLuxe★Spacious &Elegant★Large Balcony  \n",
       "description                                   Beautiful spacious apartment, large terrace, 5...  \n",
       "neighborhood_overview                         Strategically located in the Parc del Fòrum ar...  \n",
       "picture_url                                   https://a0.muscache.com/pictures/738532/806da1...  \n",
       "host_id                                                                                   90417  \n",
       "host_url                                                https://www.airbnb.com/users/show/90417  \n",
       "host_name                                                                        Etain (Marnie)  \n",
       "host_since                                                                           2010-03-09  \n",
       "host_location                                                                  Catalonia, Spain  \n",
       "host_about                                    Hi.  I'm Etain, though everyone calls me by my...  \n",
       "host_response_time                                                               within an hour  \n",
       "host_response_rate                                                                         100%  \n",
       "host_acceptance_rate                                                                        70%  \n",
       "host_is_superhost                                                                             f  \n",
       "host_thumbnail_url                            https://a0.muscache.com/im/users/90417/profile...  \n",
       "host_picture_url                              https://a0.muscache.com/im/users/90417/profile...  \n",
       "host_neighbourhood                                                        El Besòs i el Maresme  \n",
       "host_listings_count                                                                           2  \n",
       "host_total_listings_count                                                                     2  \n",
       "host_verifications                            ['email', 'phone', 'reviews', 'jumio', 'offlin...  \n",
       "host_has_profile_pic                                                                          t  \n",
       "host_identity_verified                                                                        t  \n",
       "neighbourhood                                             Sant Adria de Besos, Barcelona, Spain  \n",
       "neighbourhood_cleansed                                                    el Besòs i el Maresme  \n",
       "neighbourhood_group_cleansed                                                         Sant Martí  \n",
       "latitude                                                                                41.4129  \n",
       "longitude                                                                               2.22063  \n",
       "property_type                                                                       Rental unit  \n",
       "room_type                                                                       Entire home/apt  \n",
       "accommodates                                                                                  6  \n",
       "bathrooms                                                                                   NaN  \n",
       "bathrooms_text                                                                          2 baths  \n",
       "bedrooms                                                                                      3  \n",
       "beds                                                                                          5  \n",
       "amenities                                     [\"TV\", \"Washer\", \"Bed linens\", \"Hangers\", \"Pai...  \n",
       "price                                                                                   $229.00  \n",
       "minimum_nights                                                                                4  \n",
       "maximum_nights                                                                              300  \n",
       "minimum_minimum_nights                                                                        4  \n",
       "maximum_minimum_nights                                                                        7  \n",
       "minimum_maximum_nights                                                                     1125  \n",
       "maximum_maximum_nights                                                                     1125  \n",
       "minimum_nights_avg_ntm                                                                      4.1  \n",
       "maximum_nights_avg_ntm                                                                     1125  \n",
       "calendar_updated                                                                            NaN  \n",
       "has_availability                                                                              t  \n",
       "availability_30                                                                              22  \n",
       "availability_60                                                                              52  \n",
       "availability_90                                                                              82  \n",
       "availability_365                                                                            128  \n",
       "calendar_last_scraped                                                                2021-09-11  \n",
       "number_of_reviews                                                                            52  \n",
       "number_of_reviews_ltm                                                                         0  \n",
       "number_of_reviews_l30d                                                                        0  \n",
       "first_review                                                                         2016-01-05  \n",
       "last_review                                                                          2019-12-15  \n",
       "review_scores_rating                                                                       4.74  \n",
       "review_scores_accuracy                                                                     4.92  \n",
       "review_scores_cleanliness                                                                  4.92  \n",
       "review_scores_checkin                                                                      4.94  \n",
       "review_scores_communication                                                                4.98  \n",
       "review_scores_location                                                                     4.67  \n",
       "review_scores_value                                                                        4.69  \n",
       "license                                                                             HUTB-005057  \n",
       "instant_bookable                                                                              f  \n",
       "calculated_host_listings_count                                                                2  \n",
       "calculated_host_listings_count_entire_homes                                                   2  \n",
       "calculated_host_listings_count_private_rooms                                                  0  \n",
       "calculated_host_listings_count_shared_rooms                                                   0  \n",
       "reviews_per_month                                                                          0.75  \n",
       "f_property_type                                                                     Rental unit  \n",
       "f_room_type                                                                     Entire home/apt  \n",
       "f_room_type2                                                                         Entire/Apt  "
      ]
     },
     "execution_count": 13,
     "metadata": {},
     "output_type": "execute_result"
    }
   ],
   "source": [
    "pd.set_option('display.max_rows',None)\n",
    "bcn.head(2).transpose()"
   ]
  },
  {
   "cell_type": "code",
   "execution_count": 14,
   "id": "d0fad118",
   "metadata": {},
   "outputs": [
    {
     "data": {
      "text/plain": [
       "1 bath               6252\n",
       "1 shared bath        3113\n",
       "2 baths              2623\n",
       "1 private bath       1082\n",
       "1.5 baths             685\n",
       "1.5 shared baths      681\n",
       "2 shared baths        521\n",
       "3 baths               200\n",
       "2.5 baths             108\n",
       "4 baths                73\n",
       "3 shared baths         53\n",
       "2.5 shared baths       50\n",
       "3.5 baths              32\n",
       "0 shared baths         28\n",
       "Private half-bath      27\n",
       "5 baths                21\n",
       "0 baths                20\n",
       "Shared half-bath       18\n",
       "3.5 shared baths       14\n",
       "6 baths                14\n",
       "11 shared baths        14\n",
       "Half-bath              13\n",
       "4 shared baths         10\n",
       "4.5 baths               5\n",
       "5.5 baths               4\n",
       "8 baths                 3\n",
       "7 shared baths          3\n",
       "4.5 shared baths        2\n",
       "7.5 baths               2\n",
       "8 shared baths          2\n",
       "16 baths                1\n",
       "5 shared baths          1\n",
       "7 baths                 1\n",
       "7.5 shared baths        1\n",
       "Name: bathrooms_text, dtype: int64"
      ]
     },
     "execution_count": 14,
     "metadata": {},
     "output_type": "execute_result"
    }
   ],
   "source": [
    "bcn[\"bathrooms_text\"].value_counts()"
   ]
  },
  {
   "cell_type": "markdown",
   "id": "b315b0e3",
   "metadata": {},
   "source": [
    "***Rename the bathrooms type***"
   ]
  },
  {
   "cell_type": "code",
   "execution_count": 15,
   "id": "28c09df5",
   "metadata": {},
   "outputs": [],
   "source": [
    "bcn[\"bathrooms_text\"] = np.where(\n",
    "    bcn[\"bathrooms_text\"] == \"0 shared baths\", \n",
    "    \"0 baths\", \n",
    "    bcn[\"bathrooms_text\"]\n",
    ")\n",
    "bcn[\"bathrooms_text\"] = np.where(\n",
    "    bcn[\"bathrooms_text\"] == \"Private half-bath\", \n",
    "    \"Half-bath\", \n",
    "    bcn[\"bathrooms_text\"]\n",
    ")\n",
    "bcn[\"bathrooms_text\"] = np.where(\n",
    "    bcn[\"bathrooms_text\"] == \"Shared half-bath\", \n",
    "    \"Half-bath\", \n",
    "    bcn[\"bathrooms_text\"]\n",
    ")\n",
    "bcn[\"bathrooms_text\"] = np.where(\n",
    "    bcn[\"bathrooms_text\"] == \"1 shared bath\", \n",
    "    \"1 bath\", \n",
    "    bcn[\"bathrooms_text\"]\n",
    ")\n",
    "bcn[\"bathrooms_text\"] = np.where(\n",
    "    bcn[\"bathrooms_text\"] == \"1 private bath\", \n",
    "    \"1 bath\", \n",
    "    bcn[\"bathrooms_text\"]\n",
    ")\n",
    "bcn[\"bathrooms_text\"] = np.where(\n",
    "    bcn[\"bathrooms_text\"] == \"1.5 shared baths\", \n",
    "    \"1.5 baths\", \n",
    "    bcn[\"bathrooms_text\"]\n",
    ")\n",
    "bcn[\"bathrooms_text\"] = np.where(\n",
    "    bcn[\"bathrooms_text\"] == \"2 shared baths\", \n",
    "    \"2 baths\", \n",
    "    bcn[\"bathrooms_text\"]\n",
    ")\n",
    "bcn[\"bathrooms_text\"] = np.where(\n",
    "    bcn[\"bathrooms_text\"] == \"2.5 shared baths\", \n",
    "    \"2.5 baths\", \n",
    "    bcn[\"bathrooms_text\"]\n",
    ")\n",
    "bcn[\"bathrooms_text\"] = np.where(\n",
    "    bcn[\"bathrooms_text\"] == \"3 shared baths\", \n",
    "    \"3 baths\", \n",
    "    bcn[\"bathrooms_text\"]\n",
    ")\n",
    "bcn[\"bathrooms_text\"] = np.where(\n",
    "    bcn[\"bathrooms_text\"] == \"3.5 shared baths\", \n",
    "    \"3.5 baths\", \n",
    "    bcn[\"bathrooms_text\"]\n",
    ")\n",
    "bcn[\"bathrooms_text\"] = np.where(\n",
    "    bcn[\"bathrooms_text\"] == \"4 shared baths\", \n",
    "    \"4 baths\", \n",
    "    bcn[\"bathrooms_text\"]\n",
    ")\n",
    "bcn[\"bathrooms_text\"] = np.where(\n",
    "    bcn[\"bathrooms_text\"] == \"4.5 shared baths\", \n",
    "    \"4.5 baths\", \n",
    "    bcn[\"bathrooms_text\"]\n",
    ")\n",
    "bcn[\"bathrooms_text\"] = np.where(\n",
    "    bcn[\"bathrooms_text\"] == \"5 shared baths\", \n",
    "    \"5 baths\", \n",
    "    bcn[\"bathrooms_text\"]\n",
    ")\n",
    "bcn[\"bathrooms_text\"] = np.where(\n",
    "    bcn[\"bathrooms_text\"] == \"7 shared baths\", \n",
    "    \"7 baths\", \n",
    "    bcn[\"bathrooms_text\"]\n",
    ")\n",
    "bcn[\"bathrooms_text\"] = np.where(\n",
    "    bcn[\"bathrooms_text\"] == \"7.5 shared baths\", \n",
    "    \"7.5 baths\", \n",
    "    bcn[\"bathrooms_text\"]\n",
    ")"
   ]
  },
  {
   "cell_type": "code",
   "execution_count": 16,
   "id": "0cf4eaf0",
   "metadata": {},
   "outputs": [
    {
     "data": {
      "text/plain": [
       "1 bath             10447\n",
       "2 baths             3144\n",
       "1.5 baths           1366\n",
       "3 baths              253\n",
       "2.5 baths            158\n",
       "4 baths               83\n",
       "Half-bath             58\n",
       "0 baths               48\n",
       "3.5 baths             46\n",
       "5 baths               22\n",
       "11 shared baths       14\n",
       "6 baths               14\n",
       "4.5 baths              7\n",
       "7 baths                4\n",
       "5.5 baths              4\n",
       "8 baths                3\n",
       "7.5 baths              3\n",
       "8 shared baths         2\n",
       "16 baths               1\n",
       "Name: bathrooms_text, dtype: int64"
      ]
     },
     "execution_count": 16,
     "metadata": {},
     "output_type": "execute_result"
    }
   ],
   "source": [
    "bcn[\"bathrooms_text\"].value_counts()"
   ]
  },
  {
   "cell_type": "code",
   "execution_count": 17,
   "id": "78bd2f29",
   "metadata": {},
   "outputs": [],
   "source": [
    "bcn[\"bathrooms_text\"] = bcn[\"bathrooms_text\"].map(\n",
    "    {\n",
    "        \"0 baths\": \"0 baths\",\n",
    "        \"Half-bath\": \"0.5 bath\",\n",
    "        \"1 bath\": \"1 bath\",\n",
    "        \"1.5 baths\": \"1.5 baths\",\n",
    "        \"2 baths\": \"2 baths\",\n",
    "        \"2.5 baths\": \"2.5 baths\",\n",
    "        \"3 baths\": \"3 baths\",\n",
    "        \"3.5 baths\": \"3.5 baths\",\n",
    "        \"4 baths\": \"4 baths\",\n",
    "        \"4.5 baths\": \"4.5 baths\",\n",
    "        \"5 baths\": \"5 baths\",\n",
    "        \"5.5 baths\": \"5.5 baths\",\n",
    "        \"6 baths\": \"6 baths\",\n",
    "        \"7 baths\": \"7 baths\",\n",
    "        \"7.5 baths\": \"7.5 baths\",\n",
    "        \"8 baths\": \"8 baths\",\n",
    "        \"11 shared baths\": \"11 baths\",\n",
    "        \"16 baths\": \"16 baths\",\n",
    "    }\n",
    ")"
   ]
  },
  {
   "cell_type": "code",
   "execution_count": 18,
   "id": "8c53bbc1",
   "metadata": {},
   "outputs": [
    {
     "data": {
      "text/plain": [
       "1 bath       10447\n",
       "2 baths       3144\n",
       "1.5 baths     1366\n",
       "3 baths        253\n",
       "2.5 baths      158\n",
       "4 baths         83\n",
       "0.5 bath        58\n",
       "0 baths         48\n",
       "3.5 baths       46\n",
       "5 baths         22\n",
       "11 baths        14\n",
       "6 baths         14\n",
       "4.5 baths        7\n",
       "7 baths          4\n",
       "5.5 baths        4\n",
       "8 baths          3\n",
       "7.5 baths        3\n",
       "16 baths         1\n",
       "Name: bathrooms_text, dtype: int64"
      ]
     },
     "execution_count": 18,
     "metadata": {},
     "output_type": "execute_result"
    }
   ],
   "source": [
    "bcn[\"bathrooms_text\"].value_counts()"
   ]
  },
  {
   "cell_type": "markdown",
   "id": "96cacb50",
   "metadata": {},
   "source": [
    "***Neighbourhood_cleansed as factors***"
   ]
  },
  {
   "cell_type": "code",
   "execution_count": 19,
   "id": "089d956f",
   "metadata": {},
   "outputs": [],
   "source": [
    "bcn[\"f_neighbourhood_cleansed\"] = bcn[\"neighbourhood_cleansed\"].astype(\"category\")"
   ]
  },
  {
   "cell_type": "markdown",
   "id": "0df53da4",
   "metadata": {},
   "source": [
    "***Create numerical variables***"
   ]
  },
  {
   "cell_type": "code",
   "execution_count": 20,
   "id": "888236c3",
   "metadata": {},
   "outputs": [
    {
     "data": {
      "text/plain": [
       "Series([], Name: bathrooms, dtype: int64)"
      ]
     },
     "execution_count": 20,
     "metadata": {},
     "output_type": "execute_result"
    }
   ],
   "source": [
    "bcn[\"bathrooms\"].value_counts()"
   ]
  },
  {
   "cell_type": "code",
   "execution_count": 21,
   "id": "2a2e69f3",
   "metadata": {},
   "outputs": [],
   "source": [
    "del bcn[\"bathrooms\"]"
   ]
  },
  {
   "cell_type": "markdown",
   "id": "80dd7fad",
   "metadata": {},
   "source": [
    "***rename bathrooms_text column***"
   ]
  },
  {
   "cell_type": "code",
   "execution_count": 22,
   "id": "3b0a2720",
   "metadata": {},
   "outputs": [],
   "source": [
    "bcn = bcn.rename(columns={\"bathrooms_text\":\"bathrooms\"})"
   ]
  },
  {
   "cell_type": "code",
   "execution_count": 23,
   "id": "3e6b2ce8",
   "metadata": {},
   "outputs": [],
   "source": [
    "bcn[\"usd_price_day\"] = bcn[\"price\"]\n",
    "bcn[\"a_host_response_rate\"] = bcn[\"host_response_rate\"].fillna('0%').astype(str)\n",
    "bcn[\"p_host_response_rate\"] = bcn[\"a_host_response_rate\"].apply(lambda x: x.replace(\",\",\"\").replace(\"%\",\"\")).astype(int)/100"
   ]
  },
  {
   "cell_type": "markdown",
   "id": "d3d94b00",
   "metadata": {},
   "source": [
    "***The \"price\" variables and \"bathrooms\" variables are not pure numbers, such as \"$121\", \"0 baths\", I extracted the numbers***"
   ]
  },
  {
   "cell_type": "code",
   "execution_count": 24,
   "id": "e2760566",
   "metadata": {},
   "outputs": [],
   "source": [
    "bcn[\"price\"] = bcn[\"price\"].str.extract('(\\d+)')\n",
    "bcn[\"bathrooms\"] = bcn[\"bathrooms\"].str.extract('(\\d+)')"
   ]
  },
  {
   "cell_type": "markdown",
   "id": "11ec2791",
   "metadata": {},
   "source": [
    "***Add new numeric columns from certain columns***"
   ]
  },
  {
   "cell_type": "code",
   "execution_count": 25,
   "id": "501a1691",
   "metadata": {},
   "outputs": [],
   "source": [
    "numericals = [\n",
    "    \"accommodates\",\n",
    "    \"bathrooms\",\n",
    "    \"price\",\n",
    "    \"review_scores_rating\",\n",
    "    \"number_of_reviews\",\n",
    "    \"reviews_per_month\",\n",
    "    \"minimum_nights\",\n",
    "    \"bedrooms\",\n",
    "    \"beds\"\n",
    "]\n",
    "\n",
    "for col in numericals:\n",
    "    bcn[\"n_\" + col] = pd.to_numeric(bcn[col], errors=\"coerce\")"
   ]
  },
  {
   "cell_type": "markdown",
   "id": "e38b6b0c",
   "metadata": {},
   "source": [
    "***Create days since first review***"
   ]
  },
  {
   "cell_type": "code",
   "execution_count": 26,
   "id": "6b818f10",
   "metadata": {},
   "outputs": [],
   "source": [
    "bcn[\"n_days_since\"] = (\n",
    "    bcn.calendar_last_scraped.apply(lambda x: datetime.strptime(x, \"%Y-%m-%d\"))\n",
    "    - bcn.first_review.fillna(\"1950-01-01\").apply(\n",
    "        lambda x: datetime.strptime(x, \"%Y-%m-%d\")\n",
    "    )\n",
    ").dt.days\n",
    "\n",
    "bcn[\"n_days_since\"] = np.where(bcn.first_review.isnull(), np.nan, bcn.n_days_since)"
   ]
  },
  {
   "cell_type": "markdown",
   "id": "242372ef",
   "metadata": {},
   "source": [
    "***Create dummy variables***"
   ]
  },
  {
   "cell_type": "code",
   "execution_count": 27,
   "id": "2d280b24",
   "metadata": {},
   "outputs": [],
   "source": [
    "dummy_cols = [\n",
    "              \"host_is_superhost\", \n",
    "              \"host_has_profile_pic\", \n",
    "              \"host_identity_verified\", \n",
    "              \"has_availability\", \n",
    "              \"instant_bookable\"\n",
    "              ]\n",
    "\n",
    "for col in dummy_cols:\n",
    "    bcn[col] = bcn[col].map({'f': 0, 't': 1})\n",
    "        \n",
    "for col in dummy_cols:\n",
    "    bcn[\"d_\" + col] = pd.to_numeric(bcn[col], errors=\"coerce\")"
   ]
  },
  {
   "cell_type": "code",
   "execution_count": 28,
   "id": "2e4f4960",
   "metadata": {},
   "outputs": [],
   "source": [
    "bcn = pd.concat(\n",
    "    [\n",
    "        bcn.filter(\n",
    "            regex=\"^d_.*|^n_.*|^f_.*|^p_.*|^usd_.*\",\n",
    "        ),\n",
    "        bcn[\n",
    "            [\n",
    "                \"price\",\n",
    "                \"id\",\n",
    "                \"neighbourhood_cleansed\",\n",
    "                \"room_type\",\n",
    "                \"property_type\",\n",
    "            ]\n",
    "        ],\n",
    "    ],\n",
    "    axis=1,\n",
    ")"
   ]
  },
  {
   "cell_type": "code",
   "execution_count": 29,
   "id": "1c46e702",
   "metadata": {},
   "outputs": [
    {
     "data": {
      "text/html": [
       "<div>\n",
       "<style scoped>\n",
       "    .dataframe tbody tr th:only-of-type {\n",
       "        vertical-align: middle;\n",
       "    }\n",
       "\n",
       "    .dataframe tbody tr th {\n",
       "        vertical-align: top;\n",
       "    }\n",
       "\n",
       "    .dataframe thead th {\n",
       "        text-align: right;\n",
       "    }\n",
       "</style>\n",
       "<table border=\"1\" class=\"dataframe\">\n",
       "  <thead>\n",
       "    <tr style=\"text-align: right;\">\n",
       "      <th></th>\n",
       "      <th>0</th>\n",
       "      <th>1</th>\n",
       "    </tr>\n",
       "  </thead>\n",
       "  <tbody>\n",
       "    <tr>\n",
       "      <th>f_property_type</th>\n",
       "      <td>Rental unit</td>\n",
       "      <td>Rental unit</td>\n",
       "    </tr>\n",
       "    <tr>\n",
       "      <th>f_room_type</th>\n",
       "      <td>Entire home/apt</td>\n",
       "      <td>Entire home/apt</td>\n",
       "    </tr>\n",
       "    <tr>\n",
       "      <th>f_room_type2</th>\n",
       "      <td>Entire/Apt</td>\n",
       "      <td>Entire/Apt</td>\n",
       "    </tr>\n",
       "    <tr>\n",
       "      <th>f_neighbourhood_cleansed</th>\n",
       "      <td>la Sagrada Família</td>\n",
       "      <td>el Besòs i el Maresme</td>\n",
       "    </tr>\n",
       "    <tr>\n",
       "      <th>usd_price_day</th>\n",
       "      <td>$121.00</td>\n",
       "      <td>$229.00</td>\n",
       "    </tr>\n",
       "    <tr>\n",
       "      <th>p_host_response_rate</th>\n",
       "      <td>1</td>\n",
       "      <td>1</td>\n",
       "    </tr>\n",
       "    <tr>\n",
       "      <th>n_accommodates</th>\n",
       "      <td>8</td>\n",
       "      <td>6</td>\n",
       "    </tr>\n",
       "    <tr>\n",
       "      <th>n_bathrooms</th>\n",
       "      <td>2</td>\n",
       "      <td>2</td>\n",
       "    </tr>\n",
       "    <tr>\n",
       "      <th>n_price</th>\n",
       "      <td>121</td>\n",
       "      <td>229</td>\n",
       "    </tr>\n",
       "    <tr>\n",
       "      <th>n_review_scores_rating</th>\n",
       "      <td>4.4</td>\n",
       "      <td>4.74</td>\n",
       "    </tr>\n",
       "    <tr>\n",
       "      <th>n_number_of_reviews</th>\n",
       "      <td>21</td>\n",
       "      <td>52</td>\n",
       "    </tr>\n",
       "    <tr>\n",
       "      <th>n_reviews_per_month</th>\n",
       "      <td>0.23</td>\n",
       "      <td>0.75</td>\n",
       "    </tr>\n",
       "    <tr>\n",
       "      <th>n_minimum_nights</th>\n",
       "      <td>1</td>\n",
       "      <td>4</td>\n",
       "    </tr>\n",
       "    <tr>\n",
       "      <th>n_bedrooms</th>\n",
       "      <td>3</td>\n",
       "      <td>3</td>\n",
       "    </tr>\n",
       "    <tr>\n",
       "      <th>n_beds</th>\n",
       "      <td>6</td>\n",
       "      <td>5</td>\n",
       "    </tr>\n",
       "    <tr>\n",
       "      <th>n_days_since</th>\n",
       "      <td>2749</td>\n",
       "      <td>2076</td>\n",
       "    </tr>\n",
       "    <tr>\n",
       "      <th>d_host_is_superhost</th>\n",
       "      <td>0</td>\n",
       "      <td>0</td>\n",
       "    </tr>\n",
       "    <tr>\n",
       "      <th>d_host_has_profile_pic</th>\n",
       "      <td>1</td>\n",
       "      <td>1</td>\n",
       "    </tr>\n",
       "    <tr>\n",
       "      <th>d_host_identity_verified</th>\n",
       "      <td>1</td>\n",
       "      <td>1</td>\n",
       "    </tr>\n",
       "    <tr>\n",
       "      <th>d_has_availability</th>\n",
       "      <td>1</td>\n",
       "      <td>1</td>\n",
       "    </tr>\n",
       "    <tr>\n",
       "      <th>d_instant_bookable</th>\n",
       "      <td>1</td>\n",
       "      <td>0</td>\n",
       "    </tr>\n",
       "    <tr>\n",
       "      <th>price</th>\n",
       "      <td>121</td>\n",
       "      <td>229</td>\n",
       "    </tr>\n",
       "    <tr>\n",
       "      <th>id</th>\n",
       "      <td>18674</td>\n",
       "      <td>23197</td>\n",
       "    </tr>\n",
       "    <tr>\n",
       "      <th>neighbourhood_cleansed</th>\n",
       "      <td>la Sagrada Família</td>\n",
       "      <td>el Besòs i el Maresme</td>\n",
       "    </tr>\n",
       "    <tr>\n",
       "      <th>room_type</th>\n",
       "      <td>Entire home/apt</td>\n",
       "      <td>Entire home/apt</td>\n",
       "    </tr>\n",
       "    <tr>\n",
       "      <th>property_type</th>\n",
       "      <td>Rental unit</td>\n",
       "      <td>Rental unit</td>\n",
       "    </tr>\n",
       "  </tbody>\n",
       "</table>\n",
       "</div>"
      ],
      "text/plain": [
       "                                           0                      1\n",
       "f_property_type                  Rental unit            Rental unit\n",
       "f_room_type                  Entire home/apt        Entire home/apt\n",
       "f_room_type2                      Entire/Apt             Entire/Apt\n",
       "f_neighbourhood_cleansed  la Sagrada Família  el Besòs i el Maresme\n",
       "usd_price_day                        $121.00                $229.00\n",
       "p_host_response_rate                       1                      1\n",
       "n_accommodates                             8                      6\n",
       "n_bathrooms                                2                      2\n",
       "n_price                                  121                    229\n",
       "n_review_scores_rating                   4.4                   4.74\n",
       "n_number_of_reviews                       21                     52\n",
       "n_reviews_per_month                     0.23                   0.75\n",
       "n_minimum_nights                           1                      4\n",
       "n_bedrooms                                 3                      3\n",
       "n_beds                                     6                      5\n",
       "n_days_since                            2749                   2076\n",
       "d_host_is_superhost                        0                      0\n",
       "d_host_has_profile_pic                     1                      1\n",
       "d_host_identity_verified                   1                      1\n",
       "d_has_availability                         1                      1\n",
       "d_instant_bookable                         1                      0\n",
       "price                                    121                    229\n",
       "id                                     18674                  23197\n",
       "neighbourhood_cleansed    la Sagrada Família  el Besòs i el Maresme\n",
       "room_type                    Entire home/apt        Entire home/apt\n",
       "property_type                    Rental unit            Rental unit"
      ]
     },
     "execution_count": 29,
     "metadata": {},
     "output_type": "execute_result"
    }
   ],
   "source": [
    "bcn.head(2).transpose()"
   ]
  },
  {
   "cell_type": "code",
   "execution_count": 30,
   "id": "21db3f25",
   "metadata": {},
   "outputs": [],
   "source": [
    "bcn[\"price\"] = bcn[\"price\"].str.replace(\",\", \"\").astype(float)\n",
    "bcn = bcn.loc[lambda x: x.price < 1000]"
   ]
  },
  {
   "cell_type": "code",
   "execution_count": 31,
   "id": "0ed127d0",
   "metadata": {},
   "outputs": [
    {
     "name": "stderr",
     "output_type": "stream",
     "text": [
      "/Users/chenche/miniconda3/lib/python3.8/site-packages/pandas/core/series.py:726: RuntimeWarning: divide by zero encountered in log\n"
     ]
    }
   ],
   "source": [
    "bcn = bcn.assign(\n",
    "    n_accommodates2=lambda x: x[\"n_accommodates\"] ** 2,\n",
    "    ln_accommodates=lambda x: np.log(x[\"n_accommodates\"]),\n",
    "    ln_accommodates2=lambda x: np.log(x[\"n_accommodates\"]) ** 2,\n",
    "    ln_beds=lambda x: np.log(x[\"n_beds\"]),\n",
    "    ln_bedrooms=lambda x: np.log(x[\"n_bedrooms\"]),\n",
    "    ln_number_of_reviews=lambda x: np.log(x[\"n_number_of_reviews\"] + 1),\n",
    ")"
   ]
  },
  {
   "cell_type": "markdown",
   "id": "ff69b73f",
   "metadata": {},
   "source": [
    "***Pool accomodations with 0,1,2,4,7,17 bathrooms***"
   ]
  },
  {
   "cell_type": "code",
   "execution_count": 32,
   "id": "ee326dd8",
   "metadata": {},
   "outputs": [
    {
     "data": {
      "text/plain": [
       "0        106\n",
       "1      11813\n",
       "2       3601\n",
       "4        130\n",
       "7         25\n",
       "NaN       17\n",
       "dtype: int64"
      ]
     },
     "execution_count": 32,
     "metadata": {},
     "output_type": "execute_result"
    }
   ],
   "source": [
    "bins = pd.IntervalIndex.from_tuples([(0, 1), (1, 2), (2, 4), (4, 7), (7, 17)], closed=\"left\")\n",
    "f_bathrooms = pd.cut(bcn[\"n_bathrooms\"].to_list(), bins, labels=[\"0\", \"1\", \"2\", \"4\", \"7\"])\n",
    "f_bathrooms.categories = [0, 1, 2, 4, 7]\n",
    "bcn[\"f_bathrooms\"] = f_bathrooms\n",
    "\n",
    "f_bathrooms.value_counts(dropna=False)"
   ]
  },
  {
   "cell_type": "markdown",
   "id": "18c204b3",
   "metadata": {},
   "source": [
    "***Pool num of reviews to 3 categories: none, 1-51 and >51***"
   ]
  },
  {
   "cell_type": "code",
   "execution_count": 33,
   "id": "93551648",
   "metadata": {},
   "outputs": [
    {
     "data": {
      "text/plain": [
       "1      8268\n",
       "0      4243\n",
       "2      3180\n",
       "NaN       1\n",
       "Name: f_number_of_reviews, dtype: int64"
      ]
     },
     "execution_count": 33,
     "metadata": {},
     "output_type": "execute_result"
    }
   ],
   "source": [
    "bins = pd.IntervalIndex.from_tuples(\n",
    "    [(0, 1), (1, 51), (51, max(bcn.n_number_of_reviews))], closed=\"left\"\n",
    ")\n",
    "fnor = pd.cut(bcn[\"n_number_of_reviews\"].to_list(), bins, labels=[\"0\", \"1\", \"2\"])\n",
    "fnor.categories = [0, 1, 2]\n",
    "bcn[\"f_number_of_reviews\"] = fnor\n",
    "bcn[\"f_number_of_reviews\"].value_counts(dropna=False)"
   ]
  },
  {
   "cell_type": "markdown",
   "id": "09974723",
   "metadata": {},
   "source": [
    "***Pool and categorize the number of minimum nights: 1,2,3,4,5,5+***"
   ]
  },
  {
   "cell_type": "code",
   "execution_count": 34,
   "id": "bbbfaad0",
   "metadata": {},
   "outputs": [
    {
     "data": {
      "text/plain": [
       "5      5251\n",
       "1      4604\n",
       "2      2801\n",
       "3      2438\n",
       "4       597\n",
       "NaN       1\n",
       "Name: f_minimum_nights, dtype: int64"
      ]
     },
     "execution_count": 34,
     "metadata": {},
     "output_type": "execute_result"
    }
   ],
   "source": [
    "bins = pd.IntervalIndex.from_tuples(\n",
    "    [(1, 2), (2, 3), (3, 4), (4, 5), (5, max(bcn.n_minimum_nights))], closed=\"left\"\n",
    ")\n",
    "f_min_n = pd.cut(bcn[\"n_minimum_nights\"].to_list(), bins, labels=[\"1\", \"2\", \"3\", \"4\", \"5\"])\n",
    "f_min_n.categories = [1, 2, 3, 4, 5]\n",
    "bcn[\"f_minimum_nights\"] = f_min_n\n",
    "bcn[\"f_minimum_nights\"].value_counts(dropna=False)"
   ]
  },
  {
   "cell_type": "markdown",
   "id": "4b1d5c3e",
   "metadata": {},
   "source": [
    "***Change Infinite values with NaN***"
   ]
  },
  {
   "cell_type": "code",
   "execution_count": 35,
   "id": "e15fbcf7",
   "metadata": {},
   "outputs": [],
   "source": [
    "bcn = bcn.replace([np.inf, -np.inf], np.nan)"
   ]
  },
  {
   "cell_type": "markdown",
   "id": "2e32b63f",
   "metadata": {},
   "source": [
    "***Check the missing variables***"
   ]
  },
  {
   "cell_type": "code",
   "execution_count": 36,
   "id": "fb8c6585",
   "metadata": {},
   "outputs": [
    {
     "data": {
      "text/plain": [
       "n_bathrooms                   17\n",
       "n_review_scores_rating      4243\n",
       "n_reviews_per_month         4243\n",
       "n_bedrooms                   529\n",
       "n_beds                       296\n",
       "n_days_since                4243\n",
       "d_host_is_superhost           40\n",
       "d_host_has_profile_pic        40\n",
       "d_host_identity_verified      40\n",
       "ln_accommodates                1\n",
       "ln_accommodates2               1\n",
       "ln_beds                      710\n",
       "ln_bedrooms                  529\n",
       "f_bathrooms                   17\n",
       "f_number_of_reviews            1\n",
       "f_minimum_nights               1\n",
       "dtype: int64"
      ]
     },
     "execution_count": 36,
     "metadata": {},
     "output_type": "execute_result"
    }
   ],
   "source": [
    "to_filter = bcn.isna().sum()\n",
    "to_filter[to_filter > 0]"
   ]
  },
  {
   "cell_type": "markdown",
   "id": "b4ce673a",
   "metadata": {},
   "source": [
    "***Solve the missing values issues***\n",
    "\n",
    "*Drop if no target*"
   ]
  },
  {
   "cell_type": "code",
   "execution_count": 37,
   "id": "1806a7f6",
   "metadata": {},
   "outputs": [],
   "source": [
    "bcn = bcn.loc[lambda x: x.price.notnull()]"
   ]
  },
  {
   "cell_type": "markdown",
   "id": "3fb611b0",
   "metadata": {},
   "source": [
    "*Imput when few, not that important*"
   ]
  },
  {
   "cell_type": "code",
   "execution_count": 38,
   "id": "f8fefa5f",
   "metadata": {},
   "outputs": [],
   "source": [
    "import numpy as np\n",
    "bcn = bcn.assign(\n",
    "    n_bathrooms = lambda x: x[\"n_bathrooms\"].fillna(np.median(x[\"n_bathrooms\"].dropna())),\n",
    "    n_beds = lambda x: np.where(x[\"n_beds\"].isnull(), x[\"n_accommodates\"], x[\"n_beds\"]),\n",
    "    n_bedrooms = lambda x: np.where(x[\"n_bedrooms\"].isnull(), np.ceil(x[\"n_accommodates\"]/2), x[\"n_bedrooms\"]),\n",
    "    f_bathrooms = lambda x: x[\"f_bathrooms\"].fillna(1),\n",
    "    f_minimum_nights = lambda x: x[\"f_minimum_nights\"].fillna(1),\n",
    "    f_number_of_reviews = lambda x: x[\"f_number_of_reviews\"].fillna(1),\n",
    "    ln_beds = lambda x: x[\"ln_beds\"].fillna(0),\n",
    "    ln_bedrooms = lambda x: x[\"ln_bedrooms\"].fillna(0),\n",
    "    ln_accommodates = lambda x: x[\"ln_accommodates\"].fillna(0),\n",
    "    ln_accommodates2 = lambda x: x[\"ln_accommodates2\"].fillna(0),\n",
    "    d_host_is_superhost = lambda x: x[\"d_host_is_superhost\"].fillna(0),\n",
    "    d_host_has_profile_pic = lambda x: x[\"d_host_has_profile_pic\"].fillna(0),\n",
    "    d_host_identity_verified = lambda x: x[\"d_host_identity_verified\"].fillna(0)\n",
    ")"
   ]
  },
  {
   "cell_type": "markdown",
   "id": "070d2238",
   "metadata": {},
   "source": [
    "*Drop columns when many missing not important*"
   ]
  },
  {
   "cell_type": "code",
   "execution_count": 39,
   "id": "6f3ff6ff",
   "metadata": {},
   "outputs": [],
   "source": [
    "bcn = bcn.drop([\"p_host_response_rate\"], axis=1)"
   ]
  },
  {
   "cell_type": "code",
   "execution_count": 40,
   "id": "1c4867c8",
   "metadata": {},
   "outputs": [
    {
     "data": {
      "text/plain": [
       "n_review_scores_rating    4243\n",
       "n_reviews_per_month       4243\n",
       "n_days_since              4243\n",
       "dtype: int64"
      ]
     },
     "execution_count": 40,
     "metadata": {},
     "output_type": "execute_result"
    }
   ],
   "source": [
    "to_filter = bcn.isna().sum()\n",
    "to_filter[to_filter > 0]"
   ]
  },
  {
   "cell_type": "markdown",
   "id": "c83ecd39",
   "metadata": {},
   "source": [
    "*Replace missing variables re reviews with zero, when no review + add flags*"
   ]
  },
  {
   "cell_type": "code",
   "execution_count": 41,
   "id": "5d83dbac",
   "metadata": {},
   "outputs": [],
   "source": [
    "bcn = bcn.assign(\n",
    "    flag_days_since=np.multiply(bcn.n_days_since.isna(), 1),\n",
    "    n_days_since=bcn.n_days_since.fillna(np.median(bcn.n_days_since.dropna())),\n",
    "    flag_review_scores_rating=np.multiply(bcn.n_review_scores_rating.isna(), 1),\n",
    "    n_review_scores_rating=bcn.n_review_scores_rating.fillna(\n",
    "        np.median(bcn.n_review_scores_rating.dropna())\n",
    "    ),\n",
    "    flag_reviews_per_month=np.multiply(bcn.n_reviews_per_month.isna(), 1),\n",
    "    n_reviews_per_month=bcn.n_reviews_per_month.fillna(\n",
    "        np.median(bcn.n_reviews_per_month.dropna())\n",
    "    ),\n",
    "    flag_n_number_of_reviews=np.multiply(bcn.n_number_of_reviews.isna(), 1),\n",
    ")"
   ]
  },
  {
   "cell_type": "code",
   "execution_count": 42,
   "id": "314b4200",
   "metadata": {},
   "outputs": [
    {
     "data": {
      "text/plain": [
       "0    11449\n",
       "1     4243\n",
       "Name: flag_days_since, dtype: int64"
      ]
     },
     "execution_count": 42,
     "metadata": {},
     "output_type": "execute_result"
    }
   ],
   "source": [
    "bcn.flag_days_since.value_counts()"
   ]
  },
  {
   "cell_type": "markdown",
   "id": "b97c33f9",
   "metadata": {},
   "source": [
    "*redo features*\n",
    "\n",
    "*Create variables, measuring the time since: squared, cubic, logs*"
   ]
  },
  {
   "cell_type": "code",
   "execution_count": 43,
   "id": "0ac14405",
   "metadata": {},
   "outputs": [
    {
     "name": "stderr",
     "output_type": "stream",
     "text": [
      "/Users/chenche/miniconda3/lib/python3.8/site-packages/pandas/core/series.py:726: RuntimeWarning: divide by zero encountered in log\n"
     ]
    }
   ],
   "source": [
    "bcn = bcn.assign(\n",
    "    ln_days_since=lambda x: np.log(x[\"n_days_since\"] + 1),\n",
    "    ln_days_since2=lambda x: np.log(x[\"n_days_since\"] + 1) ** 2,\n",
    "    ln_days_since3=lambda x: np.log(x[\"n_days_since\"] + 1) ** 3,\n",
    "    n_days_since2=lambda x: x[\"n_days_since\"] ** 2,\n",
    "    n_days_since3=lambda x: x[\"n_days_since\"] ** 3,\n",
    "    ln_review_scores_rating=lambda x: np.log(x[\"n_review_scores_rating\"]),\n",
    ")"
   ]
  },
  {
   "cell_type": "code",
   "execution_count": 44,
   "id": "e83c79d8",
   "metadata": {},
   "outputs": [],
   "source": [
    "bcn.ln_days_since = bcn[\"ln_days_since\"].fillna(0)\n",
    "bcn.ln_days_since2 = bcn[\"ln_days_since2\"].fillna(0)\n",
    "bcn.ln_days_since3 = bcn[\"ln_days_since3\"].fillna(0)"
   ]
  },
  {
   "cell_type": "code",
   "execution_count": 45,
   "id": "a206f067",
   "metadata": {},
   "outputs": [
    {
     "data": {
      "text/plain": [
       "Series([], dtype: int64)"
      ]
     },
     "execution_count": 45,
     "metadata": {},
     "output_type": "execute_result"
    }
   ],
   "source": [
    "to_filter = bcn.isna().sum()\n",
    "to_filter[to_filter > 0]"
   ]
  },
  {
   "cell_type": "code",
   "execution_count": 46,
   "id": "3af4497f",
   "metadata": {},
   "outputs": [
    {
     "data": {
      "text/html": [
       "<div>\n",
       "<style scoped>\n",
       "    .dataframe tbody tr th:only-of-type {\n",
       "        vertical-align: middle;\n",
       "    }\n",
       "\n",
       "    .dataframe tbody tr th {\n",
       "        vertical-align: top;\n",
       "    }\n",
       "\n",
       "    .dataframe thead th {\n",
       "        text-align: right;\n",
       "    }\n",
       "</style>\n",
       "<table border=\"1\" class=\"dataframe\">\n",
       "  <thead>\n",
       "    <tr style=\"text-align: right;\">\n",
       "      <th></th>\n",
       "      <th>n_accommodates</th>\n",
       "      <th>n_bathrooms</th>\n",
       "      <th>n_price</th>\n",
       "      <th>n_review_scores_rating</th>\n",
       "      <th>n_number_of_reviews</th>\n",
       "      <th>n_reviews_per_month</th>\n",
       "      <th>n_minimum_nights</th>\n",
       "      <th>n_bedrooms</th>\n",
       "      <th>n_beds</th>\n",
       "      <th>n_days_since</th>\n",
       "      <th>...</th>\n",
       "      <th>flag_days_since</th>\n",
       "      <th>flag_review_scores_rating</th>\n",
       "      <th>flag_reviews_per_month</th>\n",
       "      <th>flag_n_number_of_reviews</th>\n",
       "      <th>ln_days_since</th>\n",
       "      <th>ln_days_since2</th>\n",
       "      <th>ln_days_since3</th>\n",
       "      <th>n_days_since2</th>\n",
       "      <th>n_days_since3</th>\n",
       "      <th>ln_review_scores_rating</th>\n",
       "    </tr>\n",
       "  </thead>\n",
       "  <tbody>\n",
       "    <tr>\n",
       "      <th>count</th>\n",
       "      <td>15692.000000</td>\n",
       "      <td>15692.000000</td>\n",
       "      <td>15692.000000</td>\n",
       "      <td>15692.000000</td>\n",
       "      <td>15692.000000</td>\n",
       "      <td>15692.000000</td>\n",
       "      <td>15692.000000</td>\n",
       "      <td>15692.000000</td>\n",
       "      <td>15692.000000</td>\n",
       "      <td>15692.000000</td>\n",
       "      <td>...</td>\n",
       "      <td>15692.000000</td>\n",
       "      <td>15692.000000</td>\n",
       "      <td>15692.000000</td>\n",
       "      <td>15692.0</td>\n",
       "      <td>15692.000000</td>\n",
       "      <td>15692.000000</td>\n",
       "      <td>15692.000000</td>\n",
       "      <td>1.569200e+04</td>\n",
       "      <td>1.569200e+04</td>\n",
       "      <td>1.569200e+04</td>\n",
       "    </tr>\n",
       "    <tr>\n",
       "      <th>mean</th>\n",
       "      <td>3.401351</td>\n",
       "      <td>1.283966</td>\n",
       "      <td>97.576408</td>\n",
       "      <td>4.543158</td>\n",
       "      <td>33.648483</td>\n",
       "      <td>1.028163</td>\n",
       "      <td>13.570673</td>\n",
       "      <td>1.669577</td>\n",
       "      <td>2.325835</td>\n",
       "      <td>1161.998917</td>\n",
       "      <td>...</td>\n",
       "      <td>0.270393</td>\n",
       "      <td>0.270393</td>\n",
       "      <td>0.270393</td>\n",
       "      <td>0.0</td>\n",
       "      <td>6.730389</td>\n",
       "      <td>46.457354</td>\n",
       "      <td>325.700251</td>\n",
       "      <td>1.836323e+06</td>\n",
       "      <td>3.496702e+09</td>\n",
       "      <td>-inf</td>\n",
       "    </tr>\n",
       "    <tr>\n",
       "      <th>std</th>\n",
       "      <td>2.216908</td>\n",
       "      <td>0.664985</td>\n",
       "      <td>99.129205</td>\n",
       "      <td>0.643257</td>\n",
       "      <td>66.490272</td>\n",
       "      <td>1.226628</td>\n",
       "      <td>33.046299</td>\n",
       "      <td>1.006377</td>\n",
       "      <td>1.901852</td>\n",
       "      <td>697.217463</td>\n",
       "      <td>...</td>\n",
       "      <td>0.444177</td>\n",
       "      <td>0.444177</td>\n",
       "      <td>0.444177</td>\n",
       "      <td>0.0</td>\n",
       "      <td>1.076702</td>\n",
       "      <td>12.212832</td>\n",
       "      <td>110.736529</td>\n",
       "      <td>2.070278e+06</td>\n",
       "      <td>5.963841e+09</td>\n",
       "      <td>NaN</td>\n",
       "    </tr>\n",
       "    <tr>\n",
       "      <th>min</th>\n",
       "      <td>0.000000</td>\n",
       "      <td>0.000000</td>\n",
       "      <td>0.000000</td>\n",
       "      <td>0.000000</td>\n",
       "      <td>0.000000</td>\n",
       "      <td>0.010000</td>\n",
       "      <td>1.000000</td>\n",
       "      <td>0.000000</td>\n",
       "      <td>0.000000</td>\n",
       "      <td>1.000000</td>\n",
       "      <td>...</td>\n",
       "      <td>0.000000</td>\n",
       "      <td>0.000000</td>\n",
       "      <td>0.000000</td>\n",
       "      <td>0.0</td>\n",
       "      <td>0.693147</td>\n",
       "      <td>0.480453</td>\n",
       "      <td>0.333025</td>\n",
       "      <td>1.000000e+00</td>\n",
       "      <td>1.000000e+00</td>\n",
       "      <td>-inf</td>\n",
       "    </tr>\n",
       "    <tr>\n",
       "      <th>25%</th>\n",
       "      <td>2.000000</td>\n",
       "      <td>1.000000</td>\n",
       "      <td>40.000000</td>\n",
       "      <td>4.500000</td>\n",
       "      <td>0.000000</td>\n",
       "      <td>0.320000</td>\n",
       "      <td>1.000000</td>\n",
       "      <td>1.000000</td>\n",
       "      <td>1.000000</td>\n",
       "      <td>761.000000</td>\n",
       "      <td>...</td>\n",
       "      <td>0.000000</td>\n",
       "      <td>0.000000</td>\n",
       "      <td>0.000000</td>\n",
       "      <td>0.0</td>\n",
       "      <td>6.635947</td>\n",
       "      <td>44.035787</td>\n",
       "      <td>292.219127</td>\n",
       "      <td>5.791210e+05</td>\n",
       "      <td>4.407111e+08</td>\n",
       "      <td>1.504077e+00</td>\n",
       "    </tr>\n",
       "    <tr>\n",
       "      <th>50%</th>\n",
       "      <td>3.000000</td>\n",
       "      <td>1.000000</td>\n",
       "      <td>70.000000</td>\n",
       "      <td>4.670000</td>\n",
       "      <td>5.000000</td>\n",
       "      <td>0.690000</td>\n",
       "      <td>3.000000</td>\n",
       "      <td>1.000000</td>\n",
       "      <td>2.000000</td>\n",
       "      <td>1072.000000</td>\n",
       "      <td>...</td>\n",
       "      <td>0.000000</td>\n",
       "      <td>0.000000</td>\n",
       "      <td>0.000000</td>\n",
       "      <td>0.0</td>\n",
       "      <td>6.978214</td>\n",
       "      <td>48.695467</td>\n",
       "      <td>339.807377</td>\n",
       "      <td>1.149184e+06</td>\n",
       "      <td>1.231925e+09</td>\n",
       "      <td>1.541159e+00</td>\n",
       "    </tr>\n",
       "    <tr>\n",
       "      <th>75%</th>\n",
       "      <td>4.000000</td>\n",
       "      <td>1.000000</td>\n",
       "      <td>121.000000</td>\n",
       "      <td>4.810000</td>\n",
       "      <td>35.000000</td>\n",
       "      <td>1.190000</td>\n",
       "      <td>30.000000</td>\n",
       "      <td>2.000000</td>\n",
       "      <td>3.000000</td>\n",
       "      <td>1494.000000</td>\n",
       "      <td>...</td>\n",
       "      <td>1.000000</td>\n",
       "      <td>1.000000</td>\n",
       "      <td>1.000000</td>\n",
       "      <td>0.0</td>\n",
       "      <td>7.309881</td>\n",
       "      <td>53.434367</td>\n",
       "      <td>390.598893</td>\n",
       "      <td>2.232036e+06</td>\n",
       "      <td>3.334662e+09</td>\n",
       "      <td>1.570697e+00</td>\n",
       "    </tr>\n",
       "    <tr>\n",
       "      <th>max</th>\n",
       "      <td>16.000000</td>\n",
       "      <td>16.000000</td>\n",
       "      <td>999.000000</td>\n",
       "      <td>5.000000</td>\n",
       "      <td>853.000000</td>\n",
       "      <td>24.000000</td>\n",
       "      <td>1124.000000</td>\n",
       "      <td>16.000000</td>\n",
       "      <td>40.000000</td>\n",
       "      <td>3903.000000</td>\n",
       "      <td>...</td>\n",
       "      <td>1.000000</td>\n",
       "      <td>1.000000</td>\n",
       "      <td>1.000000</td>\n",
       "      <td>0.0</td>\n",
       "      <td>8.269757</td>\n",
       "      <td>68.388880</td>\n",
       "      <td>565.559415</td>\n",
       "      <td>1.523341e+07</td>\n",
       "      <td>5.945600e+10</td>\n",
       "      <td>1.609438e+00</td>\n",
       "    </tr>\n",
       "  </tbody>\n",
       "</table>\n",
       "<p>8 rows × 33 columns</p>\n",
       "</div>"
      ],
      "text/plain": [
       "       n_accommodates   n_bathrooms       n_price  n_review_scores_rating  \\\n",
       "count    15692.000000  15692.000000  15692.000000            15692.000000   \n",
       "mean         3.401351      1.283966     97.576408                4.543158   \n",
       "std          2.216908      0.664985     99.129205                0.643257   \n",
       "min          0.000000      0.000000      0.000000                0.000000   \n",
       "25%          2.000000      1.000000     40.000000                4.500000   \n",
       "50%          3.000000      1.000000     70.000000                4.670000   \n",
       "75%          4.000000      1.000000    121.000000                4.810000   \n",
       "max         16.000000     16.000000    999.000000                5.000000   \n",
       "\n",
       "       n_number_of_reviews  n_reviews_per_month  n_minimum_nights  \\\n",
       "count         15692.000000         15692.000000      15692.000000   \n",
       "mean             33.648483             1.028163         13.570673   \n",
       "std              66.490272             1.226628         33.046299   \n",
       "min               0.000000             0.010000          1.000000   \n",
       "25%               0.000000             0.320000          1.000000   \n",
       "50%               5.000000             0.690000          3.000000   \n",
       "75%              35.000000             1.190000         30.000000   \n",
       "max             853.000000            24.000000       1124.000000   \n",
       "\n",
       "         n_bedrooms        n_beds  n_days_since  ...  flag_days_since  \\\n",
       "count  15692.000000  15692.000000  15692.000000  ...     15692.000000   \n",
       "mean       1.669577      2.325835   1161.998917  ...         0.270393   \n",
       "std        1.006377      1.901852    697.217463  ...         0.444177   \n",
       "min        0.000000      0.000000      1.000000  ...         0.000000   \n",
       "25%        1.000000      1.000000    761.000000  ...         0.000000   \n",
       "50%        1.000000      2.000000   1072.000000  ...         0.000000   \n",
       "75%        2.000000      3.000000   1494.000000  ...         1.000000   \n",
       "max       16.000000     40.000000   3903.000000  ...         1.000000   \n",
       "\n",
       "       flag_review_scores_rating  flag_reviews_per_month  \\\n",
       "count               15692.000000            15692.000000   \n",
       "mean                    0.270393                0.270393   \n",
       "std                     0.444177                0.444177   \n",
       "min                     0.000000                0.000000   \n",
       "25%                     0.000000                0.000000   \n",
       "50%                     0.000000                0.000000   \n",
       "75%                     1.000000                1.000000   \n",
       "max                     1.000000                1.000000   \n",
       "\n",
       "       flag_n_number_of_reviews  ln_days_since  ln_days_since2  \\\n",
       "count                   15692.0   15692.000000    15692.000000   \n",
       "mean                        0.0       6.730389       46.457354   \n",
       "std                         0.0       1.076702       12.212832   \n",
       "min                         0.0       0.693147        0.480453   \n",
       "25%                         0.0       6.635947       44.035787   \n",
       "50%                         0.0       6.978214       48.695467   \n",
       "75%                         0.0       7.309881       53.434367   \n",
       "max                         0.0       8.269757       68.388880   \n",
       "\n",
       "       ln_days_since3  n_days_since2  n_days_since3  ln_review_scores_rating  \n",
       "count    15692.000000   1.569200e+04   1.569200e+04             1.569200e+04  \n",
       "mean       325.700251   1.836323e+06   3.496702e+09                     -inf  \n",
       "std        110.736529   2.070278e+06   5.963841e+09                      NaN  \n",
       "min          0.333025   1.000000e+00   1.000000e+00                     -inf  \n",
       "25%        292.219127   5.791210e+05   4.407111e+08             1.504077e+00  \n",
       "50%        339.807377   1.149184e+06   1.231925e+09             1.541159e+00  \n",
       "75%        390.598893   2.232036e+06   3.334662e+09             1.570697e+00  \n",
       "max        565.559415   1.523341e+07   5.945600e+10             1.609438e+00  \n",
       "\n",
       "[8 rows x 33 columns]"
      ]
     },
     "execution_count": 46,
     "metadata": {},
     "output_type": "execute_result"
    }
   ],
   "source": [
    "bcn.describe()"
   ]
  },
  {
   "cell_type": "markdown",
   "id": "f3e07684",
   "metadata": {},
   "source": [
    "***Export the processed Barcelona Airbnb data***"
   ]
  },
  {
   "cell_type": "markdown",
   "id": "a99275f8",
   "metadata": {},
   "source": [
    "***Preparing data***"
   ]
  },
  {
   "cell_type": "code",
   "execution_count": 47,
   "id": "0493cf93",
   "metadata": {},
   "outputs": [],
   "source": [
    "bcn.to_csv('../Output/Processed_Barcelona_Airbnb_data.csv', index=False)"
   ]
  },
  {
   "cell_type": "code",
   "execution_count": 48,
   "id": "53d78e59",
   "metadata": {},
   "outputs": [],
   "source": [
    "data = bcn.loc[bcn.price.notna(), :]"
   ]
  },
  {
   "cell_type": "code",
   "execution_count": 49,
   "id": "32e79ea2",
   "metadata": {},
   "outputs": [],
   "source": [
    "def count_missing_values(df):\n",
    "    return df.isna().sum()[df.isna().sum()>0]"
   ]
  },
  {
   "cell_type": "code",
   "execution_count": 50,
   "id": "14c2768f",
   "metadata": {},
   "outputs": [
    {
     "data": {
      "text/plain": [
       "Series([], dtype: int64)"
      ]
     },
     "execution_count": 50,
     "metadata": {},
     "output_type": "execute_result"
    }
   ],
   "source": [
    "count_missing_values(data)"
   ]
  },
  {
   "cell_type": "markdown",
   "id": "e0186f76",
   "metadata": {},
   "source": [
    "***Since in this case, my task is:***\n",
    "\n",
    "***help a company operating small and mid-size apartments hosting 2-6 guests***\n",
    "\n",
    "***Thus, We focus on normal apartments, n<6***"
   ]
  },
  {
   "cell_type": "code",
   "execution_count": 51,
   "id": "aba0a811",
   "metadata": {},
   "outputs": [],
   "source": [
    "data = data.query('n_accommodates < 7')"
   ]
  },
  {
   "cell_type": "markdown",
   "id": "c2ee4a99",
   "metadata": {},
   "source": [
    "***Copy a variable***"
   ]
  },
  {
   "cell_type": "code",
   "execution_count": 52,
   "id": "e456248e",
   "metadata": {},
   "outputs": [],
   "source": [
    "data = data.assign(n_accommodates_copy = data.n_accommodates)\n",
    "data1 = data"
   ]
  },
  {
   "cell_type": "markdown",
   "id": "e88e2d44",
   "metadata": {},
   "source": [
    "***Data statistical describe***"
   ]
  },
  {
   "cell_type": "code",
   "execution_count": 53,
   "id": "b19e0678",
   "metadata": {},
   "outputs": [
    {
     "data": {
      "text/html": [
       "<div>\n",
       "<style scoped>\n",
       "    .dataframe tbody tr th:only-of-type {\n",
       "        vertical-align: middle;\n",
       "    }\n",
       "\n",
       "    .dataframe tbody tr th {\n",
       "        vertical-align: top;\n",
       "    }\n",
       "\n",
       "    .dataframe thead th {\n",
       "        text-align: right;\n",
       "    }\n",
       "</style>\n",
       "<table border=\"1\" class=\"dataframe\">\n",
       "  <thead>\n",
       "    <tr style=\"text-align: right;\">\n",
       "      <th></th>\n",
       "      <th>n_accommodates</th>\n",
       "      <th>n_bathrooms</th>\n",
       "      <th>n_price</th>\n",
       "      <th>n_review_scores_rating</th>\n",
       "      <th>n_number_of_reviews</th>\n",
       "      <th>n_reviews_per_month</th>\n",
       "      <th>n_minimum_nights</th>\n",
       "      <th>n_bedrooms</th>\n",
       "      <th>n_beds</th>\n",
       "      <th>n_days_since</th>\n",
       "      <th>...</th>\n",
       "      <th>flag_review_scores_rating</th>\n",
       "      <th>flag_reviews_per_month</th>\n",
       "      <th>flag_n_number_of_reviews</th>\n",
       "      <th>ln_days_since</th>\n",
       "      <th>ln_days_since2</th>\n",
       "      <th>ln_days_since3</th>\n",
       "      <th>n_days_since2</th>\n",
       "      <th>n_days_since3</th>\n",
       "      <th>ln_review_scores_rating</th>\n",
       "      <th>n_accommodates_copy</th>\n",
       "    </tr>\n",
       "  </thead>\n",
       "  <tbody>\n",
       "    <tr>\n",
       "      <th>count</th>\n",
       "      <td>14574.000000</td>\n",
       "      <td>14574.000000</td>\n",
       "      <td>14574.000000</td>\n",
       "      <td>14574.000000</td>\n",
       "      <td>14574.000000</td>\n",
       "      <td>14574.000000</td>\n",
       "      <td>14574.000000</td>\n",
       "      <td>14574.000000</td>\n",
       "      <td>14574.000000</td>\n",
       "      <td>14574.000000</td>\n",
       "      <td>...</td>\n",
       "      <td>14574.000000</td>\n",
       "      <td>14574.000000</td>\n",
       "      <td>14574.0</td>\n",
       "      <td>14574.000000</td>\n",
       "      <td>14574.000000</td>\n",
       "      <td>14574.000000</td>\n",
       "      <td>1.457400e+04</td>\n",
       "      <td>1.457400e+04</td>\n",
       "      <td>1.457400e+04</td>\n",
       "      <td>14574.000000</td>\n",
       "    </tr>\n",
       "    <tr>\n",
       "      <th>mean</th>\n",
       "      <td>2.985797</td>\n",
       "      <td>1.209002</td>\n",
       "      <td>88.168451</td>\n",
       "      <td>4.542937</td>\n",
       "      <td>32.914437</td>\n",
       "      <td>1.017838</td>\n",
       "      <td>14.172019</td>\n",
       "      <td>1.503362</td>\n",
       "      <td>2.009263</td>\n",
       "      <td>1155.742692</td>\n",
       "      <td>...</td>\n",
       "      <td>0.277275</td>\n",
       "      <td>0.277275</td>\n",
       "      <td>0.0</td>\n",
       "      <td>6.733225</td>\n",
       "      <td>46.462561</td>\n",
       "      <td>325.507372</td>\n",
       "      <td>1.808278e+06</td>\n",
       "      <td>3.408871e+09</td>\n",
       "      <td>-inf</td>\n",
       "      <td>2.985797</td>\n",
       "    </tr>\n",
       "    <tr>\n",
       "      <th>std</th>\n",
       "      <td>1.583471</td>\n",
       "      <td>0.556638</td>\n",
       "      <td>86.416829</td>\n",
       "      <td>0.652719</td>\n",
       "      <td>66.539888</td>\n",
       "      <td>1.234944</td>\n",
       "      <td>33.977701</td>\n",
       "      <td>0.747618</td>\n",
       "      <td>1.350418</td>\n",
       "      <td>687.437085</td>\n",
       "      <td>...</td>\n",
       "      <td>0.447669</td>\n",
       "      <td>0.447669</td>\n",
       "      <td>0.0</td>\n",
       "      <td>1.061279</td>\n",
       "      <td>12.048772</td>\n",
       "      <td>109.315084</td>\n",
       "      <td>2.032782e+06</td>\n",
       "      <td>5.831404e+09</td>\n",
       "      <td>NaN</td>\n",
       "      <td>1.583471</td>\n",
       "    </tr>\n",
       "    <tr>\n",
       "      <th>min</th>\n",
       "      <td>0.000000</td>\n",
       "      <td>0.000000</td>\n",
       "      <td>0.000000</td>\n",
       "      <td>0.000000</td>\n",
       "      <td>0.000000</td>\n",
       "      <td>0.010000</td>\n",
       "      <td>1.000000</td>\n",
       "      <td>0.000000</td>\n",
       "      <td>0.000000</td>\n",
       "      <td>1.000000</td>\n",
       "      <td>...</td>\n",
       "      <td>0.000000</td>\n",
       "      <td>0.000000</td>\n",
       "      <td>0.0</td>\n",
       "      <td>0.693147</td>\n",
       "      <td>0.480453</td>\n",
       "      <td>0.333025</td>\n",
       "      <td>1.000000e+00</td>\n",
       "      <td>1.000000e+00</td>\n",
       "      <td>-inf</td>\n",
       "      <td>0.000000</td>\n",
       "    </tr>\n",
       "    <tr>\n",
       "      <th>25%</th>\n",
       "      <td>2.000000</td>\n",
       "      <td>1.000000</td>\n",
       "      <td>39.000000</td>\n",
       "      <td>4.520000</td>\n",
       "      <td>0.000000</td>\n",
       "      <td>0.300000</td>\n",
       "      <td>1.000000</td>\n",
       "      <td>1.000000</td>\n",
       "      <td>1.000000</td>\n",
       "      <td>762.000000</td>\n",
       "      <td>...</td>\n",
       "      <td>0.000000</td>\n",
       "      <td>0.000000</td>\n",
       "      <td>0.0</td>\n",
       "      <td>6.637258</td>\n",
       "      <td>44.053194</td>\n",
       "      <td>292.392417</td>\n",
       "      <td>5.806440e+05</td>\n",
       "      <td>4.424507e+08</td>\n",
       "      <td>1.508512e+00</td>\n",
       "      <td>2.000000</td>\n",
       "    </tr>\n",
       "    <tr>\n",
       "      <th>50%</th>\n",
       "      <td>2.000000</td>\n",
       "      <td>1.000000</td>\n",
       "      <td>63.000000</td>\n",
       "      <td>4.670000</td>\n",
       "      <td>4.000000</td>\n",
       "      <td>0.690000</td>\n",
       "      <td>3.000000</td>\n",
       "      <td>1.000000</td>\n",
       "      <td>2.000000</td>\n",
       "      <td>1072.000000</td>\n",
       "      <td>...</td>\n",
       "      <td>0.000000</td>\n",
       "      <td>0.000000</td>\n",
       "      <td>0.0</td>\n",
       "      <td>6.978214</td>\n",
       "      <td>48.695467</td>\n",
       "      <td>339.807377</td>\n",
       "      <td>1.149184e+06</td>\n",
       "      <td>1.231925e+09</td>\n",
       "      <td>1.541159e+00</td>\n",
       "      <td>2.000000</td>\n",
       "    </tr>\n",
       "    <tr>\n",
       "      <th>75%</th>\n",
       "      <td>4.000000</td>\n",
       "      <td>1.000000</td>\n",
       "      <td>113.000000</td>\n",
       "      <td>4.810000</td>\n",
       "      <td>32.000000</td>\n",
       "      <td>1.160000</td>\n",
       "      <td>30.000000</td>\n",
       "      <td>2.000000</td>\n",
       "      <td>3.000000</td>\n",
       "      <td>1485.000000</td>\n",
       "      <td>...</td>\n",
       "      <td>1.000000</td>\n",
       "      <td>1.000000</td>\n",
       "      <td>0.0</td>\n",
       "      <td>7.303843</td>\n",
       "      <td>53.346126</td>\n",
       "      <td>389.631740</td>\n",
       "      <td>2.205225e+06</td>\n",
       "      <td>3.274759e+09</td>\n",
       "      <td>1.570697e+00</td>\n",
       "      <td>4.000000</td>\n",
       "    </tr>\n",
       "    <tr>\n",
       "      <th>max</th>\n",
       "      <td>6.000000</td>\n",
       "      <td>11.000000</td>\n",
       "      <td>999.000000</td>\n",
       "      <td>5.000000</td>\n",
       "      <td>853.000000</td>\n",
       "      <td>24.000000</td>\n",
       "      <td>1124.000000</td>\n",
       "      <td>10.000000</td>\n",
       "      <td>16.000000</td>\n",
       "      <td>3903.000000</td>\n",
       "      <td>...</td>\n",
       "      <td>1.000000</td>\n",
       "      <td>1.000000</td>\n",
       "      <td>0.0</td>\n",
       "      <td>8.269757</td>\n",
       "      <td>68.388880</td>\n",
       "      <td>565.559415</td>\n",
       "      <td>1.523341e+07</td>\n",
       "      <td>5.945600e+10</td>\n",
       "      <td>1.609438e+00</td>\n",
       "      <td>6.000000</td>\n",
       "    </tr>\n",
       "  </tbody>\n",
       "</table>\n",
       "<p>8 rows × 34 columns</p>\n",
       "</div>"
      ],
      "text/plain": [
       "       n_accommodates   n_bathrooms       n_price  n_review_scores_rating  \\\n",
       "count    14574.000000  14574.000000  14574.000000            14574.000000   \n",
       "mean         2.985797      1.209002     88.168451                4.542937   \n",
       "std          1.583471      0.556638     86.416829                0.652719   \n",
       "min          0.000000      0.000000      0.000000                0.000000   \n",
       "25%          2.000000      1.000000     39.000000                4.520000   \n",
       "50%          2.000000      1.000000     63.000000                4.670000   \n",
       "75%          4.000000      1.000000    113.000000                4.810000   \n",
       "max          6.000000     11.000000    999.000000                5.000000   \n",
       "\n",
       "       n_number_of_reviews  n_reviews_per_month  n_minimum_nights  \\\n",
       "count         14574.000000         14574.000000      14574.000000   \n",
       "mean             32.914437             1.017838         14.172019   \n",
       "std              66.539888             1.234944         33.977701   \n",
       "min               0.000000             0.010000          1.000000   \n",
       "25%               0.000000             0.300000          1.000000   \n",
       "50%               4.000000             0.690000          3.000000   \n",
       "75%              32.000000             1.160000         30.000000   \n",
       "max             853.000000            24.000000       1124.000000   \n",
       "\n",
       "         n_bedrooms        n_beds  n_days_since  ...  \\\n",
       "count  14574.000000  14574.000000  14574.000000  ...   \n",
       "mean       1.503362      2.009263   1155.742692  ...   \n",
       "std        0.747618      1.350418    687.437085  ...   \n",
       "min        0.000000      0.000000      1.000000  ...   \n",
       "25%        1.000000      1.000000    762.000000  ...   \n",
       "50%        1.000000      2.000000   1072.000000  ...   \n",
       "75%        2.000000      3.000000   1485.000000  ...   \n",
       "max       10.000000     16.000000   3903.000000  ...   \n",
       "\n",
       "       flag_review_scores_rating  flag_reviews_per_month  \\\n",
       "count               14574.000000            14574.000000   \n",
       "mean                    0.277275                0.277275   \n",
       "std                     0.447669                0.447669   \n",
       "min                     0.000000                0.000000   \n",
       "25%                     0.000000                0.000000   \n",
       "50%                     0.000000                0.000000   \n",
       "75%                     1.000000                1.000000   \n",
       "max                     1.000000                1.000000   \n",
       "\n",
       "       flag_n_number_of_reviews  ln_days_since  ln_days_since2  \\\n",
       "count                   14574.0   14574.000000    14574.000000   \n",
       "mean                        0.0       6.733225       46.462561   \n",
       "std                         0.0       1.061279       12.048772   \n",
       "min                         0.0       0.693147        0.480453   \n",
       "25%                         0.0       6.637258       44.053194   \n",
       "50%                         0.0       6.978214       48.695467   \n",
       "75%                         0.0       7.303843       53.346126   \n",
       "max                         0.0       8.269757       68.388880   \n",
       "\n",
       "       ln_days_since3  n_days_since2  n_days_since3  ln_review_scores_rating  \\\n",
       "count    14574.000000   1.457400e+04   1.457400e+04             1.457400e+04   \n",
       "mean       325.507372   1.808278e+06   3.408871e+09                     -inf   \n",
       "std        109.315084   2.032782e+06   5.831404e+09                      NaN   \n",
       "min          0.333025   1.000000e+00   1.000000e+00                     -inf   \n",
       "25%        292.392417   5.806440e+05   4.424507e+08             1.508512e+00   \n",
       "50%        339.807377   1.149184e+06   1.231925e+09             1.541159e+00   \n",
       "75%        389.631740   2.205225e+06   3.274759e+09             1.570697e+00   \n",
       "max        565.559415   1.523341e+07   5.945600e+10             1.609438e+00   \n",
       "\n",
       "       n_accommodates_copy  \n",
       "count         14574.000000  \n",
       "mean              2.985797  \n",
       "std               1.583471  \n",
       "min               0.000000  \n",
       "25%               2.000000  \n",
       "50%               2.000000  \n",
       "75%               4.000000  \n",
       "max               6.000000  \n",
       "\n",
       "[8 rows x 34 columns]"
      ]
     },
     "execution_count": 53,
     "metadata": {},
     "output_type": "execute_result"
    }
   ],
   "source": [
    "data.describe()"
   ]
  },
  {
   "cell_type": "code",
   "execution_count": 54,
   "id": "41273b1b",
   "metadata": {},
   "outputs": [
    {
     "data": {
      "text/plain": [
       "count    14574.000000\n",
       "mean        88.168451\n",
       "std         86.416829\n",
       "min          0.000000\n",
       "25%         39.000000\n",
       "50%         63.000000\n",
       "75%        113.000000\n",
       "max        999.000000\n",
       "Name: price, dtype: float64"
      ]
     },
     "execution_count": 54,
     "metadata": {},
     "output_type": "execute_result"
    }
   ],
   "source": [
    "data.price.describe()"
   ]
  },
  {
   "cell_type": "code",
   "execution_count": 55,
   "id": "39193a65",
   "metadata": {},
   "outputs": [
    {
     "data": {
      "text/plain": [
       "Entire home/apt    7451\n",
       "Private room       6794\n",
       "Hotel room          195\n",
       "Shared room         134\n",
       "Name: f_room_type, dtype: int64"
      ]
     },
     "execution_count": 55,
     "metadata": {},
     "output_type": "execute_result"
    }
   ],
   "source": [
    "data.f_room_type.value_counts()"
   ]
  },
  {
   "cell_type": "code",
   "execution_count": 56,
   "id": "e21280f8",
   "metadata": {},
   "outputs": [
    {
     "data": {
      "text/plain": [
       "Rental unit    12371\n",
       "Apartment       1542\n",
       "Hotel            661\n",
       "Name: f_property_type, dtype: int64"
      ]
     },
     "execution_count": 56,
     "metadata": {},
     "output_type": "execute_result"
    }
   ],
   "source": [
    "data.f_property_type.value_counts()"
   ]
  },
  {
   "cell_type": "code",
   "execution_count": 57,
   "id": "3521a2be",
   "metadata": {},
   "outputs": [
    {
     "data": {
      "text/plain": [
       "1    7664\n",
       "0    4041\n",
       "2    2869\n",
       "Name: f_number_of_reviews, dtype: int64"
      ]
     },
     "execution_count": 57,
     "metadata": {},
     "output_type": "execute_result"
    }
   ],
   "source": [
    "data.f_number_of_reviews.value_counts()"
   ]
  },
  {
   "cell_type": "markdown",
   "id": "8c4a8d57",
   "metadata": {},
   "source": [
    "***Linear regressions models***"
   ]
  },
  {
   "cell_type": "code",
   "execution_count": 58,
   "id": "46f32c62",
   "metadata": {},
   "outputs": [],
   "source": [
    "import statsmodels.api as sm\n",
    "import statsmodels.formula.api as smf\n",
    "\n",
    "from stargazer import stargazer\n",
    "from statsmodels.tools.eval_measures import mse,rmse\n",
    "from sklearn.metrics import mean_squared_error"
   ]
  },
  {
   "cell_type": "code",
   "execution_count": 59,
   "id": "84e6c2d1",
   "metadata": {},
   "outputs": [],
   "source": [
    "reg_model1 = smf.ols(formula=\"price~n_accommodates+n_beds+n_bedrooms+n_days_since+f_property_type+f_room_type+f_bathrooms+f_neighbourhood_cleansed\", data = data).fit(cov_type=\"HC0\")\n",
    "reg_model2 = smf.ols(formula=\"price~n_accommodates+n_beds+n_bedrooms+n_days_since+f_property_type+f_room_type+f_bathrooms+f_neighbourhood_cleansed+n_number_of_reviews+flag_n_number_of_reviews+n_review_scores_rating+flag_review_scores_rating\", data = data).fit(cov_type=\"HC0\")\n",
    "reg_model3 = smf.ols(formula=\"price~n_accommodates+n_beds+n_bedrooms+n_days_since+f_property_type+f_room_type+f_bathrooms+f_neighbourhood_cleansed+n_number_of_reviews+flag_n_number_of_reviews+n_review_scores_rating+flag_review_scores_rating+d_host_is_superhost+d_host_has_profile_pic+d_host_identity_verified+d_has_availability+d_instant_bookable\", data = data).fit(cov_type=\"HC0\")"
   ]
  },
  {
   "cell_type": "code",
   "execution_count": 60,
   "id": "a2b75ba0",
   "metadata": {},
   "outputs": [],
   "source": [
    "models = [reg_model1, reg_model2,reg_model3]\n",
    "AIC = [None]*len(models)\n",
    "BIC = [None]*len(models)\n",
    "RMSE = [None]*len(models)\n",
    "Rsquared = [None]*len(models)\n",
    "regr = [None]*len(models)\n",
    "k = [None]*len(models)\n",
    "\n",
    "for i in range(0,len(models)):\n",
    "    AIC[i] = models[i].aic\n",
    "    BIC[i] = models[i].bic\n",
    "    RMSE[i] = rmse(models[i].fittedvalues, data.price) \n",
    "    Rsquared[i] = models[i].rsquared\n",
    "    k[i] = (models[i].df_model)"
   ]
  },
  {
   "cell_type": "code",
   "execution_count": 61,
   "id": "8bc13116",
   "metadata": {},
   "outputs": [
    {
     "data": {
      "text/html": [
       "<div>\n",
       "<style scoped>\n",
       "    .dataframe tbody tr th:only-of-type {\n",
       "        vertical-align: middle;\n",
       "    }\n",
       "\n",
       "    .dataframe tbody tr th {\n",
       "        vertical-align: top;\n",
       "    }\n",
       "\n",
       "    .dataframe thead th {\n",
       "        text-align: right;\n",
       "    }\n",
       "</style>\n",
       "<table border=\"1\" class=\"dataframe\">\n",
       "  <thead>\n",
       "    <tr style=\"text-align: right;\">\n",
       "      <th></th>\n",
       "      <th>k</th>\n",
       "      <th>RSquared</th>\n",
       "      <th>RMSE</th>\n",
       "      <th>BIC</th>\n",
       "    </tr>\n",
       "    <tr>\n",
       "      <th>models</th>\n",
       "      <th></th>\n",
       "      <th></th>\n",
       "      <th></th>\n",
       "      <th></th>\n",
       "    </tr>\n",
       "  </thead>\n",
       "  <tbody>\n",
       "    <tr>\n",
       "      <th>(1)</th>\n",
       "      <td>84.0</td>\n",
       "      <td>0.236892</td>\n",
       "      <td>75.487756</td>\n",
       "      <td>168209.206177</td>\n",
       "    </tr>\n",
       "    <tr>\n",
       "      <th>(2)</th>\n",
       "      <td>87.0</td>\n",
       "      <td>0.242014</td>\n",
       "      <td>75.233990</td>\n",
       "      <td>168139.815624</td>\n",
       "    </tr>\n",
       "    <tr>\n",
       "      <th>(3)</th>\n",
       "      <td>92.0</td>\n",
       "      <td>0.250989</td>\n",
       "      <td>74.787233</td>\n",
       "      <td>168014.146992</td>\n",
       "    </tr>\n",
       "  </tbody>\n",
       "</table>\n",
       "</div>"
      ],
      "text/plain": [
       "           k  RSquared       RMSE            BIC\n",
       "models                                          \n",
       "(1)     84.0  0.236892  75.487756  168209.206177\n",
       "(2)     87.0  0.242014  75.233990  168139.815624\n",
       "(3)     92.0  0.250989  74.787233  168014.146992"
      ]
     },
     "execution_count": 61,
     "metadata": {},
     "output_type": "execute_result"
    }
   ],
   "source": [
    "evaluation_models = pd.DataFrame({'models':['(' + str(x+1) + ')'for x in range(len(models))],'k':k,'RSquared':Rsquared,'RMSE':RMSE,'BIC':BIC}).set_index('models')\n",
    "evaluation_models"
   ]
  },
  {
   "cell_type": "markdown",
   "id": "6cbabdd5",
   "metadata": {},
   "source": [
    "Export .csv file"
   ]
  },
  {
   "cell_type": "code",
   "execution_count": 62,
   "id": "1be4021e",
   "metadata": {},
   "outputs": [],
   "source": [
    "evaluation_models.to_csv(\"../Output/evaluation_bcn_lr_models.csv\")"
   ]
  },
  {
   "cell_type": "markdown",
   "id": "9f067aaa",
   "metadata": {},
   "source": [
    "***Cross Validation***"
   ]
  },
  {
   "cell_type": "markdown",
   "id": "e9f011b2",
   "metadata": {},
   "source": [
    "*Separate holdout set*"
   ]
  },
  {
   "cell_type": "code",
   "execution_count": 63,
   "id": "3965406f",
   "metadata": {},
   "outputs": [],
   "source": [
    "sample_size = round(0.2 * data1.shape[0])-1"
   ]
  },
  {
   "cell_type": "code",
   "execution_count": 64,
   "id": "124ec99b",
   "metadata": {},
   "outputs": [],
   "source": [
    "np.random.seed(20211023)"
   ]
  },
  {
   "cell_type": "code",
   "execution_count": 65,
   "id": "b0ea8a7d",
   "metadata": {},
   "outputs": [],
   "source": [
    "data_work,data_holdout = train_test_split(data1, test_size = sample_size)"
   ]
  },
  {
   "cell_type": "code",
   "execution_count": 66,
   "id": "2f50f14a",
   "metadata": {},
   "outputs": [],
   "source": [
    "from sklearn.model_selection import KFold\n",
    "n_folds = 5\n",
    "k = KFold(n_splits = n_folds, shuffle = False, random_state = None)"
   ]
  },
  {
   "cell_type": "code",
   "execution_count": 67,
   "id": "e706c135",
   "metadata": {},
   "outputs": [],
   "source": [
    "def cross_validation_reg(formula, data, kfold, testdata, robustse = None):\n",
    "    regression_list = []\n",
    "    predicts_on_test = []\n",
    "    rsquared = []\n",
    "    rmse_list = []\n",
    "    rmse_list_test = []\n",
    "\n",
    "    for train_index, test_index in k.split(data):\n",
    "        data_train, data_test = data.iloc[train_index, :], data.iloc[test_index, :]\n",
    "        if robustse is None:\n",
    "            model = smf.ols(formula, data = data_train).fit()\n",
    "        else:\n",
    "            model = smf.ols(formula, data = data_train).fit(cov_type = robustse)\n",
    "        regression_list += [model]\n",
    "        predicts_on_test += [model.predict(data_test)]\n",
    "        rsquared += [model.rsquared]\n",
    "\n",
    "        rmse_tr = pd.concat(\n",
    "            [data_train[\"price\"], model.predict(data_train)],\n",
    "            axis=1,\n",
    "            keys=[\"price\", \"predicted\"],\n",
    "        )\n",
    "        rmse_tr = rmse_tr[~rmse_tr.isna().any(axis=1)]\n",
    "\n",
    "        rmse_te = pd.concat(\n",
    "            [data_test[\"price\"], model.predict(data_test)],\n",
    "            axis=1,\n",
    "            keys=[\"price\", \"predicted\"],\n",
    "        )\n",
    "        rmse_te = rmse_te[~rmse_te.isna().any(axis=1)]\n",
    "\n",
    "        rmse_list += [rmse(rmse_tr[\"price\"], rmse_tr[\"predicted\"], axis = 0)]\n",
    "        rmse_list_test += [rmse(rmse_te[\"price\"], rmse_te[\"predicted\"], axis = 0)]\n",
    "    nvars = model.df_model\n",
    "\n",
    "    return {\n",
    "        \"regressions\": regression_list,\n",
    "        \"test_predict\": predicts_on_test,\n",
    "        \"r2\": rsquared,\n",
    "        \"rmse\": rmse_list,\n",
    "        \"rmse_test\": rmse_list_test,\n",
    "        \"nvars\": nvars,\n",
    "    }"
   ]
  },
  {
   "cell_type": "code",
   "execution_count": 68,
   "id": "b2a4353c",
   "metadata": {},
   "outputs": [],
   "source": [
    "def summarize_cv(cvlist, stat=\"rmse\"):\n",
    "    result = pd.DataFrame(\n",
    "        {\"Model\" + str(x + 1): cvlist[x][stat] for x in range(len(cv_list))}\n",
    "    )\n",
    "    result[\"Resample\"] = [\"Fold\" + str(x + 1) for x in range(len(cvlist[0][\"rmse\"]))]\n",
    "    result = result.set_index(\"Resample\")\n",
    "    result = pd.concat([result, pd.DataFrame(result.mean(), columns=[\"Average\"]).T])\n",
    "    return result"
   ]
  },
  {
   "cell_type": "code",
   "execution_count": 69,
   "id": "2454b88f",
   "metadata": {},
   "outputs": [],
   "source": [
    "cvm1 = cross_validation_reg(\"price~n_accommodates+n_beds+n_bedrooms+n_days_since+f_property_type+f_room_type+f_bathrooms+f_neighbourhood_cleansed\", data1, k, \"HC0\")\n",
    "cvm2 = cross_validation_reg(\"price~n_accommodates+n_beds+n_bedrooms+n_days_since+f_property_type+f_room_type+f_bathrooms+f_neighbourhood_cleansed+n_number_of_reviews+flag_n_number_of_reviews+n_review_scores_rating+flag_review_scores_rating\", data1, k, \"HC0\")\n",
    "cvm3 = cross_validation_reg(\"price~n_accommodates+n_beds+n_bedrooms+n_days_since+f_property_type+f_room_type+f_bathrooms+f_neighbourhood_cleansed+n_number_of_reviews+flag_n_number_of_reviews+n_review_scores_rating+flag_review_scores_rating+d_host_is_superhost+d_host_has_profile_pic+d_host_identity_verified+d_has_availability+d_instant_bookable\", data1, k, \"HC0\")"
   ]
  },
  {
   "cell_type": "code",
   "execution_count": 70,
   "id": "efea7d0f",
   "metadata": {},
   "outputs": [
    {
     "data": {
      "text/html": [
       "<div>\n",
       "<style scoped>\n",
       "    .dataframe tbody tr th:only-of-type {\n",
       "        vertical-align: middle;\n",
       "    }\n",
       "\n",
       "    .dataframe tbody tr th {\n",
       "        vertical-align: top;\n",
       "    }\n",
       "\n",
       "    .dataframe thead th {\n",
       "        text-align: right;\n",
       "    }\n",
       "</style>\n",
       "<table border=\"1\" class=\"dataframe\">\n",
       "  <thead>\n",
       "    <tr style=\"text-align: right;\">\n",
       "      <th></th>\n",
       "      <th>Model1</th>\n",
       "      <th>Model2</th>\n",
       "      <th>Model3</th>\n",
       "    </tr>\n",
       "  </thead>\n",
       "  <tbody>\n",
       "    <tr>\n",
       "      <th>Fold1</th>\n",
       "      <td>80.252594</td>\n",
       "      <td>80.053461</td>\n",
       "      <td>79.562587</td>\n",
       "    </tr>\n",
       "    <tr>\n",
       "      <th>Fold2</th>\n",
       "      <td>77.907988</td>\n",
       "      <td>77.648855</td>\n",
       "      <td>77.113372</td>\n",
       "    </tr>\n",
       "    <tr>\n",
       "      <th>Fold3</th>\n",
       "      <td>71.937226</td>\n",
       "      <td>71.676775</td>\n",
       "      <td>71.401679</td>\n",
       "    </tr>\n",
       "    <tr>\n",
       "      <th>Fold4</th>\n",
       "      <td>75.257173</td>\n",
       "      <td>75.017113</td>\n",
       "      <td>74.524655</td>\n",
       "    </tr>\n",
       "    <tr>\n",
       "      <th>Fold5</th>\n",
       "      <td>70.813336</td>\n",
       "      <td>70.528626</td>\n",
       "      <td>70.041764</td>\n",
       "    </tr>\n",
       "    <tr>\n",
       "      <th>Average</th>\n",
       "      <td>75.233663</td>\n",
       "      <td>74.984966</td>\n",
       "      <td>74.528811</td>\n",
       "    </tr>\n",
       "  </tbody>\n",
       "</table>\n",
       "</div>"
      ],
      "text/plain": [
       "            Model1     Model2     Model3\n",
       "Fold1    80.252594  80.053461  79.562587\n",
       "Fold2    77.907988  77.648855  77.113372\n",
       "Fold3    71.937226  71.676775  71.401679\n",
       "Fold4    75.257173  75.017113  74.524655\n",
       "Fold5    70.813336  70.528626  70.041764\n",
       "Average  75.233663  74.984966  74.528811"
      ]
     },
     "execution_count": 70,
     "metadata": {},
     "output_type": "execute_result"
    }
   ],
   "source": [
    "cv_list = [cvm1, cvm2, cvm3]\n",
    "z = summarize_cv(cv_list)\n",
    "z"
   ]
  },
  {
   "cell_type": "code",
   "execution_count": 71,
   "id": "a94cdeac",
   "metadata": {},
   "outputs": [
    {
     "name": "stdout",
     "output_type": "stream",
     "text": [
      "            Model1     Model2     Model3\n",
      "Fold1    80.252594  80.053461  79.562587\n",
      "Fold2    77.907988  77.648855  77.113372\n",
      "Fold3    71.937226  71.676775  71.401679\n",
      "Fold4    75.257173  75.017113  74.524655\n",
      "Fold5    70.813336  70.528626  70.041764\n",
      "Average  75.233663  74.984966  74.528811\n"
     ]
    }
   ],
   "source": [
    "print(z)\n",
    "z.to_csv(\"../Output/bcn_cv_list.csv\")"
   ]
  },
  {
   "cell_type": "markdown",
   "id": "82ddd25c",
   "metadata": {},
   "source": [
    "***Random forest***"
   ]
  },
  {
   "cell_type": "markdown",
   "id": "6f3d0085",
   "metadata": {},
   "source": [
    "*Create train set and holdout set samples*\n",
    "\n",
    "*Pick a smaller training set first so that models run faster and check if works*"
   ]
  },
  {
   "cell_type": "code",
   "execution_count": 72,
   "id": "5dc044ea",
   "metadata": {},
   "outputs": [],
   "source": [
    "data_train_set, data_holdout_set = train_test_split(data,train_size = 0.7, random_state = 42)"
   ]
  },
  {
   "cell_type": "code",
   "execution_count": 73,
   "id": "2738ded6",
   "metadata": {},
   "outputs": [
    {
     "data": {
      "text/plain": [
       "((10201, 45), (4373, 45))"
      ]
     },
     "execution_count": 73,
     "metadata": {},
     "output_type": "execute_result"
    }
   ],
   "source": [
    "data_train_set.shape, data_holdout_set.shape"
   ]
  },
  {
   "cell_type": "markdown",
   "id": "444a4922",
   "metadata": {},
   "source": [
    "*Basic Variables*"
   ]
  },
  {
   "cell_type": "code",
   "execution_count": 74,
   "id": "1376a3ea",
   "metadata": {},
   "outputs": [],
   "source": [
    "Basic = [\n",
    "    \"n_accommodates\",\n",
    "    \"n_beds\",\n",
    "    \"n_bedrooms\",\n",
    "    \"n_days_since\",\n",
    "    \"f_property_type\",\n",
    "    \"f_room_type\",\n",
    "    \"f_bathrooms\",\n",
    "    \"f_neighbourhood_cleansed\"\n",
    "]"
   ]
  },
  {
   "cell_type": "markdown",
   "id": "78ad4046",
   "metadata": {},
   "source": [
    "*Reviews Variables*"
   ]
  },
  {
   "cell_type": "code",
   "execution_count": 75,
   "id": "11a5e594",
   "metadata": {},
   "outputs": [],
   "source": [
    "Reviews = [\n",
    "    \"n_number_of_reviews\",\n",
    "    \"flag_n_number_of_reviews\",\n",
    "    \"n_review_scores_rating\",\n",
    "    \"flag_review_scores_rating\"\n",
    "]"
   ]
  },
  {
   "cell_type": "markdown",
   "id": "b9a37e54",
   "metadata": {},
   "source": [
    "*Creat dummy variables*"
   ]
  },
  {
   "cell_type": "code",
   "execution_count": 76,
   "id": "68a9fe65",
   "metadata": {},
   "outputs": [],
   "source": [
    "Dummy = [col for col in data if col.startswith(\"d_\")]"
   ]
  },
  {
   "cell_type": "code",
   "execution_count": 77,
   "id": "cddf84eb",
   "metadata": {},
   "outputs": [],
   "source": [
    "X1 = [\n",
    "    \"n_accommodates:f_property_type\",\n",
    "    \"f_room_type:f_property_type\",\n",
    "    \"f_room_type:d_familykidfriendly\",\n",
    "    \"d_host_is_superhost:f_property_type\",\n",
    "    \"d_host_has_profile_pic:f_property_type\",\n",
    "    \"d_host_identity_verified:f_property_type\",\n",
    "    \"d_has_availability:f_property_type\",\n",
    "    \"d_instant_bookable:f_property_type\"\n",
    "]\n",
    "\n",
    "X2 = [\n",
    "    \"f_property_type:f_neighbourhood_cleansed\",\n",
    "    \"f_room_type:f_neighbourhood_cleansed\",\n",
    "    \"n_accommodates:f_neighbourhood_cleansed\",\n",
    "]"
   ]
  },
  {
   "cell_type": "code",
   "execution_count": 78,
   "id": "805669d3",
   "metadata": {},
   "outputs": [],
   "source": [
    "Predictors_1 = Basic\n",
    "Predictors_2 = Basic + Reviews + Dummy\n",
    "Predictors_E = Basic + Reviews + Dummy + X1 + X2"
   ]
  },
  {
   "cell_type": "code",
   "execution_count": 79,
   "id": "c5cc45ab",
   "metadata": {},
   "outputs": [
    {
     "name": "stdout",
     "output_type": "stream",
     "text": [
      "Fitting 5 folds for each of 6 candidates, totalling 30 fits\n",
      "[CV 1/5] END .........min_node_size=5, mtry=5;, score=-69.879 total time=   0.4s\n",
      "[CV 2/5] END .........min_node_size=5, mtry=5;, score=-79.749 total time=   0.5s\n",
      "[CV 3/5] END .........min_node_size=5, mtry=5;, score=-62.889 total time=   0.4s\n",
      "[CV 4/5] END .........min_node_size=5, mtry=5;, score=-74.111 total time=   0.4s\n",
      "[CV 5/5] END .........min_node_size=5, mtry=5;, score=-67.677 total time=   0.4s\n",
      "[CV 1/5] END .........min_node_size=5, mtry=7;, score=-68.978 total time=   0.5s\n",
      "[CV 2/5] END .........min_node_size=5, mtry=7;, score=-79.006 total time=   0.5s\n",
      "[CV 3/5] END .........min_node_size=5, mtry=7;, score=-62.128 total time=   0.6s\n",
      "[CV 4/5] END .........min_node_size=5, mtry=7;, score=-73.459 total time=   0.6s\n",
      "[CV 5/5] END .........min_node_size=5, mtry=7;, score=-66.821 total time=   0.6s\n",
      "[CV 1/5] END .........min_node_size=5, mtry=9;, score=-68.660 total time=   0.7s\n",
      "[CV 2/5] END .........min_node_size=5, mtry=9;, score=-78.678 total time=   0.7s\n",
      "[CV 3/5] END .........min_node_size=5, mtry=9;, score=-61.299 total time=   0.7s\n",
      "[CV 4/5] END .........min_node_size=5, mtry=9;, score=-72.745 total time=   0.6s\n",
      "[CV 5/5] END .........min_node_size=5, mtry=9;, score=-65.500 total time=   0.6s\n",
      "[CV 1/5] END ........min_node_size=10, mtry=5;, score=-69.937 total time=   0.4s\n",
      "[CV 2/5] END ........min_node_size=10, mtry=5;, score=-79.826 total time=   0.4s\n",
      "[CV 3/5] END ........min_node_size=10, mtry=5;, score=-62.980 total time=   0.4s\n",
      "[CV 4/5] END ........min_node_size=10, mtry=5;, score=-73.972 total time=   0.4s\n",
      "[CV 5/5] END ........min_node_size=10, mtry=5;, score=-68.006 total time=   0.4s\n",
      "[CV 1/5] END ........min_node_size=10, mtry=7;, score=-69.095 total time=   0.6s\n",
      "[CV 2/5] END ........min_node_size=10, mtry=7;, score=-79.135 total time=   0.5s\n",
      "[CV 3/5] END ........min_node_size=10, mtry=7;, score=-62.142 total time=   0.5s\n",
      "[CV 4/5] END ........min_node_size=10, mtry=7;, score=-73.439 total time=   0.5s\n",
      "[CV 5/5] END ........min_node_size=10, mtry=7;, score=-66.958 total time=   0.5s\n",
      "[CV 1/5] END ........min_node_size=10, mtry=9;, score=-68.824 total time=   0.5s\n",
      "[CV 2/5] END ........min_node_size=10, mtry=9;, score=-78.757 total time=   0.6s\n",
      "[CV 3/5] END ........min_node_size=10, mtry=9;, score=-61.757 total time=   0.7s\n",
      "[CV 4/5] END ........min_node_size=10, mtry=9;, score=-73.195 total time=   0.6s\n",
      "[CV 5/5] END ........min_node_size=10, mtry=9;, score=-65.915 total time=   0.6s\n"
     ]
    }
   ],
   "source": [
    "rfr = RangerForestRegressor(importance = \"impurity\",seed = 42)\n",
    "\n",
    "tune_grid = {\"mtry\": [5, 7, 9], \"min_node_size\": [5, 10]}\n",
    "\n",
    "rf_random = GridSearchCV(\n",
    "    rfr,\n",
    "    tune_grid,\n",
    "    cv=5,\n",
    "    scoring=\"neg_root_mean_squared_error\",\n",
    "    verbose=3,\n",
    ")\n",
    "\n",
    "y, X = dmatrices(\"price ~ \" + \" + \".join(Predictors_1), data_train_set)\n",
    "\n",
    "rf_model_1 = rf_random.fit(X, y.ravel())"
   ]
  },
  {
   "cell_type": "code",
   "execution_count": 80,
   "id": "742fa3cb",
   "metadata": {},
   "outputs": [
    {
     "name": "stdout",
     "output_type": "stream",
     "text": [
      "Fitting 5 folds for each of 9 candidates, totalling 45 fits\n",
      "[CV 1/5] END .........min_node_size=5, mtry=8;, score=-67.146 total time=   0.6s\n",
      "[CV 2/5] END .........min_node_size=5, mtry=8;, score=-77.295 total time=   0.6s\n",
      "[CV 3/5] END .........min_node_size=5, mtry=8;, score=-59.590 total time=   0.6s\n",
      "[CV 4/5] END .........min_node_size=5, mtry=8;, score=-70.717 total time=   0.6s\n",
      "[CV 5/5] END .........min_node_size=5, mtry=8;, score=-64.894 total time=   0.7s\n",
      "[CV 1/5] END ........min_node_size=5, mtry=10;, score=-66.747 total time=   0.8s\n",
      "[CV 2/5] END ........min_node_size=5, mtry=10;, score=-77.021 total time=   0.7s\n",
      "[CV 3/5] END ........min_node_size=5, mtry=10;, score=-59.054 total time=   0.7s\n",
      "[CV 4/5] END ........min_node_size=5, mtry=10;, score=-70.418 total time=   0.7s\n",
      "[CV 5/5] END ........min_node_size=5, mtry=10;, score=-64.048 total time=   0.7s\n",
      "[CV 1/5] END ........min_node_size=5, mtry=12;, score=-66.270 total time=   0.8s\n",
      "[CV 2/5] END ........min_node_size=5, mtry=12;, score=-76.941 total time=   0.8s\n",
      "[CV 3/5] END ........min_node_size=5, mtry=12;, score=-58.779 total time=   0.9s\n",
      "[CV 4/5] END ........min_node_size=5, mtry=12;, score=-70.492 total time=   0.8s\n",
      "[CV 5/5] END ........min_node_size=5, mtry=12;, score=-64.189 total time=   0.9s\n",
      "[CV 1/5] END ........min_node_size=10, mtry=8;, score=-67.363 total time=   0.6s\n",
      "[CV 2/5] END ........min_node_size=10, mtry=8;, score=-77.349 total time=   0.7s\n",
      "[CV 3/5] END ........min_node_size=10, mtry=8;, score=-60.096 total time=   0.6s\n",
      "[CV 4/5] END ........min_node_size=10, mtry=8;, score=-70.730 total time=   0.6s\n",
      "[CV 5/5] END ........min_node_size=10, mtry=8;, score=-65.156 total time=   0.5s\n",
      "[CV 1/5] END .......min_node_size=10, mtry=10;, score=-66.740 total time=   0.6s\n",
      "[CV 2/5] END .......min_node_size=10, mtry=10;, score=-76.910 total time=   0.8s\n",
      "[CV 3/5] END .......min_node_size=10, mtry=10;, score=-59.388 total time=   0.7s\n",
      "[CV 4/5] END .......min_node_size=10, mtry=10;, score=-70.646 total time=   0.7s\n",
      "[CV 5/5] END .......min_node_size=10, mtry=10;, score=-64.319 total time=   0.6s\n",
      "[CV 1/5] END .......min_node_size=10, mtry=12;, score=-66.427 total time=   0.7s\n",
      "[CV 2/5] END .......min_node_size=10, mtry=12;, score=-76.946 total time=   0.7s\n",
      "[CV 3/5] END .......min_node_size=10, mtry=12;, score=-58.712 total time=   0.9s\n",
      "[CV 4/5] END .......min_node_size=10, mtry=12;, score=-70.626 total time=   0.8s\n",
      "[CV 5/5] END .......min_node_size=10, mtry=12;, score=-63.763 total time=   0.7s\n",
      "[CV 1/5] END ........min_node_size=15, mtry=8;, score=-67.460 total time=   0.5s\n",
      "[CV 2/5] END ........min_node_size=15, mtry=8;, score=-77.429 total time=   0.5s\n",
      "[CV 3/5] END ........min_node_size=15, mtry=8;, score=-60.737 total time=   0.6s\n",
      "[CV 4/5] END ........min_node_size=15, mtry=8;, score=-71.214 total time=   0.7s\n",
      "[CV 5/5] END ........min_node_size=15, mtry=8;, score=-65.252 total time=   0.6s\n",
      "[CV 1/5] END .......min_node_size=15, mtry=10;, score=-66.704 total time=   0.7s\n",
      "[CV 2/5] END .......min_node_size=15, mtry=10;, score=-77.221 total time=   0.7s\n",
      "[CV 3/5] END .......min_node_size=15, mtry=10;, score=-59.618 total time=   0.7s\n",
      "[CV 4/5] END .......min_node_size=15, mtry=10;, score=-70.829 total time=   0.7s\n",
      "[CV 5/5] END .......min_node_size=15, mtry=10;, score=-64.815 total time=   0.7s\n",
      "[CV 1/5] END .......min_node_size=15, mtry=12;, score=-66.802 total time=   0.8s\n",
      "[CV 2/5] END .......min_node_size=15, mtry=12;, score=-76.857 total time=   0.8s\n",
      "[CV 3/5] END .......min_node_size=15, mtry=12;, score=-59.375 total time=   0.8s\n",
      "[CV 4/5] END .......min_node_size=15, mtry=12;, score=-70.644 total time=   0.7s\n",
      "[CV 5/5] END .......min_node_size=15, mtry=12;, score=-64.591 total time=   0.7s\n"
     ]
    }
   ],
   "source": [
    "rfr = RangerForestRegressor(importance=\"impurity\",seed = 42)\n",
    "\n",
    "tune_grid = {\"mtry\": [8, 10, 12], \"min_node_size\": [5, 10, 15]}\n",
    "\n",
    "rf_random = GridSearchCV(\n",
    "    rfr,\n",
    "    tune_grid,\n",
    "    cv=5,\n",
    "    scoring=\"neg_root_mean_squared_error\",\n",
    "    verbose=3,\n",
    ")\n",
    "\n",
    "y, X = dmatrices(\"price ~ \" + \" + \".join(Predictors_2), data_train_set)\n",
    "\n",
    "rf_model_2 = rf_random.fit(X,y.ravel())"
   ]
  },
  {
   "cell_type": "markdown",
   "id": "d57f1ef9",
   "metadata": {},
   "source": [
    "***Random forest RMSE by tuning parameters***"
   ]
  },
  {
   "cell_type": "code",
   "execution_count": 81,
   "id": "cecd169e",
   "metadata": {},
   "outputs": [
    {
     "data": {
      "text/html": [
       "<div>\n",
       "<style scoped>\n",
       "    .dataframe tbody tr th:only-of-type {\n",
       "        vertical-align: middle;\n",
       "    }\n",
       "\n",
       "    .dataframe tbody tr th {\n",
       "        vertical-align: top;\n",
       "    }\n",
       "\n",
       "    .dataframe thead th {\n",
       "        text-align: right;\n",
       "    }\n",
       "</style>\n",
       "<table border=\"1\" class=\"dataframe\">\n",
       "  <thead>\n",
       "    <tr style=\"text-align: right;\">\n",
       "      <th>Variables</th>\n",
       "      <th>8</th>\n",
       "      <th>10</th>\n",
       "      <th>12</th>\n",
       "    </tr>\n",
       "    <tr>\n",
       "      <th>Min_nodes</th>\n",
       "      <th></th>\n",
       "      <th></th>\n",
       "      <th></th>\n",
       "    </tr>\n",
       "  </thead>\n",
       "  <tbody>\n",
       "    <tr>\n",
       "      <th>5</th>\n",
       "      <td>67.93</td>\n",
       "      <td>67.46</td>\n",
       "      <td>67.33</td>\n",
       "    </tr>\n",
       "    <tr>\n",
       "      <th>10</th>\n",
       "      <td>68.14</td>\n",
       "      <td>67.60</td>\n",
       "      <td>67.29</td>\n",
       "    </tr>\n",
       "    <tr>\n",
       "      <th>15</th>\n",
       "      <td>68.42</td>\n",
       "      <td>67.84</td>\n",
       "      <td>67.65</td>\n",
       "    </tr>\n",
       "  </tbody>\n",
       "</table>\n",
       "</div>"
      ],
      "text/plain": [
       "Variables     8      10     12\n",
       "Min_nodes                     \n",
       "5          67.93  67.46  67.33\n",
       "10         68.14  67.60  67.29\n",
       "15         68.42  67.84  67.65"
      ]
     },
     "execution_count": 81,
     "metadata": {},
     "output_type": "execute_result"
    }
   ],
   "source": [
    "pd.DataFrame(rf_model_2.cv_results_)[\n",
    "    [\"param_mtry\", \"param_min_node_size\", \"mean_test_score\"]\n",
    "].assign(\n",
    "    mean_test_score=lambda x: x[\"mean_test_score\"] * -1,\n",
    "    Variables=lambda x: x[\"param_mtry\"],\n",
    "    Min_nodes=lambda x: x[\"param_min_node_size\"],\n",
    ").pivot(\n",
    "    index=\"Min_nodes\", columns=\"Variables\", values=\"mean_test_score\"\n",
    ").round(\n",
    "    2\n",
    ")"
   ]
  },
  {
   "cell_type": "code",
   "execution_count": 82,
   "id": "ee26d449",
   "metadata": {},
   "outputs": [
    {
     "data": {
      "text/html": [
       "<div>\n",
       "<style scoped>\n",
       "    .dataframe tbody tr th:only-of-type {\n",
       "        vertical-align: middle;\n",
       "    }\n",
       "\n",
       "    .dataframe tbody tr th {\n",
       "        vertical-align: top;\n",
       "    }\n",
       "\n",
       "    .dataframe thead th {\n",
       "        text-align: right;\n",
       "    }\n",
       "</style>\n",
       "<table border=\"1\" class=\"dataframe\">\n",
       "  <thead>\n",
       "    <tr style=\"text-align: right;\">\n",
       "      <th></th>\n",
       "      <th>Min vars</th>\n",
       "      <th>Min nodes</th>\n",
       "    </tr>\n",
       "  </thead>\n",
       "  <tbody>\n",
       "    <tr>\n",
       "      <th>Model A</th>\n",
       "      <td>9</td>\n",
       "      <td>5</td>\n",
       "    </tr>\n",
       "    <tr>\n",
       "      <th>Model B</th>\n",
       "      <td>12</td>\n",
       "      <td>10</td>\n",
       "    </tr>\n",
       "  </tbody>\n",
       "</table>\n",
       "</div>"
      ],
      "text/plain": [
       "         Min vars  Min nodes\n",
       "Model A         9          5\n",
       "Model B        12         10"
      ]
     },
     "execution_count": 82,
     "metadata": {},
     "output_type": "execute_result"
    }
   ],
   "source": [
    "pd.DataFrame(\n",
    "    {\n",
    "        \"Min vars\": [rf_model_1.best_estimator_.mtry, rf_model_2.best_estimator_.mtry],\n",
    "        \"Min nodes\": [\n",
    "            rf_model_1.best_estimator_.min_node_size,\n",
    "            rf_model_2.best_estimator_.min_node_size,\n",
    "        ],\n",
    "    },\n",
    "    [\"Model A\", \"Model B\"],\n",
    ")"
   ]
  },
  {
   "cell_type": "code",
   "execution_count": 83,
   "id": "ffd8ab1a",
   "metadata": {},
   "outputs": [],
   "source": [
    "z2 = pd.DataFrame(\n",
    "    {\n",
    "        \"RMSE\": [\n",
    "            rf_model_1.cv_results_[\"mean_test_score\"].min(),\n",
    "            rf_model_2.cv_results_[\"mean_test_score\"].min(),\n",
    "        ]\n",
    "    },\n",
    "    [\"Model A\", \"Model B\"],\n",
    ").round(3) * -1"
   ]
  },
  {
   "cell_type": "code",
   "execution_count": 84,
   "id": "20ec1834",
   "metadata": {},
   "outputs": [
    {
     "name": "stdout",
     "output_type": "stream",
     "text": [
      "           RMSE\n",
      "Model A  70.944\n",
      "Model B  68.418\n"
     ]
    }
   ],
   "source": [
    "print(z2)\n",
    "z2.to_csv(\"../Output/bcn_rf.csv\")"
   ]
  },
  {
   "cell_type": "code",
   "execution_count": 92,
   "id": "536762e8",
   "metadata": {},
   "outputs": [],
   "source": [
    "rf_model_2_var_imp_df = (\n",
    "    pd.DataFrame(\n",
    "        rf_model_2.best_estimator_.feature_importances_, X.design_info.column_names\n",
    "    )\n",
    "    .reset_index()\n",
    "    .rename({\"index\": \"varname\",0: \"imp\"}, axis=1)\n",
    "    .assign(imp_percentage=lambda x: x[\"imp\"] / x[\"imp\"].sum())\n",
    "    .sort_values(by=[\"imp\"], ascending=False)\n",
    ")"
   ]
  },
  {
   "cell_type": "code",
   "execution_count": 93,
   "id": "42a1a791",
   "metadata": {},
   "outputs": [
    {
     "data": {
      "image/png": "[encoded data removed]",
      "text/plain": [
       "<Figure size 640x480 with 1 Axes>"
      ]
     },
     "metadata": {},
     "output_type": "display_data"
    },
    {
     "data": {
      "text/plain": [
       "<ggplot: (8776902839950)>"
      ]
     },
     "execution_count": 93,
     "metadata": {},
     "output_type": "execute_result"
    }
   ],
   "source": [
    "cutoff = 600000\n",
    "\n",
    "ggplot(\n",
    "    rf_model_2_var_imp_df.loc[lambda x: x.imp > cutoff],\n",
    "    aes(x=\"reorder(varname, imp)\", y=\"imp_percentage\"),\n",
    ") + geom_point(color=color[0], size=1.5) + geom_segment(\n",
    "    aes(x=\"varname\", xend=\"varname\", y=0, yend=\"imp_percentage\"), color=color[0], size=1\n",
    ") + ylab(\n",
    "    \"Importance (Percent)\"\n",
    ") + xlab(\n",
    "    \"Variable Name\"\n",
    ") + coord_flip() + scale_y_continuous(\n",
    "    labels=percent_format()\n",
    ") + theme_bw()"
   ]
  },
  {
   "cell_type": "code",
   "execution_count": 94,
   "id": "ea637d92",
   "metadata": {},
   "outputs": [
    {
     "data": {
      "image/png": "[encoded data removed]",
      "text/plain": [
       "<Figure size 640x480 with 1 Axes>"
      ]
     },
     "metadata": {},
     "output_type": "display_data"
    },
    {
     "data": {
      "text/plain": [
       "<ggplot: (8776824411489)>"
      ]
     },
     "execution_count": 94,
     "metadata": {},
     "output_type": "execute_result"
    }
   ],
   "source": [
    "ggplot(\n",
    "    rf_model_2_var_imp_df.iloc[:10, :],\n",
    "    aes(x=\"reorder(varname, imp)\", y=\"imp_percentage\"),\n",
    ") + geom_point(color=color[0], size=1.5) + geom_segment(\n",
    "    aes(x=\"varname\", xend=\"varname\", y=0, yend=\"imp_percentage\"), color=color[0], size=1\n",
    ") + ylab(\n",
    "    \"Importance (Percent)\"\n",
    ") + xlab(\n",
    "    \"Variable Name\"\n",
    ") + coord_flip() + scale_y_continuous(\n",
    "    labels=percent_format()\n",
    ") + theme_bw()"
   ]
  },
  {
   "cell_type": "code",
   "execution_count": 95,
   "id": "0ef2cf4c",
   "metadata": {},
   "outputs": [],
   "source": [
    "categorical_columns = [col for col in Predictors_2 if col.startswith(\"f_\")]\n",
    "numerical_columns = [col for col in Predictors_2 if col not in categorical_columns]"
   ]
  },
  {
   "cell_type": "code",
   "execution_count": 96,
   "id": "77e7676c",
   "metadata": {},
   "outputs": [],
   "source": [
    "categorical_encoder = OneHotEncoder(handle_unknown=\"ignore\")\n",
    "\n",
    "preprocessing = ColumnTransformer(\n",
    "    [\n",
    "        (\"cat\", categorical_encoder, categorical_columns),\n",
    "        (\"num\", \"passthrough\", numerical_columns),\n",
    "    ]\n",
    ")\n",
    "\n",
    "rf = Pipeline(\n",
    "    [(\"preprocess\", preprocessing), (\"regressor\", rf_model_2.best_estimator_)] \n",
    ")"
   ]
  },
  {
   "cell_type": "code",
   "execution_count": 101,
   "id": "d0d4e155",
   "metadata": {},
   "outputs": [
    {
     "ename": "TypeError",
     "evalue": "A sparse matrix was passed, but dense data is required. Use X.toarray() to convert to a dense numpy array.",
     "output_type": "error",
     "traceback": [
      "\u001b[0;31m---------------------------------------------------------------------------\u001b[0m",
      "\u001b[0;31mTypeError\u001b[0m                                 Traceback (most recent call last)",
      "\u001b[0;32m/var/folders/lq/10gdfgyj495gwt01brtf67740000gn/T/ipykernel_67499/2430511849.py\u001b[0m in \u001b[0;36m<module>\u001b[0;34m\u001b[0m\n\u001b[0;32m----> 1\u001b[0;31m \u001b[0mrf\u001b[0m\u001b[0;34m.\u001b[0m\u001b[0mfit\u001b[0m\u001b[0;34m(\u001b[0m\u001b[0mdata_train_set\u001b[0m\u001b[0;34m[\u001b[0m\u001b[0mPredictors_2\u001b[0m\u001b[0;34m]\u001b[0m\u001b[0;34m,\u001b[0m\u001b[0mdata_train_set\u001b[0m\u001b[0;34m[\u001b[0m\u001b[0;34m'price'\u001b[0m\u001b[0;34m]\u001b[0m\u001b[0;34m)\u001b[0m\u001b[0;34m\u001b[0m\u001b[0;34m\u001b[0m\u001b[0m\n\u001b[0m",
      "\u001b[0;32m~/miniconda3/lib/python3.8/site-packages/sklearn/pipeline.py\u001b[0m in \u001b[0;36mfit\u001b[0;34m(self, X, y, **fit_params)\u001b[0m\n\u001b[1;32m    344\u001b[0m             \u001b[0;32mif\u001b[0m \u001b[0mself\u001b[0m\u001b[0;34m.\u001b[0m\u001b[0m_final_estimator\u001b[0m \u001b[0;34m!=\u001b[0m \u001b[0;34m'passthrough'\u001b[0m\u001b[0;34m:\u001b[0m\u001b[0;34m\u001b[0m\u001b[0;34m\u001b[0m\u001b[0m\n\u001b[1;32m    345\u001b[0m                 \u001b[0mfit_params_last_step\u001b[0m \u001b[0;34m=\u001b[0m \u001b[0mfit_params_steps\u001b[0m\u001b[0;34m[\u001b[0m\u001b[0mself\u001b[0m\u001b[0;34m.\u001b[0m\u001b[0msteps\u001b[0m\u001b[0;34m[\u001b[0m\u001b[0;34m-\u001b[0m\u001b[0;36m1\u001b[0m\u001b[0;34m]\u001b[0m\u001b[0;34m[\u001b[0m\u001b[0;36m0\u001b[0m\u001b[0;34m]\u001b[0m\u001b[0;34m]\u001b[0m\u001b[0;34m\u001b[0m\u001b[0;34m\u001b[0m\u001b[0m\n\u001b[0;32m--> 346\u001b[0;31m                 \u001b[0mself\u001b[0m\u001b[0;34m.\u001b[0m\u001b[0m_final_estimator\u001b[0m\u001b[0;34m.\u001b[0m\u001b[0mfit\u001b[0m\u001b[0;34m(\u001b[0m\u001b[0mXt\u001b[0m\u001b[0;34m,\u001b[0m \u001b[0my\u001b[0m\u001b[0;34m,\u001b[0m \u001b[0;34m**\u001b[0m\u001b[0mfit_params_last_step\u001b[0m\u001b[0;34m)\u001b[0m\u001b[0;34m\u001b[0m\u001b[0;34m\u001b[0m\u001b[0m\n\u001b[0m\u001b[1;32m    347\u001b[0m \u001b[0;34m\u001b[0m\u001b[0m\n\u001b[1;32m    348\u001b[0m         \u001b[0;32mreturn\u001b[0m \u001b[0mself\u001b[0m\u001b[0;34m\u001b[0m\u001b[0;34m\u001b[0m\u001b[0m\n",
      "\u001b[0;32m~/miniconda3/lib/python3.8/site-packages/skranger/ensemble/regressor.py\u001b[0m in \u001b[0;36mfit\u001b[0;34m(self, X, y, sample_weight, split_select_weights, always_split_features, categorical_features)\u001b[0m\n\u001b[1;32m    201\u001b[0m \u001b[0;34m\u001b[0m\u001b[0m\n\u001b[1;32m    202\u001b[0m         \u001b[0;31m# Check input\u001b[0m\u001b[0;34m\u001b[0m\u001b[0;34m\u001b[0m\u001b[0;34m\u001b[0m\u001b[0m\n\u001b[0;32m--> 203\u001b[0;31m         \u001b[0mX\u001b[0m\u001b[0;34m,\u001b[0m \u001b[0my\u001b[0m \u001b[0;34m=\u001b[0m \u001b[0mself\u001b[0m\u001b[0;34m.\u001b[0m\u001b[0m_validate_data\u001b[0m\u001b[0;34m(\u001b[0m\u001b[0mX\u001b[0m\u001b[0;34m,\u001b[0m \u001b[0my\u001b[0m\u001b[0;34m)\u001b[0m\u001b[0;34m\u001b[0m\u001b[0;34m\u001b[0m\u001b[0m\n\u001b[0m\u001b[1;32m    204\u001b[0m \u001b[0;34m\u001b[0m\u001b[0m\n\u001b[1;32m    205\u001b[0m         \u001b[0;31m# Check the init parameters\u001b[0m\u001b[0;34m\u001b[0m\u001b[0;34m\u001b[0m\u001b[0;34m\u001b[0m\u001b[0m\n",
      "\u001b[0;32m~/miniconda3/lib/python3.8/site-packages/sklearn/base.py\u001b[0m in \u001b[0;36m_validate_data\u001b[0;34m(self, X, y, reset, validate_separately, **check_params)\u001b[0m\n\u001b[1;32m    431\u001b[0m                 \u001b[0my\u001b[0m \u001b[0;34m=\u001b[0m \u001b[0mcheck_array\u001b[0m\u001b[0;34m(\u001b[0m\u001b[0my\u001b[0m\u001b[0;34m,\u001b[0m \u001b[0;34m**\u001b[0m\u001b[0mcheck_y_params\u001b[0m\u001b[0;34m)\u001b[0m\u001b[0;34m\u001b[0m\u001b[0;34m\u001b[0m\u001b[0m\n\u001b[1;32m    432\u001b[0m             \u001b[0;32melse\u001b[0m\u001b[0;34m:\u001b[0m\u001b[0;34m\u001b[0m\u001b[0;34m\u001b[0m\u001b[0m\n\u001b[0;32m--> 433\u001b[0;31m                 \u001b[0mX\u001b[0m\u001b[0;34m,\u001b[0m \u001b[0my\u001b[0m \u001b[0;34m=\u001b[0m \u001b[0mcheck_X_y\u001b[0m\u001b[0;34m(\u001b[0m\u001b[0mX\u001b[0m\u001b[0;34m,\u001b[0m \u001b[0my\u001b[0m\u001b[0;34m,\u001b[0m \u001b[0;34m**\u001b[0m\u001b[0mcheck_params\u001b[0m\u001b[0;34m)\u001b[0m\u001b[0;34m\u001b[0m\u001b[0;34m\u001b[0m\u001b[0m\n\u001b[0m\u001b[1;32m    434\u001b[0m             \u001b[0mout\u001b[0m \u001b[0;34m=\u001b[0m \u001b[0mX\u001b[0m\u001b[0;34m,\u001b[0m \u001b[0my\u001b[0m\u001b[0;34m\u001b[0m\u001b[0;34m\u001b[0m\u001b[0m\n\u001b[1;32m    435\u001b[0m \u001b[0;34m\u001b[0m\u001b[0m\n",
      "\u001b[0;32m~/miniconda3/lib/python3.8/site-packages/sklearn/utils/validation.py\u001b[0m in \u001b[0;36minner_f\u001b[0;34m(*args, **kwargs)\u001b[0m\n\u001b[1;32m     61\u001b[0m             \u001b[0mextra_args\u001b[0m \u001b[0;34m=\u001b[0m \u001b[0mlen\u001b[0m\u001b[0;34m(\u001b[0m\u001b[0margs\u001b[0m\u001b[0;34m)\u001b[0m \u001b[0;34m-\u001b[0m \u001b[0mlen\u001b[0m\u001b[0;34m(\u001b[0m\u001b[0mall_args\u001b[0m\u001b[0;34m)\u001b[0m\u001b[0;34m\u001b[0m\u001b[0;34m\u001b[0m\u001b[0m\n\u001b[1;32m     62\u001b[0m             \u001b[0;32mif\u001b[0m \u001b[0mextra_args\u001b[0m \u001b[0;34m<=\u001b[0m \u001b[0;36m0\u001b[0m\u001b[0;34m:\u001b[0m\u001b[0;34m\u001b[0m\u001b[0;34m\u001b[0m\u001b[0m\n\u001b[0;32m---> 63\u001b[0;31m                 \u001b[0;32mreturn\u001b[0m \u001b[0mf\u001b[0m\u001b[0;34m(\u001b[0m\u001b[0;34m*\u001b[0m\u001b[0margs\u001b[0m\u001b[0;34m,\u001b[0m \u001b[0;34m**\u001b[0m\u001b[0mkwargs\u001b[0m\u001b[0;34m)\u001b[0m\u001b[0;34m\u001b[0m\u001b[0;34m\u001b[0m\u001b[0m\n\u001b[0m\u001b[1;32m     64\u001b[0m \u001b[0;34m\u001b[0m\u001b[0m\n\u001b[1;32m     65\u001b[0m             \u001b[0;31m# extra_args > 0\u001b[0m\u001b[0;34m\u001b[0m\u001b[0;34m\u001b[0m\u001b[0;34m\u001b[0m\u001b[0m\n",
      "\u001b[0;32m~/miniconda3/lib/python3.8/site-packages/sklearn/utils/validation.py\u001b[0m in \u001b[0;36mcheck_X_y\u001b[0;34m(X, y, accept_sparse, accept_large_sparse, dtype, order, copy, force_all_finite, ensure_2d, allow_nd, multi_output, ensure_min_samples, ensure_min_features, y_numeric, estimator)\u001b[0m\n\u001b[1;32m    869\u001b[0m         \u001b[0;32mraise\u001b[0m \u001b[0mValueError\u001b[0m\u001b[0;34m(\u001b[0m\u001b[0;34m\"y cannot be None\"\u001b[0m\u001b[0;34m)\u001b[0m\u001b[0;34m\u001b[0m\u001b[0;34m\u001b[0m\u001b[0m\n\u001b[1;32m    870\u001b[0m \u001b[0;34m\u001b[0m\u001b[0m\n\u001b[0;32m--> 871\u001b[0;31m     X = check_array(X, accept_sparse=accept_sparse,\n\u001b[0m\u001b[1;32m    872\u001b[0m                     \u001b[0maccept_large_sparse\u001b[0m\u001b[0;34m=\u001b[0m\u001b[0maccept_large_sparse\u001b[0m\u001b[0;34m,\u001b[0m\u001b[0;34m\u001b[0m\u001b[0;34m\u001b[0m\u001b[0m\n\u001b[1;32m    873\u001b[0m                     \u001b[0mdtype\u001b[0m\u001b[0;34m=\u001b[0m\u001b[0mdtype\u001b[0m\u001b[0;34m,\u001b[0m \u001b[0morder\u001b[0m\u001b[0;34m=\u001b[0m\u001b[0morder\u001b[0m\u001b[0;34m,\u001b[0m \u001b[0mcopy\u001b[0m\u001b[0;34m=\u001b[0m\u001b[0mcopy\u001b[0m\u001b[0;34m,\u001b[0m\u001b[0;34m\u001b[0m\u001b[0;34m\u001b[0m\u001b[0m\n",
      "\u001b[0;32m~/miniconda3/lib/python3.8/site-packages/sklearn/utils/validation.py\u001b[0m in \u001b[0;36minner_f\u001b[0;34m(*args, **kwargs)\u001b[0m\n\u001b[1;32m     61\u001b[0m             \u001b[0mextra_args\u001b[0m \u001b[0;34m=\u001b[0m \u001b[0mlen\u001b[0m\u001b[0;34m(\u001b[0m\u001b[0margs\u001b[0m\u001b[0;34m)\u001b[0m \u001b[0;34m-\u001b[0m \u001b[0mlen\u001b[0m\u001b[0;34m(\u001b[0m\u001b[0mall_args\u001b[0m\u001b[0;34m)\u001b[0m\u001b[0;34m\u001b[0m\u001b[0;34m\u001b[0m\u001b[0m\n\u001b[1;32m     62\u001b[0m             \u001b[0;32mif\u001b[0m \u001b[0mextra_args\u001b[0m \u001b[0;34m<=\u001b[0m \u001b[0;36m0\u001b[0m\u001b[0;34m:\u001b[0m\u001b[0;34m\u001b[0m\u001b[0;34m\u001b[0m\u001b[0m\n\u001b[0;32m---> 63\u001b[0;31m                 \u001b[0;32mreturn\u001b[0m \u001b[0mf\u001b[0m\u001b[0;34m(\u001b[0m\u001b[0;34m*\u001b[0m\u001b[0margs\u001b[0m\u001b[0;34m,\u001b[0m \u001b[0;34m**\u001b[0m\u001b[0mkwargs\u001b[0m\u001b[0;34m)\u001b[0m\u001b[0;34m\u001b[0m\u001b[0;34m\u001b[0m\u001b[0m\n\u001b[0m\u001b[1;32m     64\u001b[0m \u001b[0;34m\u001b[0m\u001b[0m\n\u001b[1;32m     65\u001b[0m             \u001b[0;31m# extra_args > 0\u001b[0m\u001b[0;34m\u001b[0m\u001b[0;34m\u001b[0m\u001b[0;34m\u001b[0m\u001b[0m\n",
      "\u001b[0;32m~/miniconda3/lib/python3.8/site-packages/sklearn/utils/validation.py\u001b[0m in \u001b[0;36mcheck_array\u001b[0;34m(array, accept_sparse, accept_large_sparse, dtype, order, copy, force_all_finite, ensure_2d, allow_nd, ensure_min_samples, ensure_min_features, estimator)\u001b[0m\n\u001b[1;32m    648\u001b[0m     \u001b[0;32mif\u001b[0m \u001b[0msp\u001b[0m\u001b[0;34m.\u001b[0m\u001b[0missparse\u001b[0m\u001b[0;34m(\u001b[0m\u001b[0marray\u001b[0m\u001b[0;34m)\u001b[0m\u001b[0;34m:\u001b[0m\u001b[0;34m\u001b[0m\u001b[0;34m\u001b[0m\u001b[0m\n\u001b[1;32m    649\u001b[0m         \u001b[0m_ensure_no_complex_data\u001b[0m\u001b[0;34m(\u001b[0m\u001b[0marray\u001b[0m\u001b[0;34m)\u001b[0m\u001b[0;34m\u001b[0m\u001b[0;34m\u001b[0m\u001b[0m\n\u001b[0;32m--> 650\u001b[0;31m         array = _ensure_sparse_format(array, accept_sparse=accept_sparse,\n\u001b[0m\u001b[1;32m    651\u001b[0m                                       \u001b[0mdtype\u001b[0m\u001b[0;34m=\u001b[0m\u001b[0mdtype\u001b[0m\u001b[0;34m,\u001b[0m \u001b[0mcopy\u001b[0m\u001b[0;34m=\u001b[0m\u001b[0mcopy\u001b[0m\u001b[0;34m,\u001b[0m\u001b[0;34m\u001b[0m\u001b[0;34m\u001b[0m\u001b[0m\n\u001b[1;32m    652\u001b[0m                                       \u001b[0mforce_all_finite\u001b[0m\u001b[0;34m=\u001b[0m\u001b[0mforce_all_finite\u001b[0m\u001b[0;34m,\u001b[0m\u001b[0;34m\u001b[0m\u001b[0;34m\u001b[0m\u001b[0m\n",
      "\u001b[0;32m~/miniconda3/lib/python3.8/site-packages/sklearn/utils/validation.py\u001b[0m in \u001b[0;36m_ensure_sparse_format\u001b[0;34m(spmatrix, accept_sparse, dtype, copy, force_all_finite, accept_large_sparse)\u001b[0m\n\u001b[1;32m    415\u001b[0m \u001b[0;34m\u001b[0m\u001b[0m\n\u001b[1;32m    416\u001b[0m     \u001b[0;32mif\u001b[0m \u001b[0maccept_sparse\u001b[0m \u001b[0;32mis\u001b[0m \u001b[0;32mFalse\u001b[0m\u001b[0;34m:\u001b[0m\u001b[0;34m\u001b[0m\u001b[0;34m\u001b[0m\u001b[0m\n\u001b[0;32m--> 417\u001b[0;31m         raise TypeError('A sparse matrix was passed, but dense '\n\u001b[0m\u001b[1;32m    418\u001b[0m                         \u001b[0;34m'data is required. Use X.toarray() to '\u001b[0m\u001b[0;34m\u001b[0m\u001b[0;34m\u001b[0m\u001b[0m\n\u001b[1;32m    419\u001b[0m                         'convert to a dense numpy array.')\n",
      "\u001b[0;31mTypeError\u001b[0m: A sparse matrix was passed, but dense data is required. Use X.toarray() to convert to a dense numpy array."
     ]
    }
   ],
   "source": [
    "rf.fit(data_train_set[Predictors_2],data_train_set['price'])"
   ]
  },
  {
   "cell_type": "markdown",
   "id": "14dfae33",
   "metadata": {},
   "source": [
    "***CART model***"
   ]
  },
  {
   "cell_type": "code",
   "execution_count": 85,
   "id": "fc68c868",
   "metadata": {},
   "outputs": [],
   "source": [
    "from sklearn.tree import DecisionTreeClassifier"
   ]
  },
  {
   "cell_type": "code",
   "execution_count": 86,
   "id": "602156dc",
   "metadata": {},
   "outputs": [],
   "source": [
    "y, X = dmatrices(\"price ~ \" + \" + \".join(Predictors_2), data_train_set)"
   ]
  },
  {
   "cell_type": "code",
   "execution_count": 87,
   "id": "77f78851",
   "metadata": {},
   "outputs": [],
   "source": [
    "CART_model = DecisionTreeClassifier(random_state = 2021, criterion = \"gini\")"
   ]
  },
  {
   "cell_type": "markdown",
   "id": "dbadc3e2",
   "metadata": {},
   "source": [
    "*Get potential ccp_alpha parameters*"
   ]
  },
  {
   "cell_type": "code",
   "execution_count": 88,
   "id": "dda0d05e",
   "metadata": {},
   "outputs": [],
   "source": [
    "path = CART_model.cost_complexity_pruning_path(X, y.ravel())\n",
    "ccp_alphas, impurities = path.ccp_alphas, path.impurities"
   ]
  },
  {
   "cell_type": "markdown",
   "id": "19adeeb5",
   "metadata": {},
   "source": [
    "*Apply random search to select a \"best\" alpha*"
   ]
  },
  {
   "cell_type": "code",
   "execution_count": 89,
   "id": "55d7f949",
   "metadata": {},
   "outputs": [
    {
     "name": "stdout",
     "output_type": "stream",
     "text": [
      "Fitting 5 folds for each of 10 candidates, totalling 50 fits\n"
     ]
    },
    {
     "name": "stderr",
     "output_type": "stream",
     "text": [
      "/Users/chenche/miniconda3/lib/python3.8/site-packages/sklearn/model_selection/_split.py:666: UserWarning: The least populated class in y has only 1 members, which is less than n_splits=5.\n"
     ]
    },
    {
     "name": "stdout",
     "output_type": "stream",
     "text": [
      "[CV 1/5] END .ccp_alpha=9.802960494069208e-05;, score=-92.045 total time=   0.3s\n",
      "[CV 2/5] END .ccp_alpha=9.802960494069208e-05;, score=-86.446 total time=   0.3s\n",
      "[CV 3/5] END .ccp_alpha=9.802960494069208e-05;, score=-83.022 total time=   0.3s\n",
      "[CV 4/5] END .ccp_alpha=9.802960494069208e-05;, score=-89.140 total time=   0.3s\n",
      "[CV 5/5] END .ccp_alpha=9.802960494069208e-05;, score=-86.194 total time=   0.3s\n",
      "[CV 1/5] END ccp_alpha=0.00010842668425258368;, score=-92.046 total time=   0.3s\n",
      "[CV 2/5] END ccp_alpha=0.00010842668425258368;, score=-86.444 total time=   0.3s\n",
      "[CV 3/5] END ccp_alpha=0.00010842668425258368;, score=-82.706 total time=   0.3s\n",
      "[CV 4/5] END ccp_alpha=0.00010842668425258368;, score=-89.122 total time=   0.3s\n",
      "[CV 5/5] END ccp_alpha=0.00010842668425258368;, score=-86.178 total time=   0.3s\n",
      "[CV 1/5] END .ccp_alpha=9.802960494069208e-05;, score=-92.045 total time=   0.3s\n",
      "[CV 2/5] END .ccp_alpha=9.802960494069208e-05;, score=-86.446 total time=   0.3s\n",
      "[CV 3/5] END .ccp_alpha=9.802960494069208e-05;, score=-83.022 total time=   0.3s\n",
      "[CV 4/5] END .ccp_alpha=9.802960494069208e-05;, score=-89.140 total time=   0.3s\n",
      "[CV 5/5] END .ccp_alpha=9.802960494069208e-05;, score=-86.194 total time=   0.3s\n",
      "[CV 1/5] END ccp_alpha=0.00011110021893278427;, score=-92.035 total time=   0.3s\n",
      "[CV 2/5] END ccp_alpha=0.00011110021893278427;, score=-86.392 total time=   0.3s\n",
      "[CV 3/5] END ccp_alpha=0.00011110021893278427;, score=-82.670 total time=   0.3s\n",
      "[CV 4/5] END ccp_alpha=0.00011110021893278427;, score=-88.786 total time=   0.3s\n",
      "[CV 5/5] END ccp_alpha=0.00011110021893278427;, score=-86.165 total time=   0.3s\n",
      "[CV 1/5] END .ccp_alpha=9.802960494069208e-05;, score=-92.045 total time=   0.3s\n",
      "[CV 2/5] END .ccp_alpha=9.802960494069208e-05;, score=-86.446 total time=   0.3s\n",
      "[CV 3/5] END .ccp_alpha=9.802960494069208e-05;, score=-83.022 total time=   0.3s\n",
      "[CV 4/5] END .ccp_alpha=9.802960494069208e-05;, score=-89.140 total time=   0.3s\n",
      "[CV 5/5] END .ccp_alpha=9.802960494069208e-05;, score=-86.194 total time=   0.3s\n",
      "[CV 1/5] END ccp_alpha=0.00013070613992092277;, score=-88.917 total time=   0.3s\n",
      "[CV 2/5] END ccp_alpha=0.00013070613992092277;, score=-83.213 total time=   0.3s\n",
      "[CV 3/5] END ccp_alpha=0.00013070613992092277;, score=-75.917 total time=   0.3s\n",
      "[CV 4/5] END ccp_alpha=0.00013070613992092277;, score=-81.935 total time=   0.3s\n",
      "[CV 5/5] END ccp_alpha=0.00013070613992092277;, score=-101.558 total time=   0.3s\n",
      "[CV 1/5] END .ccp_alpha=9.604920888128419e-05;, score=-92.163 total time=   0.3s\n",
      "[CV 2/5] END .ccp_alpha=9.604920888128419e-05;, score=-86.435 total time=   0.3s\n",
      "[CV 3/5] END .ccp_alpha=9.604920888128419e-05;, score=-83.026 total time=   0.3s\n",
      "[CV 4/5] END .ccp_alpha=9.604920888128419e-05;, score=-89.144 total time=   0.3s\n",
      "[CV 5/5] END .ccp_alpha=9.604920888128419e-05;, score=-86.152 total time=   0.3s\n",
      "[CV 1/5] END .ccp_alpha=9.802960494069208e-05;, score=-92.045 total time=   0.3s\n",
      "[CV 2/5] END .ccp_alpha=9.802960494069208e-05;, score=-86.446 total time=   0.3s\n",
      "[CV 3/5] END .ccp_alpha=9.802960494069208e-05;, score=-83.022 total time=   0.3s\n",
      "[CV 4/5] END .ccp_alpha=9.802960494069208e-05;, score=-89.140 total time=   0.3s\n",
      "[CV 5/5] END .ccp_alpha=9.802960494069208e-05;, score=-86.194 total time=   0.3s\n",
      "[CV 1/5] END .ccp_alpha=0.0002049709921487199;, score=-83.855 total time=   0.3s\n",
      "[CV 2/5] END .ccp_alpha=0.0002049709921487199;, score=-81.759 total time=   0.3s\n",
      "[CV 3/5] END .ccp_alpha=0.0002049709921487199;, score=-73.066 total time=   0.3s\n",
      "[CV 4/5] END .ccp_alpha=0.0002049709921487199;, score=-79.664 total time=   0.3s\n",
      "[CV 5/5] END .ccp_alpha=0.0002049709921487199;, score=-80.368 total time=   0.3s\n",
      "[CV 1/5] END ccp_alpha=0.00015548285325758153;, score=-86.234 total time=   0.3s\n",
      "[CV 2/5] END ccp_alpha=0.00015548285325758153;, score=-82.427 total time=   0.3s\n",
      "[CV 3/5] END ccp_alpha=0.00015548285325758153;, score=-98.640 total time=   0.3s\n",
      "[CV 4/5] END ccp_alpha=0.00015548285325758153;, score=-77.850 total time=   0.3s\n",
      "[CV 5/5] END ccp_alpha=0.00015548285325758153;, score=-101.297 total time=   0.3s\n"
     ]
    },
    {
     "data": {
      "text/plain": [
       "RandomizedSearchCV(cv=5, estimator=DecisionTreeClassifier(random_state=2021),\n",
       "                   param_distributions={'ccp_alpha': array([0.00000000e+00, 3.50105732e-06, 6.68383670e-06, ...,\n",
       "       1.56735149e-03, 1.73731957e-03, 3.86234264e-03])},\n",
       "                   scoring='neg_root_mean_squared_error', verbose=3)"
      ]
     },
     "execution_count": 89,
     "metadata": {},
     "output_type": "execute_result"
    }
   ],
   "source": [
    "CART_model_cv = RandomizedSearchCV(\n",
    "    CART_model,\n",
    "    {\"ccp_alpha\":ccp_alphas},\n",
    "    cv = 5,\n",
    "    scoring = \"neg_root_mean_squared_error\",\n",
    "    verbose = 3,\n",
    ")\n",
    "\n",
    "\n",
    "CART_model_cv.fit(X,y.ravel())"
   ]
  },
  {
   "cell_type": "code",
   "execution_count": 90,
   "id": "01992929",
   "metadata": {},
   "outputs": [
    {
     "data": {
      "text/plain": [
       "79.7424614681423"
      ]
     },
     "execution_count": 90,
     "metadata": {},
     "output_type": "execute_result"
    }
   ],
   "source": [
    "CART_rmse = pd.DataFrame(CART_model_cv.cv_results_).loc[\n",
    "    lambda x: x.param_ccp_alpha == CART_model_cv.best_estimator_.ccp_alpha\n",
    "].mean_test_score.values[0] * -1\n",
    "CART_rmse"
   ]
  },
  {
   "cell_type": "code",
   "execution_count": 91,
   "id": "de5cd66f",
   "metadata": {},
   "outputs": [],
   "source": [
    "np.save(\"../Output/bcn_CART.npy\", CART_rmse)"
   ]
  },
  {
   "cell_type": "code",
   "execution_count": null,
   "id": "379327ea",
   "metadata": {},
   "outputs": [],
   "source": []
  }
 ],
 "metadata": {
  "kernelspec": {
   "display_name": "Python 3 (ipykernel)",
   "language": "python",
   "name": "python3"
  },
  "language_info": {
   "codemirror_mode": {
    "name": "ipython",
    "version": 3
   },
   "file_extension": ".py",
   "mimetype": "text/x-python",
   "name": "python",
   "nbconvert_exporter": "python",
   "pygments_lexer": "ipython3",
   "version": "3.8.3"
  }
 },
 "nbformat": 4,
 "nbformat_minor": 5
}
