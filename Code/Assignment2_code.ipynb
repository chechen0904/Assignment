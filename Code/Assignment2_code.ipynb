{
 "cells": [
  {
   "cell_type": "markdown",
   "id": "ba4058d9",
   "metadata": {},
   "source": [
    "***Dataset from: http://insideairbnb.com/get-the-data.html***\n",
    "        \n",
    "***I choose Barcelona.***"
   ]
  },
  {
   "cell_type": "code",
   "execution_count": 730,
   "id": "13500862",
   "metadata": {},
   "outputs": [],
   "source": [
    "import pandas as pd\n",
    "import numpy as np\n",
    "import os\n",
    "from pathlib import Path\n",
    "import sys\n",
    "import re\n",
    "from datetime import datetime\n",
    "func = \"../Function/\"\n",
    "sys.path.append(func)\n",
    "from py_helper_functions import *\n",
    "\n",
    "import statsmodels.api as sm\n",
    "import statsmodels.formula.api as smf\n",
    "from stargazer import stargazer\n",
    "from statsmodels.tools.eval_measures import mse,rmse\n",
    "from sklearn.metrics import mean_squared_error\n",
    "\n",
    "from patsy import dmatrices\n",
    "from sklearn.model_selection import train_test_split\n",
    "from sklearn.model_selection import KFold\n",
    "from statsmodels.tools.eval_measures import mse,rmse\n",
    "from sklearn.tree import DecisionTreeClassifier\n",
    "from mizani.formatters import percent_format\n",
    "from plotnine import *\n",
    "import matplotlib.pyplot as plt\n",
    "from plotnine import *\n",
    "\n",
    "\n",
    "from skranger.ensemble import RangerForestRegressor\n",
    "from sklearn.model_selection import GridSearchCV\n",
    "from sklearn.model_selection import RandomizedSearchCV\n",
    "from sklearn.impute import SimpleImputer\n",
    "from sklearn.inspection import permutation_importance\n",
    "from sklearn.inspection import plot_partial_dependence\n",
    "from sklearn.inspection import partial_dependence\n",
    "from sklearn.compose import ColumnTransformer\n",
    "from sklearn.pipeline import Pipeline\n",
    "from sklearn.preprocessing import OneHotEncoder\n",
    "\n",
    "from sklearn.base import TransformerMixin\n",
    "class DenseTransformer(TransformerMixin):\n",
    "\n",
    "    def fit(self, X, y=None, **fit_params):\n",
    "        return self\n",
    "\n",
    "    def transform(self, X, y=None, **fit_params):\n",
    "        return X.todense()"
   ]
  },
  {
   "cell_type": "markdown",
   "id": "6430185e",
   "metadata": {},
   "source": [
    "***Import the data which I want to used.***"
   ]
  },
  {
   "cell_type": "code",
   "execution_count": 617,
   "id": "149780f3",
   "metadata": {},
   "outputs": [],
   "source": [
    "bcn = pd.read_csv('../Data/listings.csv')"
   ]
  },
  {
   "cell_type": "code",
   "execution_count": 619,
   "id": "2984b5fc",
   "metadata": {},
   "outputs": [
    {
     "data": {
      "text/plain": [
       "Entire rental unit                     7519\n",
       "Private room in rental unit            5768\n",
       "Entire serviced apartment               411\n",
       "Entire loft                             279\n",
       "Room in boutique hotel                  262\n",
       "Entire condominium (condo)              260\n",
       "Private room in condominium (condo)     242\n",
       "Private room in residential home        222\n",
       "Private room in hostel                  137\n",
       "Room in hotel                           134\n",
       "Private room in serviced apartment      129\n",
       "Shared room in hostel                    90\n",
       "Private room in bed and breakfast        83\n",
       "Private room in guest suite              78\n",
       "Entire residential home                  65\n",
       "Room in hostel                           59\n",
       "Private room in loft                     58\n",
       "Shared room in rental unit               57\n",
       "Entire guest suite                       40\n",
       "Room in serviced apartment               32\n",
       "Boat                                     28\n",
       "Private room in casa particular          28\n",
       "Private room                             23\n",
       "Private room in guesthouse               20\n",
       "Entire guesthouse                        17\n",
       "Entire townhouse                         17\n",
       "Shared room in bed and breakfast         17\n",
       "Private room in floor                    16\n",
       "Entire villa                             16\n",
       "Private room in townhouse                11\n",
       "Private room in dome house               10\n",
       "Room in aparthotel                       10\n",
       "Room in bed and breakfast                 9\n",
       "Private room in villa                     8\n",
       "Camper/RV                                 6\n",
       "Shared room in loft                       5\n",
       "Shared room in guest suite                5\n",
       "Private room in chalet                    4\n",
       "Shared room in residential home           3\n",
       "Private room in boat                      3\n",
       "Tiny house                                3\n",
       "Entire chalet                             3\n",
       "Casa particular                           3\n",
       "Shared room in serviced apartment         2\n",
       "Private room in tiny house                2\n",
       "Entire place                              2\n",
       "Entire home/apt                           2\n",
       "Barn                                      1\n",
       "Shared room in guesthouse                 1\n",
       "Shared room in hotel                      1\n",
       "Shared room in condominium (condo)        1\n",
       "Floor                                     1\n",
       "Private room in farm stay                 1\n",
       "Shared room in floor                      1\n",
       "Private room in vacation home             1\n",
       "Name: property_type, dtype: int64"
      ]
     },
     "execution_count": 619,
     "metadata": {},
     "output_type": "execute_result"
    }
   ],
   "source": [
    "bcn[\"property_type\"].value_counts()"
   ]
  },
  {
   "cell_type": "markdown",
   "id": "b2ca6d19",
   "metadata": {},
   "source": [
    "***keep the target property type***"
   ]
  },
  {
   "cell_type": "code",
   "execution_count": 620,
   "id": "e385142f",
   "metadata": {},
   "outputs": [],
   "source": [
    "bcn = bcn.loc[lambda x: x[\"property_type\"].isin([\"Entire rental unit\", \n",
    "                                                 \"Private room in rental unit\", \n",
    "                                                 \"Entire serviced apartment\", \n",
    "                                                 \"Entire loft\", \n",
    "                                                 \"Room in boutique hotel\", \n",
    "                                                 \"Entire condominium (condo)\", \n",
    "                                                 \"Private room in condominium (condo)\", \n",
    "                                                 \"Private room in residential home\", \n",
    "                                                 \"Private room in hostel\", \n",
    "                                                 \"Room in hotel\", \n",
    "                                                 \"Private room in serviced apartment\",\n",
    "                                                 \"Shared room in hostel\",\n",
    "                                                 \"Entire residential home\", \n",
    "                                                 \"Room in hostel\",\n",
    "                                                 \"Private room in loft\",\n",
    "                                                 \"Shared room in rental unit\"\n",
    "                                                ])]"
   ]
  },
  {
   "cell_type": "markdown",
   "id": "14ecfd96",
   "metadata": {},
   "source": [
    "***Re-classify the property type***"
   ]
  },
  {
   "cell_type": "code",
   "execution_count": 621,
   "id": "05b0174e",
   "metadata": {},
   "outputs": [],
   "source": [
    "bcn[\"property_type\"] = np.where(\n",
    "    bcn[\"property_type\"] == \"Private room in rental unit\", \n",
    "    \"Entire rental unit\", \n",
    "    bcn[\"property_type\"]\n",
    ")\n",
    "bcn[\"property_type\"] = np.where(\n",
    "    bcn[\"property_type\"] == \"Entire loft\", \n",
    "    \"Entire serviced apartment\", \n",
    "    bcn[\"property_type\"]\n",
    ")\n",
    "bcn[\"property_type\"] = np.where(\n",
    "    bcn[\"property_type\"] == \"Room in boutique hotel\", \n",
    "    \"Room in hotel\", \n",
    "    bcn[\"property_type\"]\n",
    ")\n",
    "bcn[\"property_type\"] = np.where(\n",
    "    bcn[\"property_type\"] == \"Entire condominium (condo)\", \n",
    "    \"Entire serviced apartment\", \n",
    "    bcn[\"property_type\"]\n",
    ")\n",
    "bcn[\"property_type\"] = np.where(\n",
    "    bcn[\"property_type\"] == \"Private room in condominium (condo)\", \n",
    "    \"Entire serviced apartment\", \n",
    "    bcn[\"property_type\"]\n",
    ")\n",
    "bcn[\"property_type\"] = np.where(\n",
    "    bcn[\"property_type\"] == \"Private room in residential home\", \n",
    "    \"Entire serviced apartment\", \n",
    "    bcn[\"property_type\"]\n",
    ")\n",
    "bcn[\"property_type\"] = np.where(\n",
    "    bcn[\"property_type\"] == \"Private room in hostel\", \n",
    "    \"Room in hotel\", \n",
    "    bcn[\"property_type\"]\n",
    ")\n",
    "bcn[\"property_type\"] = np.where(\n",
    "    bcn[\"property_type\"] == \"Private room in serviced apartment\", \n",
    "    \"Entire serviced apartment\", \n",
    "    bcn[\"property_type\"]\n",
    ")\n",
    "bcn[\"property_type\"] = np.where(\n",
    "    bcn[\"property_type\"] == \"Shared room in hostel\", \n",
    "    \"Room in hotel\", \n",
    "    bcn[\"property_type\"]\n",
    ")\n",
    "bcn[\"property_type\"] = np.where(\n",
    "    bcn[\"property_type\"] == \"Entire residential home\", \n",
    "    \"Entire serviced apartment\", \n",
    "    bcn[\"property_type\"]\n",
    ")\n",
    "bcn[\"property_type\"] = np.where(\n",
    "    bcn[\"property_type\"] == \"Room in hostel\", \n",
    "    \"Room in hotel\", \n",
    "    bcn[\"property_type\"]\n",
    ")\n",
    "bcn[\"property_type\"] = np.where(\n",
    "    bcn[\"property_type\"] == \"Private room in loft\", \n",
    "    \"Entire serviced apartment\", \n",
    "    bcn[\"property_type\"]\n",
    ")\n",
    "bcn[\"property_type\"] = np.where(\n",
    "    bcn[\"property_type\"] == \"Shared room in rental unit\", \n",
    "    \"Entire rental unit\", \n",
    "    bcn[\"property_type\"]\n",
    ")"
   ]
  },
  {
   "cell_type": "markdown",
   "id": "f35a93a0",
   "metadata": {},
   "source": [
    "***Rename the property type, make it shorter***"
   ]
  },
  {
   "cell_type": "code",
   "execution_count": 622,
   "id": "d03e373a",
   "metadata": {},
   "outputs": [],
   "source": [
    "bcn[\"property_type\"] = bcn[\"property_type\"].map(\n",
    "    {\n",
    "        \"Entire rental unit\": \"Rental unit\",\n",
    "        \"Entire serviced apartment\": \"Apartment\",\n",
    "        \"Room in hotel\": \"Hotel\"\n",
    "    }\n",
    ")"
   ]
  },
  {
   "cell_type": "markdown",
   "id": "9be3e3ec",
   "metadata": {},
   "source": [
    "***Property type as factor***"
   ]
  },
  {
   "cell_type": "code",
   "execution_count": 623,
   "id": "d3ff80b8",
   "metadata": {},
   "outputs": [],
   "source": [
    "bcn[\"f_property_type\"] = bcn[\"property_type\"].astype(\"category\")"
   ]
  },
  {
   "cell_type": "code",
   "execution_count": 624,
   "id": "14c5a7ac",
   "metadata": {},
   "outputs": [
    {
     "data": {
      "text/plain": [
       "Rental unit    13344\n",
       "Apartment       1666\n",
       "Hotel            682\n",
       "Name: property_type, dtype: int64"
      ]
     },
     "execution_count": 624,
     "metadata": {},
     "output_type": "execute_result"
    }
   ],
   "source": [
    "bcn[\"property_type\"].value_counts()"
   ]
  },
  {
   "cell_type": "code",
   "execution_count": 625,
   "id": "9fdfea2d",
   "metadata": {},
   "outputs": [
    {
     "data": {
      "text/plain": [
       "Entire home/apt    8534\n",
       "Private room       6813\n",
       "Hotel room          198\n",
       "Shared room         147\n",
       "Name: room_type, dtype: int64"
      ]
     },
     "execution_count": 625,
     "metadata": {},
     "output_type": "execute_result"
    }
   ],
   "source": [
    "bcn[\"room_type\"].value_counts()"
   ]
  },
  {
   "cell_type": "code",
   "execution_count": 626,
   "id": "284907c7",
   "metadata": {},
   "outputs": [],
   "source": [
    "bcn = bcn.loc[bcn.room_type!=\"Hotel room\",:]"
   ]
  },
  {
   "cell_type": "code",
   "execution_count": 627,
   "id": "5643ab44",
   "metadata": {},
   "outputs": [
    {
     "data": {
      "text/plain": [
       "Entire home/apt    8534\n",
       "Private room       6813\n",
       "Shared room         147\n",
       "Name: room_type, dtype: int64"
      ]
     },
     "execution_count": 627,
     "metadata": {},
     "output_type": "execute_result"
    }
   ],
   "source": [
    "bcn[\"room_type\"].value_counts()"
   ]
  },
  {
   "cell_type": "markdown",
   "id": "214e2d77",
   "metadata": {},
   "source": [
    "***Room type as factor***"
   ]
  },
  {
   "cell_type": "code",
   "execution_count": 628,
   "id": "7ffe887d",
   "metadata": {},
   "outputs": [],
   "source": [
    "bcn[\"f_room_type\"] = bcn[\"room_type\"].astype(\"category\")"
   ]
  },
  {
   "cell_type": "markdown",
   "id": "ea700b52",
   "metadata": {},
   "source": [
    "***Rename the room type, make it shorter***"
   ]
  },
  {
   "cell_type": "code",
   "execution_count": 629,
   "id": "cb546fca",
   "metadata": {},
   "outputs": [],
   "source": [
    "bcn[\"f_room_type2\"] = bcn[\"f_room_type\"].map(\n",
    "    {\n",
    "        \"Entire home/apt\": \"Entire/Apt\",\n",
    "        \"Private room\": \"Private\",\n",
    "        \"Shared room\": \"Shared\"\n",
    "    }\n",
    ")"
   ]
  },
  {
   "cell_type": "code",
   "execution_count": 630,
   "id": "e9b79238",
   "metadata": {},
   "outputs": [
    {
     "data": {
      "text/html": [
       "<div>\n",
       "<style scoped>\n",
       "    .dataframe tbody tr th:only-of-type {\n",
       "        vertical-align: middle;\n",
       "    }\n",
       "\n",
       "    .dataframe tbody tr th {\n",
       "        vertical-align: top;\n",
       "    }\n",
       "\n",
       "    .dataframe thead th {\n",
       "        text-align: right;\n",
       "    }\n",
       "</style>\n",
       "<table border=\"1\" class=\"dataframe\">\n",
       "  <thead>\n",
       "    <tr style=\"text-align: right;\">\n",
       "      <th></th>\n",
       "      <th>0</th>\n",
       "      <th>1</th>\n",
       "    </tr>\n",
       "  </thead>\n",
       "  <tbody>\n",
       "    <tr>\n",
       "      <th>id</th>\n",
       "      <td>18674</td>\n",
       "      <td>23197</td>\n",
       "    </tr>\n",
       "    <tr>\n",
       "      <th>listing_url</th>\n",
       "      <td>https://www.airbnb.com/rooms/18674</td>\n",
       "      <td>https://www.airbnb.com/rooms/23197</td>\n",
       "    </tr>\n",
       "    <tr>\n",
       "      <th>scrape_id</th>\n",
       "      <td>20210910193102</td>\n",
       "      <td>20210910193102</td>\n",
       "    </tr>\n",
       "    <tr>\n",
       "      <th>last_scraped</th>\n",
       "      <td>2021-09-10</td>\n",
       "      <td>2021-09-11</td>\n",
       "    </tr>\n",
       "    <tr>\n",
       "      <th>name</th>\n",
       "      <td>Huge flat for 8 people close to Sagrada Familia</td>\n",
       "      <td>Forum CCIB DeLuxe★Spacious &amp;Elegant★Large Balcony</td>\n",
       "    </tr>\n",
       "    <tr>\n",
       "      <th>description</th>\n",
       "      <td>110m2 apartment to rent in Barcelona. Located ...</td>\n",
       "      <td>Beautiful spacious apartment, large terrace, 5...</td>\n",
       "    </tr>\n",
       "    <tr>\n",
       "      <th>neighborhood_overview</th>\n",
       "      <td>Apartment in Barcelona located in the heart of...</td>\n",
       "      <td>Strategically located in the Parc del Fòrum ar...</td>\n",
       "    </tr>\n",
       "    <tr>\n",
       "      <th>picture_url</th>\n",
       "      <td>https://a0.muscache.com/pictures/13031453/413c...</td>\n",
       "      <td>https://a0.muscache.com/pictures/738532/806da1...</td>\n",
       "    </tr>\n",
       "    <tr>\n",
       "      <th>host_id</th>\n",
       "      <td>71615</td>\n",
       "      <td>90417</td>\n",
       "    </tr>\n",
       "    <tr>\n",
       "      <th>host_url</th>\n",
       "      <td>https://www.airbnb.com/users/show/71615</td>\n",
       "      <td>https://www.airbnb.com/users/show/90417</td>\n",
       "    </tr>\n",
       "    <tr>\n",
       "      <th>host_name</th>\n",
       "      <td>Mireia And Maria</td>\n",
       "      <td>Etain (Marnie)</td>\n",
       "    </tr>\n",
       "    <tr>\n",
       "      <th>host_since</th>\n",
       "      <td>2010-01-19</td>\n",
       "      <td>2010-03-09</td>\n",
       "    </tr>\n",
       "    <tr>\n",
       "      <th>host_location</th>\n",
       "      <td>Barcelona, Catalonia, Spain</td>\n",
       "      <td>Catalonia, Spain</td>\n",
       "    </tr>\n",
       "    <tr>\n",
       "      <th>host_about</th>\n",
       "      <td>We are Mireia (43) &amp; Maria (45), two multiling...</td>\n",
       "      <td>Hi.  I'm Etain, though everyone calls me by my...</td>\n",
       "    </tr>\n",
       "    <tr>\n",
       "      <th>host_response_time</th>\n",
       "      <td>within an hour</td>\n",
       "      <td>within an hour</td>\n",
       "    </tr>\n",
       "    <tr>\n",
       "      <th>host_response_rate</th>\n",
       "      <td>100%</td>\n",
       "      <td>100%</td>\n",
       "    </tr>\n",
       "    <tr>\n",
       "      <th>host_acceptance_rate</th>\n",
       "      <td>83%</td>\n",
       "      <td>70%</td>\n",
       "    </tr>\n",
       "    <tr>\n",
       "      <th>host_is_superhost</th>\n",
       "      <td>f</td>\n",
       "      <td>f</td>\n",
       "    </tr>\n",
       "    <tr>\n",
       "      <th>host_thumbnail_url</th>\n",
       "      <td>https://a0.muscache.com/im/users/71615/profile...</td>\n",
       "      <td>https://a0.muscache.com/im/users/90417/profile...</td>\n",
       "    </tr>\n",
       "    <tr>\n",
       "      <th>host_picture_url</th>\n",
       "      <td>https://a0.muscache.com/im/users/71615/profile...</td>\n",
       "      <td>https://a0.muscache.com/im/users/90417/profile...</td>\n",
       "    </tr>\n",
       "    <tr>\n",
       "      <th>host_neighbourhood</th>\n",
       "      <td>la Sagrada Família</td>\n",
       "      <td>El Besòs i el Maresme</td>\n",
       "    </tr>\n",
       "    <tr>\n",
       "      <th>host_listings_count</th>\n",
       "      <td>35</td>\n",
       "      <td>2</td>\n",
       "    </tr>\n",
       "    <tr>\n",
       "      <th>host_total_listings_count</th>\n",
       "      <td>35</td>\n",
       "      <td>2</td>\n",
       "    </tr>\n",
       "    <tr>\n",
       "      <th>host_verifications</th>\n",
       "      <td>['email', 'phone', 'reviews', 'jumio', 'govern...</td>\n",
       "      <td>['email', 'phone', 'reviews', 'jumio', 'offlin...</td>\n",
       "    </tr>\n",
       "    <tr>\n",
       "      <th>host_has_profile_pic</th>\n",
       "      <td>t</td>\n",
       "      <td>t</td>\n",
       "    </tr>\n",
       "    <tr>\n",
       "      <th>host_identity_verified</th>\n",
       "      <td>t</td>\n",
       "      <td>t</td>\n",
       "    </tr>\n",
       "    <tr>\n",
       "      <th>neighbourhood</th>\n",
       "      <td>Barcelona, CT, Spain</td>\n",
       "      <td>Sant Adria de Besos, Barcelona, Spain</td>\n",
       "    </tr>\n",
       "    <tr>\n",
       "      <th>neighbourhood_cleansed</th>\n",
       "      <td>la Sagrada Família</td>\n",
       "      <td>el Besòs i el Maresme</td>\n",
       "    </tr>\n",
       "    <tr>\n",
       "      <th>neighbourhood_group_cleansed</th>\n",
       "      <td>Eixample</td>\n",
       "      <td>Sant Martí</td>\n",
       "    </tr>\n",
       "    <tr>\n",
       "      <th>latitude</th>\n",
       "      <td>41.4056</td>\n",
       "      <td>41.4129</td>\n",
       "    </tr>\n",
       "    <tr>\n",
       "      <th>longitude</th>\n",
       "      <td>2.17262</td>\n",
       "      <td>2.22063</td>\n",
       "    </tr>\n",
       "    <tr>\n",
       "      <th>property_type</th>\n",
       "      <td>Rental unit</td>\n",
       "      <td>Rental unit</td>\n",
       "    </tr>\n",
       "    <tr>\n",
       "      <th>room_type</th>\n",
       "      <td>Entire home/apt</td>\n",
       "      <td>Entire home/apt</td>\n",
       "    </tr>\n",
       "    <tr>\n",
       "      <th>accommodates</th>\n",
       "      <td>8</td>\n",
       "      <td>6</td>\n",
       "    </tr>\n",
       "    <tr>\n",
       "      <th>bathrooms</th>\n",
       "      <td>NaN</td>\n",
       "      <td>NaN</td>\n",
       "    </tr>\n",
       "    <tr>\n",
       "      <th>bathrooms_text</th>\n",
       "      <td>2 baths</td>\n",
       "      <td>2 baths</td>\n",
       "    </tr>\n",
       "    <tr>\n",
       "      <th>bedrooms</th>\n",
       "      <td>3</td>\n",
       "      <td>3</td>\n",
       "    </tr>\n",
       "    <tr>\n",
       "      <th>beds</th>\n",
       "      <td>6</td>\n",
       "      <td>5</td>\n",
       "    </tr>\n",
       "    <tr>\n",
       "      <th>amenities</th>\n",
       "      <td>[\"TV\", \"Wifi\", \"Hair dryer\", \"Washer\", \"Dedica...</td>\n",
       "      <td>[\"TV\", \"Washer\", \"Bed linens\", \"Hangers\", \"Pai...</td>\n",
       "    </tr>\n",
       "    <tr>\n",
       "      <th>price</th>\n",
       "      <td>$121.00</td>\n",
       "      <td>$229.00</td>\n",
       "    </tr>\n",
       "    <tr>\n",
       "      <th>minimum_nights</th>\n",
       "      <td>1</td>\n",
       "      <td>4</td>\n",
       "    </tr>\n",
       "    <tr>\n",
       "      <th>maximum_nights</th>\n",
       "      <td>1125</td>\n",
       "      <td>300</td>\n",
       "    </tr>\n",
       "    <tr>\n",
       "      <th>minimum_minimum_nights</th>\n",
       "      <td>1</td>\n",
       "      <td>4</td>\n",
       "    </tr>\n",
       "    <tr>\n",
       "      <th>maximum_minimum_nights</th>\n",
       "      <td>3</td>\n",
       "      <td>7</td>\n",
       "    </tr>\n",
       "    <tr>\n",
       "      <th>minimum_maximum_nights</th>\n",
       "      <td>1125</td>\n",
       "      <td>1125</td>\n",
       "    </tr>\n",
       "    <tr>\n",
       "      <th>maximum_maximum_nights</th>\n",
       "      <td>1125</td>\n",
       "      <td>1125</td>\n",
       "    </tr>\n",
       "    <tr>\n",
       "      <th>minimum_nights_avg_ntm</th>\n",
       "      <td>1.6</td>\n",
       "      <td>4.1</td>\n",
       "    </tr>\n",
       "    <tr>\n",
       "      <th>maximum_nights_avg_ntm</th>\n",
       "      <td>1125</td>\n",
       "      <td>1125</td>\n",
       "    </tr>\n",
       "    <tr>\n",
       "      <th>calendar_updated</th>\n",
       "      <td>NaN</td>\n",
       "      <td>NaN</td>\n",
       "    </tr>\n",
       "    <tr>\n",
       "      <th>has_availability</th>\n",
       "      <td>t</td>\n",
       "      <td>t</td>\n",
       "    </tr>\n",
       "    <tr>\n",
       "      <th>availability_30</th>\n",
       "      <td>1</td>\n",
       "      <td>22</td>\n",
       "    </tr>\n",
       "    <tr>\n",
       "      <th>availability_60</th>\n",
       "      <td>26</td>\n",
       "      <td>52</td>\n",
       "    </tr>\n",
       "    <tr>\n",
       "      <th>availability_90</th>\n",
       "      <td>50</td>\n",
       "      <td>82</td>\n",
       "    </tr>\n",
       "    <tr>\n",
       "      <th>availability_365</th>\n",
       "      <td>58</td>\n",
       "      <td>128</td>\n",
       "    </tr>\n",
       "    <tr>\n",
       "      <th>calendar_last_scraped</th>\n",
       "      <td>2021-09-10</td>\n",
       "      <td>2021-09-11</td>\n",
       "    </tr>\n",
       "    <tr>\n",
       "      <th>number_of_reviews</th>\n",
       "      <td>21</td>\n",
       "      <td>52</td>\n",
       "    </tr>\n",
       "    <tr>\n",
       "      <th>number_of_reviews_ltm</th>\n",
       "      <td>0</td>\n",
       "      <td>0</td>\n",
       "    </tr>\n",
       "    <tr>\n",
       "      <th>number_of_reviews_l30d</th>\n",
       "      <td>0</td>\n",
       "      <td>0</td>\n",
       "    </tr>\n",
       "    <tr>\n",
       "      <th>first_review</th>\n",
       "      <td>2014-03-02</td>\n",
       "      <td>2016-01-05</td>\n",
       "    </tr>\n",
       "    <tr>\n",
       "      <th>last_review</th>\n",
       "      <td>2019-10-11</td>\n",
       "      <td>2019-12-15</td>\n",
       "    </tr>\n",
       "    <tr>\n",
       "      <th>review_scores_rating</th>\n",
       "      <td>4.4</td>\n",
       "      <td>4.74</td>\n",
       "    </tr>\n",
       "    <tr>\n",
       "      <th>review_scores_accuracy</th>\n",
       "      <td>4.55</td>\n",
       "      <td>4.92</td>\n",
       "    </tr>\n",
       "    <tr>\n",
       "      <th>review_scores_cleanliness</th>\n",
       "      <td>4.75</td>\n",
       "      <td>4.92</td>\n",
       "    </tr>\n",
       "    <tr>\n",
       "      <th>review_scores_checkin</th>\n",
       "      <td>4.8</td>\n",
       "      <td>4.94</td>\n",
       "    </tr>\n",
       "    <tr>\n",
       "      <th>review_scores_communication</th>\n",
       "      <td>4.9</td>\n",
       "      <td>4.98</td>\n",
       "    </tr>\n",
       "    <tr>\n",
       "      <th>review_scores_location</th>\n",
       "      <td>4.75</td>\n",
       "      <td>4.67</td>\n",
       "    </tr>\n",
       "    <tr>\n",
       "      <th>review_scores_value</th>\n",
       "      <td>4.3</td>\n",
       "      <td>4.69</td>\n",
       "    </tr>\n",
       "    <tr>\n",
       "      <th>license</th>\n",
       "      <td>HUTB-002062</td>\n",
       "      <td>HUTB-005057</td>\n",
       "    </tr>\n",
       "    <tr>\n",
       "      <th>instant_bookable</th>\n",
       "      <td>t</td>\n",
       "      <td>f</td>\n",
       "    </tr>\n",
       "    <tr>\n",
       "      <th>calculated_host_listings_count</th>\n",
       "      <td>19</td>\n",
       "      <td>2</td>\n",
       "    </tr>\n",
       "    <tr>\n",
       "      <th>calculated_host_listings_count_entire_homes</th>\n",
       "      <td>19</td>\n",
       "      <td>2</td>\n",
       "    </tr>\n",
       "    <tr>\n",
       "      <th>calculated_host_listings_count_private_rooms</th>\n",
       "      <td>0</td>\n",
       "      <td>0</td>\n",
       "    </tr>\n",
       "    <tr>\n",
       "      <th>calculated_host_listings_count_shared_rooms</th>\n",
       "      <td>0</td>\n",
       "      <td>0</td>\n",
       "    </tr>\n",
       "    <tr>\n",
       "      <th>reviews_per_month</th>\n",
       "      <td>0.23</td>\n",
       "      <td>0.75</td>\n",
       "    </tr>\n",
       "    <tr>\n",
       "      <th>f_property_type</th>\n",
       "      <td>Rental unit</td>\n",
       "      <td>Rental unit</td>\n",
       "    </tr>\n",
       "    <tr>\n",
       "      <th>f_room_type</th>\n",
       "      <td>Entire home/apt</td>\n",
       "      <td>Entire home/apt</td>\n",
       "    </tr>\n",
       "    <tr>\n",
       "      <th>f_room_type2</th>\n",
       "      <td>Entire/Apt</td>\n",
       "      <td>Entire/Apt</td>\n",
       "    </tr>\n",
       "  </tbody>\n",
       "</table>\n",
       "</div>"
      ],
      "text/plain": [
       "                                                                                              0  \\\n",
       "id                                                                                        18674   \n",
       "listing_url                                                  https://www.airbnb.com/rooms/18674   \n",
       "scrape_id                                                                        20210910193102   \n",
       "last_scraped                                                                         2021-09-10   \n",
       "name                                            Huge flat for 8 people close to Sagrada Familia   \n",
       "description                                   110m2 apartment to rent in Barcelona. Located ...   \n",
       "neighborhood_overview                         Apartment in Barcelona located in the heart of...   \n",
       "picture_url                                   https://a0.muscache.com/pictures/13031453/413c...   \n",
       "host_id                                                                                   71615   \n",
       "host_url                                                https://www.airbnb.com/users/show/71615   \n",
       "host_name                                                                      Mireia And Maria   \n",
       "host_since                                                                           2010-01-19   \n",
       "host_location                                                       Barcelona, Catalonia, Spain   \n",
       "host_about                                    We are Mireia (43) & Maria (45), two multiling...   \n",
       "host_response_time                                                               within an hour   \n",
       "host_response_rate                                                                         100%   \n",
       "host_acceptance_rate                                                                        83%   \n",
       "host_is_superhost                                                                             f   \n",
       "host_thumbnail_url                            https://a0.muscache.com/im/users/71615/profile...   \n",
       "host_picture_url                              https://a0.muscache.com/im/users/71615/profile...   \n",
       "host_neighbourhood                                                           la Sagrada Família   \n",
       "host_listings_count                                                                          35   \n",
       "host_total_listings_count                                                                    35   \n",
       "host_verifications                            ['email', 'phone', 'reviews', 'jumio', 'govern...   \n",
       "host_has_profile_pic                                                                          t   \n",
       "host_identity_verified                                                                        t   \n",
       "neighbourhood                                                              Barcelona, CT, Spain   \n",
       "neighbourhood_cleansed                                                       la Sagrada Família   \n",
       "neighbourhood_group_cleansed                                                           Eixample   \n",
       "latitude                                                                                41.4056   \n",
       "longitude                                                                               2.17262   \n",
       "property_type                                                                       Rental unit   \n",
       "room_type                                                                       Entire home/apt   \n",
       "accommodates                                                                                  8   \n",
       "bathrooms                                                                                   NaN   \n",
       "bathrooms_text                                                                          2 baths   \n",
       "bedrooms                                                                                      3   \n",
       "beds                                                                                          6   \n",
       "amenities                                     [\"TV\", \"Wifi\", \"Hair dryer\", \"Washer\", \"Dedica...   \n",
       "price                                                                                   $121.00   \n",
       "minimum_nights                                                                                1   \n",
       "maximum_nights                                                                             1125   \n",
       "minimum_minimum_nights                                                                        1   \n",
       "maximum_minimum_nights                                                                        3   \n",
       "minimum_maximum_nights                                                                     1125   \n",
       "maximum_maximum_nights                                                                     1125   \n",
       "minimum_nights_avg_ntm                                                                      1.6   \n",
       "maximum_nights_avg_ntm                                                                     1125   \n",
       "calendar_updated                                                                            NaN   \n",
       "has_availability                                                                              t   \n",
       "availability_30                                                                               1   \n",
       "availability_60                                                                              26   \n",
       "availability_90                                                                              50   \n",
       "availability_365                                                                             58   \n",
       "calendar_last_scraped                                                                2021-09-10   \n",
       "number_of_reviews                                                                            21   \n",
       "number_of_reviews_ltm                                                                         0   \n",
       "number_of_reviews_l30d                                                                        0   \n",
       "first_review                                                                         2014-03-02   \n",
       "last_review                                                                          2019-10-11   \n",
       "review_scores_rating                                                                        4.4   \n",
       "review_scores_accuracy                                                                     4.55   \n",
       "review_scores_cleanliness                                                                  4.75   \n",
       "review_scores_checkin                                                                       4.8   \n",
       "review_scores_communication                                                                 4.9   \n",
       "review_scores_location                                                                     4.75   \n",
       "review_scores_value                                                                         4.3   \n",
       "license                                                                             HUTB-002062   \n",
       "instant_bookable                                                                              t   \n",
       "calculated_host_listings_count                                                               19   \n",
       "calculated_host_listings_count_entire_homes                                                  19   \n",
       "calculated_host_listings_count_private_rooms                                                  0   \n",
       "calculated_host_listings_count_shared_rooms                                                   0   \n",
       "reviews_per_month                                                                          0.23   \n",
       "f_property_type                                                                     Rental unit   \n",
       "f_room_type                                                                     Entire home/apt   \n",
       "f_room_type2                                                                         Entire/Apt   \n",
       "\n",
       "                                                                                              1  \n",
       "id                                                                                        23197  \n",
       "listing_url                                                  https://www.airbnb.com/rooms/23197  \n",
       "scrape_id                                                                        20210910193102  \n",
       "last_scraped                                                                         2021-09-11  \n",
       "name                                          Forum CCIB DeLuxe★Spacious &Elegant★Large Balcony  \n",
       "description                                   Beautiful spacious apartment, large terrace, 5...  \n",
       "neighborhood_overview                         Strategically located in the Parc del Fòrum ar...  \n",
       "picture_url                                   https://a0.muscache.com/pictures/738532/806da1...  \n",
       "host_id                                                                                   90417  \n",
       "host_url                                                https://www.airbnb.com/users/show/90417  \n",
       "host_name                                                                        Etain (Marnie)  \n",
       "host_since                                                                           2010-03-09  \n",
       "host_location                                                                  Catalonia, Spain  \n",
       "host_about                                    Hi.  I'm Etain, though everyone calls me by my...  \n",
       "host_response_time                                                               within an hour  \n",
       "host_response_rate                                                                         100%  \n",
       "host_acceptance_rate                                                                        70%  \n",
       "host_is_superhost                                                                             f  \n",
       "host_thumbnail_url                            https://a0.muscache.com/im/users/90417/profile...  \n",
       "host_picture_url                              https://a0.muscache.com/im/users/90417/profile...  \n",
       "host_neighbourhood                                                        El Besòs i el Maresme  \n",
       "host_listings_count                                                                           2  \n",
       "host_total_listings_count                                                                     2  \n",
       "host_verifications                            ['email', 'phone', 'reviews', 'jumio', 'offlin...  \n",
       "host_has_profile_pic                                                                          t  \n",
       "host_identity_verified                                                                        t  \n",
       "neighbourhood                                             Sant Adria de Besos, Barcelona, Spain  \n",
       "neighbourhood_cleansed                                                    el Besòs i el Maresme  \n",
       "neighbourhood_group_cleansed                                                         Sant Martí  \n",
       "latitude                                                                                41.4129  \n",
       "longitude                                                                               2.22063  \n",
       "property_type                                                                       Rental unit  \n",
       "room_type                                                                       Entire home/apt  \n",
       "accommodates                                                                                  6  \n",
       "bathrooms                                                                                   NaN  \n",
       "bathrooms_text                                                                          2 baths  \n",
       "bedrooms                                                                                      3  \n",
       "beds                                                                                          5  \n",
       "amenities                                     [\"TV\", \"Washer\", \"Bed linens\", \"Hangers\", \"Pai...  \n",
       "price                                                                                   $229.00  \n",
       "minimum_nights                                                                                4  \n",
       "maximum_nights                                                                              300  \n",
       "minimum_minimum_nights                                                                        4  \n",
       "maximum_minimum_nights                                                                        7  \n",
       "minimum_maximum_nights                                                                     1125  \n",
       "maximum_maximum_nights                                                                     1125  \n",
       "minimum_nights_avg_ntm                                                                      4.1  \n",
       "maximum_nights_avg_ntm                                                                     1125  \n",
       "calendar_updated                                                                            NaN  \n",
       "has_availability                                                                              t  \n",
       "availability_30                                                                              22  \n",
       "availability_60                                                                              52  \n",
       "availability_90                                                                              82  \n",
       "availability_365                                                                            128  \n",
       "calendar_last_scraped                                                                2021-09-11  \n",
       "number_of_reviews                                                                            52  \n",
       "number_of_reviews_ltm                                                                         0  \n",
       "number_of_reviews_l30d                                                                        0  \n",
       "first_review                                                                         2016-01-05  \n",
       "last_review                                                                          2019-12-15  \n",
       "review_scores_rating                                                                       4.74  \n",
       "review_scores_accuracy                                                                     4.92  \n",
       "review_scores_cleanliness                                                                  4.92  \n",
       "review_scores_checkin                                                                      4.94  \n",
       "review_scores_communication                                                                4.98  \n",
       "review_scores_location                                                                     4.67  \n",
       "review_scores_value                                                                        4.69  \n",
       "license                                                                             HUTB-005057  \n",
       "instant_bookable                                                                              f  \n",
       "calculated_host_listings_count                                                                2  \n",
       "calculated_host_listings_count_entire_homes                                                   2  \n",
       "calculated_host_listings_count_private_rooms                                                  0  \n",
       "calculated_host_listings_count_shared_rooms                                                   0  \n",
       "reviews_per_month                                                                          0.75  \n",
       "f_property_type                                                                     Rental unit  \n",
       "f_room_type                                                                     Entire home/apt  \n",
       "f_room_type2                                                                         Entire/Apt  "
      ]
     },
     "execution_count": 630,
     "metadata": {},
     "output_type": "execute_result"
    }
   ],
   "source": [
    "pd.set_option('display.max_rows',None)\n",
    "bcn.head(2).transpose()"
   ]
  },
  {
   "cell_type": "code",
   "execution_count": 631,
   "id": "8112afe7",
   "metadata": {},
   "outputs": [
    {
     "data": {
      "text/plain": [
       "1 bath               6075\n",
       "1 shared bath        3113\n",
       "2 baths              2622\n",
       "1 private bath       1082\n",
       "1.5 baths             683\n",
       "1.5 shared baths      681\n",
       "2 shared baths        521\n",
       "3 baths               200\n",
       "2.5 baths             106\n",
       "4 baths                73\n",
       "3 shared baths         53\n",
       "2.5 shared baths       50\n",
       "3.5 baths              32\n",
       "0 shared baths         28\n",
       "Private half-bath      27\n",
       "Shared half-bath       18\n",
       "0 baths                16\n",
       "5 baths                16\n",
       "3.5 shared baths       14\n",
       "11 shared baths        14\n",
       "6 baths                13\n",
       "Half-bath              11\n",
       "4 shared baths         10\n",
       "4.5 baths               5\n",
       "7 shared baths          3\n",
       "5.5 baths               3\n",
       "8 baths                 3\n",
       "7.5 baths               2\n",
       "4.5 shared baths        2\n",
       "8 shared baths          2\n",
       "16 baths                1\n",
       "5 shared baths          1\n",
       "7 baths                 1\n",
       "7.5 shared baths        1\n",
       "Name: bathrooms_text, dtype: int64"
      ]
     },
     "execution_count": 631,
     "metadata": {},
     "output_type": "execute_result"
    }
   ],
   "source": [
    "bcn[\"bathrooms_text\"].value_counts()"
   ]
  },
  {
   "cell_type": "markdown",
   "id": "1df4822e",
   "metadata": {},
   "source": [
    "***Rename the bathrooms type***"
   ]
  },
  {
   "cell_type": "code",
   "execution_count": 632,
   "id": "7cf922d4",
   "metadata": {},
   "outputs": [],
   "source": [
    "bcn[\"bathrooms_text\"] = np.where(\n",
    "    bcn[\"bathrooms_text\"] == \"0 shared baths\", \n",
    "    \"0 baths\", \n",
    "    bcn[\"bathrooms_text\"]\n",
    ")\n",
    "bcn[\"bathrooms_text\"] = np.where(\n",
    "    bcn[\"bathrooms_text\"] == \"Private half-bath\", \n",
    "    \"Half-bath\", \n",
    "    bcn[\"bathrooms_text\"]\n",
    ")\n",
    "bcn[\"bathrooms_text\"] = np.where(\n",
    "    bcn[\"bathrooms_text\"] == \"Shared half-bath\", \n",
    "    \"Half-bath\", \n",
    "    bcn[\"bathrooms_text\"]\n",
    ")\n",
    "bcn[\"bathrooms_text\"] = np.where(\n",
    "    bcn[\"bathrooms_text\"] == \"1 shared bath\", \n",
    "    \"1 bath\", \n",
    "    bcn[\"bathrooms_text\"]\n",
    ")\n",
    "bcn[\"bathrooms_text\"] = np.where(\n",
    "    bcn[\"bathrooms_text\"] == \"1 private bath\", \n",
    "    \"1 bath\", \n",
    "    bcn[\"bathrooms_text\"]\n",
    ")\n",
    "bcn[\"bathrooms_text\"] = np.where(\n",
    "    bcn[\"bathrooms_text\"] == \"1.5 shared baths\", \n",
    "    \"1.5 baths\", \n",
    "    bcn[\"bathrooms_text\"]\n",
    ")\n",
    "bcn[\"bathrooms_text\"] = np.where(\n",
    "    bcn[\"bathrooms_text\"] == \"2 shared baths\", \n",
    "    \"2 baths\", \n",
    "    bcn[\"bathrooms_text\"]\n",
    ")\n",
    "bcn[\"bathrooms_text\"] = np.where(\n",
    "    bcn[\"bathrooms_text\"] == \"2.5 shared baths\", \n",
    "    \"2.5 baths\", \n",
    "    bcn[\"bathrooms_text\"]\n",
    ")\n",
    "bcn[\"bathrooms_text\"] = np.where(\n",
    "    bcn[\"bathrooms_text\"] == \"3 shared baths\", \n",
    "    \"3 baths\", \n",
    "    bcn[\"bathrooms_text\"]\n",
    ")\n",
    "bcn[\"bathrooms_text\"] = np.where(\n",
    "    bcn[\"bathrooms_text\"] == \"3.5 shared baths\", \n",
    "    \"3.5 baths\", \n",
    "    bcn[\"bathrooms_text\"]\n",
    ")\n",
    "bcn[\"bathrooms_text\"] = np.where(\n",
    "    bcn[\"bathrooms_text\"] == \"4 shared baths\", \n",
    "    \"4 baths\", \n",
    "    bcn[\"bathrooms_text\"]\n",
    ")\n",
    "bcn[\"bathrooms_text\"] = np.where(\n",
    "    bcn[\"bathrooms_text\"] == \"4.5 shared baths\", \n",
    "    \"4.5 baths\", \n",
    "    bcn[\"bathrooms_text\"]\n",
    ")\n",
    "bcn[\"bathrooms_text\"] = np.where(\n",
    "    bcn[\"bathrooms_text\"] == \"5 shared baths\", \n",
    "    \"5 baths\", \n",
    "    bcn[\"bathrooms_text\"]\n",
    ")\n",
    "bcn[\"bathrooms_text\"] = np.where(\n",
    "    bcn[\"bathrooms_text\"] == \"7 shared baths\", \n",
    "    \"7 baths\", \n",
    "    bcn[\"bathrooms_text\"]\n",
    ")\n",
    "bcn[\"bathrooms_text\"] = np.where(\n",
    "    bcn[\"bathrooms_text\"] == \"7.5 shared baths\", \n",
    "    \"7.5 baths\", \n",
    "    bcn[\"bathrooms_text\"]\n",
    ")"
   ]
  },
  {
   "cell_type": "code",
   "execution_count": 633,
   "id": "f1117345",
   "metadata": {},
   "outputs": [
    {
     "data": {
      "text/plain": [
       "1 bath             10270\n",
       "2 baths             3143\n",
       "1.5 baths           1364\n",
       "3 baths              253\n",
       "2.5 baths            156\n",
       "4 baths               83\n",
       "Half-bath             56\n",
       "3.5 baths             46\n",
       "0 baths               44\n",
       "5 baths               17\n",
       "11 shared baths       14\n",
       "6 baths               13\n",
       "4.5 baths              7\n",
       "7 baths                4\n",
       "8 baths                3\n",
       "5.5 baths              3\n",
       "7.5 baths              3\n",
       "8 shared baths         2\n",
       "16 baths               1\n",
       "Name: bathrooms_text, dtype: int64"
      ]
     },
     "execution_count": 633,
     "metadata": {},
     "output_type": "execute_result"
    }
   ],
   "source": [
    "bcn[\"bathrooms_text\"].value_counts()"
   ]
  },
  {
   "cell_type": "code",
   "execution_count": 634,
   "id": "68aa4bea",
   "metadata": {},
   "outputs": [],
   "source": [
    "bcn[\"bathrooms_text\"] = bcn[\"bathrooms_text\"].map(\n",
    "    {\n",
    "        \"0 baths\": \"0 baths\",\n",
    "        \"Half-bath\": \"0.5 bath\",\n",
    "        \"1 bath\": \"1 bath\",\n",
    "        \"1.5 baths\": \"1.5 baths\",\n",
    "        \"2 baths\": \"2 baths\",\n",
    "        \"2.5 baths\": \"2.5 baths\",\n",
    "        \"3 baths\": \"3 baths\",\n",
    "        \"3.5 baths\": \"3.5 baths\",\n",
    "        \"4 baths\": \"4 baths\",\n",
    "        \"4.5 baths\": \"4.5 baths\",\n",
    "        \"5 baths\": \"5 baths\",\n",
    "        \"5.5 baths\": \"5.5 baths\",\n",
    "        \"6 baths\": \"6 baths\",\n",
    "        \"7 baths\": \"7 baths\",\n",
    "        \"7.5 baths\": \"7.5 baths\",\n",
    "        \"8 baths\": \"8 baths\",\n",
    "        \"11 shared baths\": \"11 baths\",\n",
    "        \"16 baths\": \"16 baths\",\n",
    "    }\n",
    ")"
   ]
  },
  {
   "cell_type": "code",
   "execution_count": 635,
   "id": "0c772ddf",
   "metadata": {},
   "outputs": [
    {
     "data": {
      "text/plain": [
       "1 bath       10270\n",
       "2 baths       3143\n",
       "1.5 baths     1364\n",
       "3 baths        253\n",
       "2.5 baths      156\n",
       "4 baths         83\n",
       "0.5 bath        56\n",
       "3.5 baths       46\n",
       "0 baths         44\n",
       "5 baths         17\n",
       "11 baths        14\n",
       "6 baths         13\n",
       "4.5 baths        7\n",
       "7 baths          4\n",
       "8 baths          3\n",
       "5.5 baths        3\n",
       "7.5 baths        3\n",
       "16 baths         1\n",
       "Name: bathrooms_text, dtype: int64"
      ]
     },
     "execution_count": 635,
     "metadata": {},
     "output_type": "execute_result"
    }
   ],
   "source": [
    "bcn[\"bathrooms_text\"].value_counts()"
   ]
  },
  {
   "cell_type": "markdown",
   "id": "21c8d27c",
   "metadata": {},
   "source": [
    "***Neighbourhood_cleansed as factors***"
   ]
  },
  {
   "cell_type": "code",
   "execution_count": 636,
   "id": "2bd98e7f",
   "metadata": {},
   "outputs": [],
   "source": [
    "bcn[\"f_neighbourhood_cleansed\"] = bcn[\"neighbourhood_cleansed\"].astype(\"category\")"
   ]
  },
  {
   "cell_type": "markdown",
   "id": "77e6180a",
   "metadata": {},
   "source": [
    "***Create numerical variables***"
   ]
  },
  {
   "cell_type": "code",
   "execution_count": 637,
   "id": "8140c901",
   "metadata": {},
   "outputs": [
    {
     "data": {
      "text/plain": [
       "Series([], Name: bathrooms, dtype: int64)"
      ]
     },
     "execution_count": 637,
     "metadata": {},
     "output_type": "execute_result"
    }
   ],
   "source": [
    "bcn[\"bathrooms\"].value_counts()"
   ]
  },
  {
   "cell_type": "code",
   "execution_count": 638,
   "id": "a0260c40",
   "metadata": {},
   "outputs": [],
   "source": [
    "del bcn[\"bathrooms\"]"
   ]
  },
  {
   "cell_type": "markdown",
   "id": "71f9d0f5",
   "metadata": {},
   "source": [
    "***rename bathrooms_text column***"
   ]
  },
  {
   "cell_type": "code",
   "execution_count": 639,
   "id": "d57c4301",
   "metadata": {},
   "outputs": [],
   "source": [
    "bcn = bcn.rename(columns={\"bathrooms_text\":\"bathrooms\"})"
   ]
  },
  {
   "cell_type": "code",
   "execution_count": 640,
   "id": "e115a1da",
   "metadata": {},
   "outputs": [],
   "source": [
    "bcn[\"usd_price_day\"] = bcn[\"price\"]\n",
    "bcn[\"a_host_response_rate\"] = bcn[\"host_response_rate\"].fillna('0%').astype(str)\n",
    "bcn[\"p_host_response_rate\"] = bcn[\"a_host_response_rate\"].apply(lambda x: x.replace(\",\",\"\").replace(\"%\",\"\")).astype(int)/100"
   ]
  },
  {
   "cell_type": "markdown",
   "id": "59d95a80",
   "metadata": {},
   "source": [
    "***The \"price\" variables and \"bathrooms\" variables are not pure numbers, such as \"$121\", \"0 baths\", I extracted the numbers***"
   ]
  },
  {
   "cell_type": "code",
   "execution_count": 641,
   "id": "daa2c832",
   "metadata": {},
   "outputs": [],
   "source": [
    "bcn[\"price\"] = bcn[\"price\"].str.extract('(\\d+)')\n",
    "bcn[\"bathrooms\"] = bcn[\"bathrooms\"].str.extract('(\\d+)')"
   ]
  },
  {
   "cell_type": "markdown",
   "id": "9fc6bd2b",
   "metadata": {},
   "source": [
    "***Add new numeric columns from certain columns***"
   ]
  },
  {
   "cell_type": "code",
   "execution_count": 642,
   "id": "646c3233",
   "metadata": {},
   "outputs": [],
   "source": [
    "numericals = [\n",
    "    \"accommodates\",\n",
    "    \"bathrooms\",\n",
    "    \"price\",\n",
    "    \"review_scores_rating\",\n",
    "    \"number_of_reviews\",\n",
    "    \"reviews_per_month\",\n",
    "    \"minimum_nights\",\n",
    "    \"bedrooms\",\n",
    "    \"beds\"\n",
    "]\n",
    "\n",
    "for col in numericals:\n",
    "    bcn[\"n_\" + col] = pd.to_numeric(bcn[col], errors=\"coerce\")"
   ]
  },
  {
   "cell_type": "markdown",
   "id": "4c5845cc",
   "metadata": {},
   "source": [
    "***Create days since first review***"
   ]
  },
  {
   "cell_type": "code",
   "execution_count": 643,
   "id": "c539089e",
   "metadata": {},
   "outputs": [],
   "source": [
    "bcn[\"n_days_since\"] = (\n",
    "    bcn.calendar_last_scraped.apply(lambda x: datetime.strptime(x, \"%Y-%m-%d\"))\n",
    "    - bcn.first_review.fillna(\"1950-01-01\").apply(\n",
    "        lambda x: datetime.strptime(x, \"%Y-%m-%d\")\n",
    "    )\n",
    ").dt.days\n",
    "\n",
    "bcn[\"n_days_since\"] = np.where(bcn.first_review.isnull(), np.nan, bcn.n_days_since)"
   ]
  },
  {
   "cell_type": "markdown",
   "id": "f83f2fef",
   "metadata": {},
   "source": [
    "***Create dummy variables***"
   ]
  },
  {
   "cell_type": "code",
   "execution_count": 644,
   "id": "f00b2a21",
   "metadata": {},
   "outputs": [],
   "source": [
    "dummy_cols = [\n",
    "              \"host_is_superhost\", \n",
    "              \"host_has_profile_pic\", \n",
    "              \"host_identity_verified\", \n",
    "              \"has_availability\", \n",
    "              \"instant_bookable\"\n",
    "              ]\n",
    "\n",
    "for col in dummy_cols:\n",
    "    bcn[col] = bcn[col].map({'f': 0, 't': 1})\n",
    "        \n",
    "for col in dummy_cols:\n",
    "    bcn[\"d_\" + col] = pd.to_numeric(bcn[col], errors=\"coerce\")"
   ]
  },
  {
   "cell_type": "code",
   "execution_count": 645,
   "id": "77769d69",
   "metadata": {},
   "outputs": [],
   "source": [
    "bcn = pd.concat(\n",
    "    [\n",
    "        bcn.filter(\n",
    "            regex=\"^d_.*|^n_.*|^f_.*|^p_.*|^usd_.*\",\n",
    "        ),\n",
    "        bcn[\n",
    "            [\n",
    "                \"price\",\n",
    "                \"id\",\n",
    "                \"neighbourhood_cleansed\",\n",
    "                \"room_type\",\n",
    "                \"property_type\",\n",
    "            ]\n",
    "        ],\n",
    "    ],\n",
    "    axis=1,\n",
    ")"
   ]
  },
  {
   "cell_type": "code",
   "execution_count": 646,
   "id": "4edb0ddd",
   "metadata": {},
   "outputs": [
    {
     "data": {
      "text/html": [
       "<div>\n",
       "<style scoped>\n",
       "    .dataframe tbody tr th:only-of-type {\n",
       "        vertical-align: middle;\n",
       "    }\n",
       "\n",
       "    .dataframe tbody tr th {\n",
       "        vertical-align: top;\n",
       "    }\n",
       "\n",
       "    .dataframe thead th {\n",
       "        text-align: right;\n",
       "    }\n",
       "</style>\n",
       "<table border=\"1\" class=\"dataframe\">\n",
       "  <thead>\n",
       "    <tr style=\"text-align: right;\">\n",
       "      <th></th>\n",
       "      <th>0</th>\n",
       "      <th>1</th>\n",
       "    </tr>\n",
       "  </thead>\n",
       "  <tbody>\n",
       "    <tr>\n",
       "      <th>f_property_type</th>\n",
       "      <td>Rental unit</td>\n",
       "      <td>Rental unit</td>\n",
       "    </tr>\n",
       "    <tr>\n",
       "      <th>f_room_type</th>\n",
       "      <td>Entire home/apt</td>\n",
       "      <td>Entire home/apt</td>\n",
       "    </tr>\n",
       "    <tr>\n",
       "      <th>f_room_type2</th>\n",
       "      <td>Entire/Apt</td>\n",
       "      <td>Entire/Apt</td>\n",
       "    </tr>\n",
       "    <tr>\n",
       "      <th>f_neighbourhood_cleansed</th>\n",
       "      <td>la Sagrada Família</td>\n",
       "      <td>el Besòs i el Maresme</td>\n",
       "    </tr>\n",
       "    <tr>\n",
       "      <th>usd_price_day</th>\n",
       "      <td>$121.00</td>\n",
       "      <td>$229.00</td>\n",
       "    </tr>\n",
       "    <tr>\n",
       "      <th>p_host_response_rate</th>\n",
       "      <td>1</td>\n",
       "      <td>1</td>\n",
       "    </tr>\n",
       "    <tr>\n",
       "      <th>n_accommodates</th>\n",
       "      <td>8</td>\n",
       "      <td>6</td>\n",
       "    </tr>\n",
       "    <tr>\n",
       "      <th>n_bathrooms</th>\n",
       "      <td>2</td>\n",
       "      <td>2</td>\n",
       "    </tr>\n",
       "    <tr>\n",
       "      <th>n_price</th>\n",
       "      <td>121</td>\n",
       "      <td>229</td>\n",
       "    </tr>\n",
       "    <tr>\n",
       "      <th>n_review_scores_rating</th>\n",
       "      <td>4.4</td>\n",
       "      <td>4.74</td>\n",
       "    </tr>\n",
       "    <tr>\n",
       "      <th>n_number_of_reviews</th>\n",
       "      <td>21</td>\n",
       "      <td>52</td>\n",
       "    </tr>\n",
       "    <tr>\n",
       "      <th>n_reviews_per_month</th>\n",
       "      <td>0.23</td>\n",
       "      <td>0.75</td>\n",
       "    </tr>\n",
       "    <tr>\n",
       "      <th>n_minimum_nights</th>\n",
       "      <td>1</td>\n",
       "      <td>4</td>\n",
       "    </tr>\n",
       "    <tr>\n",
       "      <th>n_bedrooms</th>\n",
       "      <td>3</td>\n",
       "      <td>3</td>\n",
       "    </tr>\n",
       "    <tr>\n",
       "      <th>n_beds</th>\n",
       "      <td>6</td>\n",
       "      <td>5</td>\n",
       "    </tr>\n",
       "    <tr>\n",
       "      <th>n_days_since</th>\n",
       "      <td>2749</td>\n",
       "      <td>2076</td>\n",
       "    </tr>\n",
       "    <tr>\n",
       "      <th>d_host_is_superhost</th>\n",
       "      <td>0</td>\n",
       "      <td>0</td>\n",
       "    </tr>\n",
       "    <tr>\n",
       "      <th>d_host_has_profile_pic</th>\n",
       "      <td>1</td>\n",
       "      <td>1</td>\n",
       "    </tr>\n",
       "    <tr>\n",
       "      <th>d_host_identity_verified</th>\n",
       "      <td>1</td>\n",
       "      <td>1</td>\n",
       "    </tr>\n",
       "    <tr>\n",
       "      <th>d_has_availability</th>\n",
       "      <td>1</td>\n",
       "      <td>1</td>\n",
       "    </tr>\n",
       "    <tr>\n",
       "      <th>d_instant_bookable</th>\n",
       "      <td>1</td>\n",
       "      <td>0</td>\n",
       "    </tr>\n",
       "    <tr>\n",
       "      <th>price</th>\n",
       "      <td>121</td>\n",
       "      <td>229</td>\n",
       "    </tr>\n",
       "    <tr>\n",
       "      <th>id</th>\n",
       "      <td>18674</td>\n",
       "      <td>23197</td>\n",
       "    </tr>\n",
       "    <tr>\n",
       "      <th>neighbourhood_cleansed</th>\n",
       "      <td>la Sagrada Família</td>\n",
       "      <td>el Besòs i el Maresme</td>\n",
       "    </tr>\n",
       "    <tr>\n",
       "      <th>room_type</th>\n",
       "      <td>Entire home/apt</td>\n",
       "      <td>Entire home/apt</td>\n",
       "    </tr>\n",
       "    <tr>\n",
       "      <th>property_type</th>\n",
       "      <td>Rental unit</td>\n",
       "      <td>Rental unit</td>\n",
       "    </tr>\n",
       "  </tbody>\n",
       "</table>\n",
       "</div>"
      ],
      "text/plain": [
       "                                           0                      1\n",
       "f_property_type                  Rental unit            Rental unit\n",
       "f_room_type                  Entire home/apt        Entire home/apt\n",
       "f_room_type2                      Entire/Apt             Entire/Apt\n",
       "f_neighbourhood_cleansed  la Sagrada Família  el Besòs i el Maresme\n",
       "usd_price_day                        $121.00                $229.00\n",
       "p_host_response_rate                       1                      1\n",
       "n_accommodates                             8                      6\n",
       "n_bathrooms                                2                      2\n",
       "n_price                                  121                    229\n",
       "n_review_scores_rating                   4.4                   4.74\n",
       "n_number_of_reviews                       21                     52\n",
       "n_reviews_per_month                     0.23                   0.75\n",
       "n_minimum_nights                           1                      4\n",
       "n_bedrooms                                 3                      3\n",
       "n_beds                                     6                      5\n",
       "n_days_since                            2749                   2076\n",
       "d_host_is_superhost                        0                      0\n",
       "d_host_has_profile_pic                     1                      1\n",
       "d_host_identity_verified                   1                      1\n",
       "d_has_availability                         1                      1\n",
       "d_instant_bookable                         1                      0\n",
       "price                                    121                    229\n",
       "id                                     18674                  23197\n",
       "neighbourhood_cleansed    la Sagrada Família  el Besòs i el Maresme\n",
       "room_type                    Entire home/apt        Entire home/apt\n",
       "property_type                    Rental unit            Rental unit"
      ]
     },
     "execution_count": 646,
     "metadata": {},
     "output_type": "execute_result"
    }
   ],
   "source": [
    "bcn.head(2).transpose()"
   ]
  },
  {
   "cell_type": "code",
   "execution_count": 647,
   "id": "c0c3e824",
   "metadata": {},
   "outputs": [],
   "source": [
    "bcn[\"price\"] = bcn[\"price\"].str.replace(\",\", \"\").astype(float)\n",
    "bcn = bcn.loc[lambda x: x.price < 1000]"
   ]
  },
  {
   "cell_type": "code",
   "execution_count": 648,
   "id": "e21c1b5a",
   "metadata": {},
   "outputs": [
    {
     "name": "stderr",
     "output_type": "stream",
     "text": [
      "/Users/chenche/miniconda3/lib/python3.8/site-packages/pandas/core/series.py:726: RuntimeWarning: divide by zero encountered in log\n"
     ]
    }
   ],
   "source": [
    "bcn = bcn.assign(\n",
    "    n_accommodates2=lambda x: x[\"n_accommodates\"] ** 2,\n",
    "    ln_accommodates=lambda x: np.log(x[\"n_accommodates\"]),\n",
    "    ln_accommodates2=lambda x: np.log(x[\"n_accommodates\"]) ** 2,\n",
    "    ln_beds=lambda x: np.log(x[\"n_beds\"]),\n",
    "    ln_bedrooms=lambda x: np.log(x[\"n_bedrooms\"]),\n",
    "    ln_number_of_reviews=lambda x: np.log(x[\"n_number_of_reviews\"] + 1),\n",
    ")"
   ]
  },
  {
   "cell_type": "markdown",
   "id": "d3814727",
   "metadata": {},
   "source": [
    "***Pool accommodations with 0,1,2,4,7,17 bathrooms***"
   ]
  },
  {
   "cell_type": "code",
   "execution_count": 649,
   "id": "d6c91c2a",
   "metadata": {},
   "outputs": [
    {
     "data": {
      "text/plain": [
       "0        100\n",
       "1      11634\n",
       "2       3598\n",
       "4        123\n",
       "7         25\n",
       "NaN       14\n",
       "dtype: int64"
      ]
     },
     "execution_count": 649,
     "metadata": {},
     "output_type": "execute_result"
    }
   ],
   "source": [
    "bins = pd.IntervalIndex.from_tuples([(0, 1), (1, 2), (2, 4), (4, 7), (7, 17)], closed=\"left\")\n",
    "f_bathrooms = pd.cut(bcn[\"n_bathrooms\"].to_list(), bins, labels=[\"0\", \"1\", \"2\", \"4\", \"7\"])\n",
    "f_bathrooms.categories = [0, 1, 2, 4, 7]\n",
    "bcn[\"f_bathrooms\"] = f_bathrooms\n",
    "\n",
    "f_bathrooms.value_counts(dropna=False)"
   ]
  },
  {
   "cell_type": "markdown",
   "id": "bfbaa730",
   "metadata": {},
   "source": [
    "***Pool num of reviews to 3 categories: none, 1-51 and >51***"
   ]
  },
  {
   "cell_type": "code",
   "execution_count": 650,
   "id": "c80d9720",
   "metadata": {},
   "outputs": [
    {
     "data": {
      "text/plain": [
       "1      8156\n",
       "0      4182\n",
       "2      3155\n",
       "NaN       1\n",
       "Name: f_number_of_reviews, dtype: int64"
      ]
     },
     "execution_count": 650,
     "metadata": {},
     "output_type": "execute_result"
    }
   ],
   "source": [
    "bins = pd.IntervalIndex.from_tuples(\n",
    "    [(0, 1), (1, 51), (51, max(bcn.n_number_of_reviews))], closed=\"left\"\n",
    ")\n",
    "fnor = pd.cut(bcn[\"n_number_of_reviews\"].to_list(), bins, labels=[\"0\", \"1\", \"2\"])\n",
    "fnor.categories = [0, 1, 2]\n",
    "bcn[\"f_number_of_reviews\"] = fnor\n",
    "bcn[\"f_number_of_reviews\"].value_counts(dropna=False)"
   ]
  },
  {
   "cell_type": "markdown",
   "id": "1e4d3493",
   "metadata": {},
   "source": [
    "***Pool and categorize the number of minimum nights: 1,2,3,4,5,5+***"
   ]
  },
  {
   "cell_type": "code",
   "execution_count": 651,
   "id": "bcab2cbc",
   "metadata": {},
   "outputs": [
    {
     "data": {
      "text/plain": [
       "5      5246\n",
       "1      4420\n",
       "2      2792\n",
       "3      2438\n",
       "4       597\n",
       "NaN       1\n",
       "Name: f_minimum_nights, dtype: int64"
      ]
     },
     "execution_count": 651,
     "metadata": {},
     "output_type": "execute_result"
    }
   ],
   "source": [
    "bins = pd.IntervalIndex.from_tuples(\n",
    "    [(1, 2), (2, 3), (3, 4), (4, 5), (5, max(bcn.n_minimum_nights))], closed=\"left\"\n",
    ")\n",
    "f_min_n = pd.cut(bcn[\"n_minimum_nights\"].to_list(), bins, labels=[\"1\", \"2\", \"3\", \"4\", \"5\"])\n",
    "f_min_n.categories = [1, 2, 3, 4, 5]\n",
    "bcn[\"f_minimum_nights\"] = f_min_n\n",
    "bcn[\"f_minimum_nights\"].value_counts(dropna=False)"
   ]
  },
  {
   "cell_type": "markdown",
   "id": "ffe6372d",
   "metadata": {},
   "source": [
    "***Change Infinite values with NaN***"
   ]
  },
  {
   "cell_type": "code",
   "execution_count": 652,
   "id": "d660529f",
   "metadata": {},
   "outputs": [],
   "source": [
    "bcn = bcn.replace([np.inf, -np.inf], np.nan)"
   ]
  },
  {
   "cell_type": "markdown",
   "id": "b8dd0da3",
   "metadata": {},
   "source": [
    "***Check the missing variables***"
   ]
  },
  {
   "cell_type": "code",
   "execution_count": 653,
   "id": "fffd3193",
   "metadata": {},
   "outputs": [
    {
     "data": {
      "text/plain": [
       "n_bathrooms                   14\n",
       "n_review_scores_rating      4182\n",
       "n_reviews_per_month         4182\n",
       "n_bedrooms                   526\n",
       "n_beds                       289\n",
       "n_days_since                4182\n",
       "d_host_is_superhost           40\n",
       "d_host_has_profile_pic        40\n",
       "d_host_identity_verified      40\n",
       "ln_beds                      695\n",
       "ln_bedrooms                  526\n",
       "f_bathrooms                   14\n",
       "f_number_of_reviews            1\n",
       "f_minimum_nights               1\n",
       "dtype: int64"
      ]
     },
     "execution_count": 653,
     "metadata": {},
     "output_type": "execute_result"
    }
   ],
   "source": [
    "to_filter = bcn.isna().sum()\n",
    "to_filter[to_filter > 0]"
   ]
  },
  {
   "cell_type": "markdown",
   "id": "23c88a0d",
   "metadata": {},
   "source": [
    "***Solve the missing values issues***\n",
    "\n",
    "*Drop if no target*"
   ]
  },
  {
   "cell_type": "code",
   "execution_count": 654,
   "id": "090958c2",
   "metadata": {},
   "outputs": [],
   "source": [
    "bcn = bcn.loc[lambda x: x.price.notnull()]"
   ]
  },
  {
   "cell_type": "markdown",
   "id": "b90b6fd9",
   "metadata": {},
   "source": [
    "*Imput when few, not that important*"
   ]
  },
  {
   "cell_type": "code",
   "execution_count": 655,
   "id": "4bab1b18",
   "metadata": {},
   "outputs": [],
   "source": [
    "import numpy as np\n",
    "bcn = bcn.assign(\n",
    "    n_bathrooms = lambda x: x[\"n_bathrooms\"].fillna(np.median(x[\"n_bathrooms\"].dropna())),\n",
    "    n_beds = lambda x: np.where(x[\"n_beds\"].isnull(), x[\"n_accommodates\"], x[\"n_beds\"]),\n",
    "    n_bedrooms = lambda x: np.where(x[\"n_bedrooms\"].isnull(), np.ceil(x[\"n_accommodates\"]/2), x[\"n_bedrooms\"]),\n",
    "    f_bathrooms = lambda x: x[\"f_bathrooms\"].fillna(1),\n",
    "    f_minimum_nights = lambda x: x[\"f_minimum_nights\"].fillna(1),\n",
    "    f_number_of_reviews = lambda x: x[\"f_number_of_reviews\"].fillna(1),\n",
    "    ln_beds = lambda x: x[\"ln_beds\"].fillna(0),\n",
    "    ln_bedrooms = lambda x: x[\"ln_bedrooms\"].fillna(0),\n",
    "    ln_accommodates = lambda x: x[\"ln_accommodates\"].fillna(0),\n",
    "    ln_accommodates2 = lambda x: x[\"ln_accommodates2\"].fillna(0),\n",
    "    d_host_is_superhost = lambda x: x[\"d_host_is_superhost\"].fillna(0),\n",
    "    d_host_has_profile_pic = lambda x: x[\"d_host_has_profile_pic\"].fillna(0),\n",
    "    d_host_identity_verified = lambda x: x[\"d_host_identity_verified\"].fillna(0)\n",
    ")"
   ]
  },
  {
   "cell_type": "markdown",
   "id": "74a0698c",
   "metadata": {},
   "source": [
    "*Drop columns when many missing not important*"
   ]
  },
  {
   "cell_type": "code",
   "execution_count": 656,
   "id": "8cab21cb",
   "metadata": {},
   "outputs": [],
   "source": [
    "bcn = bcn.drop([\"p_host_response_rate\"], axis=1)"
   ]
  },
  {
   "cell_type": "code",
   "execution_count": 657,
   "id": "de158562",
   "metadata": {},
   "outputs": [
    {
     "data": {
      "text/plain": [
       "n_review_scores_rating    4182\n",
       "n_reviews_per_month       4182\n",
       "n_days_since              4182\n",
       "dtype: int64"
      ]
     },
     "execution_count": 657,
     "metadata": {},
     "output_type": "execute_result"
    }
   ],
   "source": [
    "to_filter = bcn.isna().sum()\n",
    "to_filter[to_filter > 0]"
   ]
  },
  {
   "cell_type": "markdown",
   "id": "e4886823",
   "metadata": {},
   "source": [
    "*Replace missing variables re reviews with zero, when no review + add flags*"
   ]
  },
  {
   "cell_type": "code",
   "execution_count": 658,
   "id": "e549ccd5",
   "metadata": {},
   "outputs": [],
   "source": [
    "bcn = bcn.assign(\n",
    "    flag_days_since=np.multiply(bcn.n_days_since.isna(), 1),\n",
    "    n_days_since=bcn.n_days_since.fillna(np.median(bcn.n_days_since.dropna())),\n",
    "    flag_review_scores_rating=np.multiply(bcn.n_review_scores_rating.isna(), 1),\n",
    "    n_review_scores_rating=bcn.n_review_scores_rating.fillna(\n",
    "        np.median(bcn.n_review_scores_rating.dropna())\n",
    "    ),\n",
    "    flag_reviews_per_month=np.multiply(bcn.n_reviews_per_month.isna(), 1),\n",
    "    n_reviews_per_month=bcn.n_reviews_per_month.fillna(\n",
    "        np.median(bcn.n_reviews_per_month.dropna())\n",
    "    ),\n",
    "    flag_n_number_of_reviews=np.multiply(bcn.n_number_of_reviews.isna(), 1),\n",
    ")"
   ]
  },
  {
   "cell_type": "code",
   "execution_count": 659,
   "id": "cb6d719d",
   "metadata": {},
   "outputs": [
    {
     "data": {
      "text/plain": [
       "0    11312\n",
       "1     4182\n",
       "Name: flag_days_since, dtype: int64"
      ]
     },
     "execution_count": 659,
     "metadata": {},
     "output_type": "execute_result"
    }
   ],
   "source": [
    "bcn.flag_days_since.value_counts()"
   ]
  },
  {
   "cell_type": "markdown",
   "id": "2df3e8ea",
   "metadata": {},
   "source": [
    "*redo features*\n",
    "\n",
    "*Create variables, measuring the time since: squared, cubic, logs*"
   ]
  },
  {
   "cell_type": "code",
   "execution_count": 660,
   "id": "97821fd2",
   "metadata": {},
   "outputs": [
    {
     "name": "stderr",
     "output_type": "stream",
     "text": [
      "/Users/chenche/miniconda3/lib/python3.8/site-packages/pandas/core/series.py:726: RuntimeWarning: divide by zero encountered in log\n"
     ]
    }
   ],
   "source": [
    "bcn = bcn.assign(\n",
    "    ln_days_since=lambda x: np.log(x[\"n_days_since\"] + 1),\n",
    "    ln_days_since2=lambda x: np.log(x[\"n_days_since\"] + 1) ** 2,\n",
    "    ln_days_since3=lambda x: np.log(x[\"n_days_since\"] + 1) ** 3,\n",
    "    n_days_since2=lambda x: x[\"n_days_since\"] ** 2,\n",
    "    n_days_since3=lambda x: x[\"n_days_since\"] ** 3,\n",
    "    ln_review_scores_rating=lambda x: np.log(x[\"n_review_scores_rating\"]),\n",
    ")"
   ]
  },
  {
   "cell_type": "code",
   "execution_count": 661,
   "id": "ab9eaf70",
   "metadata": {},
   "outputs": [],
   "source": [
    "bcn.ln_days_since = bcn[\"ln_days_since\"].fillna(0)\n",
    "bcn.ln_days_since2 = bcn[\"ln_days_since2\"].fillna(0)\n",
    "bcn.ln_days_since3 = bcn[\"ln_days_since3\"].fillna(0)"
   ]
  },
  {
   "cell_type": "code",
   "execution_count": 662,
   "id": "5dd850d3",
   "metadata": {},
   "outputs": [
    {
     "data": {
      "text/plain": [
       "Series([], dtype: int64)"
      ]
     },
     "execution_count": 662,
     "metadata": {},
     "output_type": "execute_result"
    }
   ],
   "source": [
    "to_filter = bcn.isna().sum()\n",
    "to_filter[to_filter > 0]"
   ]
  },
  {
   "cell_type": "code",
   "execution_count": 663,
   "id": "f6c58326",
   "metadata": {},
   "outputs": [
    {
     "data": {
      "text/html": [
       "<div>\n",
       "<style scoped>\n",
       "    .dataframe tbody tr th:only-of-type {\n",
       "        vertical-align: middle;\n",
       "    }\n",
       "\n",
       "    .dataframe tbody tr th {\n",
       "        vertical-align: top;\n",
       "    }\n",
       "\n",
       "    .dataframe thead th {\n",
       "        text-align: right;\n",
       "    }\n",
       "</style>\n",
       "<table border=\"1\" class=\"dataframe\">\n",
       "  <thead>\n",
       "    <tr style=\"text-align: right;\">\n",
       "      <th></th>\n",
       "      <th>n_accommodates</th>\n",
       "      <th>n_bathrooms</th>\n",
       "      <th>n_price</th>\n",
       "      <th>n_review_scores_rating</th>\n",
       "      <th>n_number_of_reviews</th>\n",
       "      <th>n_reviews_per_month</th>\n",
       "      <th>n_minimum_nights</th>\n",
       "      <th>n_bedrooms</th>\n",
       "      <th>n_beds</th>\n",
       "      <th>n_days_since</th>\n",
       "      <th>...</th>\n",
       "      <th>flag_days_since</th>\n",
       "      <th>flag_review_scores_rating</th>\n",
       "      <th>flag_reviews_per_month</th>\n",
       "      <th>flag_n_number_of_reviews</th>\n",
       "      <th>ln_days_since</th>\n",
       "      <th>ln_days_since2</th>\n",
       "      <th>ln_days_since3</th>\n",
       "      <th>n_days_since2</th>\n",
       "      <th>n_days_since3</th>\n",
       "      <th>ln_review_scores_rating</th>\n",
       "    </tr>\n",
       "  </thead>\n",
       "  <tbody>\n",
       "    <tr>\n",
       "      <th>count</th>\n",
       "      <td>15494.000000</td>\n",
       "      <td>15494.000000</td>\n",
       "      <td>15494.000000</td>\n",
       "      <td>15494.000000</td>\n",
       "      <td>15494.000000</td>\n",
       "      <td>15494.000000</td>\n",
       "      <td>15494.000000</td>\n",
       "      <td>15494.000000</td>\n",
       "      <td>15494.000000</td>\n",
       "      <td>15494.000000</td>\n",
       "      <td>...</td>\n",
       "      <td>15494.000000</td>\n",
       "      <td>15494.000000</td>\n",
       "      <td>15494.000000</td>\n",
       "      <td>15494.0</td>\n",
       "      <td>15494.000000</td>\n",
       "      <td>15494.000000</td>\n",
       "      <td>15494.000000</td>\n",
       "      <td>1.549400e+04</td>\n",
       "      <td>1.549400e+04</td>\n",
       "      <td>1.549400e+04</td>\n",
       "    </tr>\n",
       "    <tr>\n",
       "      <th>mean</th>\n",
       "      <td>3.414741</td>\n",
       "      <td>1.285917</td>\n",
       "      <td>96.382342</td>\n",
       "      <td>4.541674</td>\n",
       "      <td>33.779076</td>\n",
       "      <td>1.031295</td>\n",
       "      <td>13.720860</td>\n",
       "      <td>1.676778</td>\n",
       "      <td>2.325868</td>\n",
       "      <td>1167.914483</td>\n",
       "      <td>...</td>\n",
       "      <td>0.269911</td>\n",
       "      <td>0.269911</td>\n",
       "      <td>0.269911</td>\n",
       "      <td>0.0</td>\n",
       "      <td>6.732928</td>\n",
       "      <td>46.503458</td>\n",
       "      <td>326.264151</td>\n",
       "      <td>1.854193e+06</td>\n",
       "      <td>3.539053e+09</td>\n",
       "      <td>-inf</td>\n",
       "    </tr>\n",
       "    <tr>\n",
       "      <th>std</th>\n",
       "      <td>2.221557</td>\n",
       "      <td>0.662861</td>\n",
       "      <td>96.556466</td>\n",
       "      <td>0.645171</td>\n",
       "      <td>66.558456</td>\n",
       "      <td>1.215214</td>\n",
       "      <td>33.225475</td>\n",
       "      <td>1.009070</td>\n",
       "      <td>1.895476</td>\n",
       "      <td>700.143021</td>\n",
       "      <td>...</td>\n",
       "      <td>0.443928</td>\n",
       "      <td>0.443928</td>\n",
       "      <td>0.443928</td>\n",
       "      <td>0.0</td>\n",
       "      <td>1.082228</td>\n",
       "      <td>12.276252</td>\n",
       "      <td>111.305786</td>\n",
       "      <td>2.078177e+06</td>\n",
       "      <td>5.990524e+09</td>\n",
       "      <td>NaN</td>\n",
       "    </tr>\n",
       "    <tr>\n",
       "      <th>min</th>\n",
       "      <td>1.000000</td>\n",
       "      <td>0.000000</td>\n",
       "      <td>1.000000</td>\n",
       "      <td>0.000000</td>\n",
       "      <td>0.000000</td>\n",
       "      <td>0.010000</td>\n",
       "      <td>1.000000</td>\n",
       "      <td>1.000000</td>\n",
       "      <td>0.000000</td>\n",
       "      <td>1.000000</td>\n",
       "      <td>...</td>\n",
       "      <td>0.000000</td>\n",
       "      <td>0.000000</td>\n",
       "      <td>0.000000</td>\n",
       "      <td>0.0</td>\n",
       "      <td>0.693147</td>\n",
       "      <td>0.480453</td>\n",
       "      <td>0.333025</td>\n",
       "      <td>1.000000e+00</td>\n",
       "      <td>1.000000e+00</td>\n",
       "      <td>-inf</td>\n",
       "    </tr>\n",
       "    <tr>\n",
       "      <th>25%</th>\n",
       "      <td>2.000000</td>\n",
       "      <td>1.000000</td>\n",
       "      <td>40.000000</td>\n",
       "      <td>4.500000</td>\n",
       "      <td>0.000000</td>\n",
       "      <td>0.320000</td>\n",
       "      <td>1.000000</td>\n",
       "      <td>1.000000</td>\n",
       "      <td>1.000000</td>\n",
       "      <td>760.000000</td>\n",
       "      <td>...</td>\n",
       "      <td>0.000000</td>\n",
       "      <td>0.000000</td>\n",
       "      <td>0.000000</td>\n",
       "      <td>0.0</td>\n",
       "      <td>6.634633</td>\n",
       "      <td>44.018360</td>\n",
       "      <td>292.045678</td>\n",
       "      <td>5.776000e+05</td>\n",
       "      <td>4.389760e+08</td>\n",
       "      <td>1.504077e+00</td>\n",
       "    </tr>\n",
       "    <tr>\n",
       "      <th>50%</th>\n",
       "      <td>3.000000</td>\n",
       "      <td>1.000000</td>\n",
       "      <td>69.000000</td>\n",
       "      <td>4.670000</td>\n",
       "      <td>5.000000</td>\n",
       "      <td>0.700000</td>\n",
       "      <td>3.000000</td>\n",
       "      <td>1.000000</td>\n",
       "      <td>2.000000</td>\n",
       "      <td>1083.000000</td>\n",
       "      <td>...</td>\n",
       "      <td>0.000000</td>\n",
       "      <td>0.000000</td>\n",
       "      <td>0.000000</td>\n",
       "      <td>0.0</td>\n",
       "      <td>6.988413</td>\n",
       "      <td>48.837919</td>\n",
       "      <td>341.299556</td>\n",
       "      <td>1.172889e+06</td>\n",
       "      <td>1.270239e+09</td>\n",
       "      <td>1.541159e+00</td>\n",
       "    </tr>\n",
       "    <tr>\n",
       "      <th>75%</th>\n",
       "      <td>4.000000</td>\n",
       "      <td>1.000000</td>\n",
       "      <td>120.750000</td>\n",
       "      <td>4.810000</td>\n",
       "      <td>35.000000</td>\n",
       "      <td>1.190000</td>\n",
       "      <td>30.000000</td>\n",
       "      <td>2.000000</td>\n",
       "      <td>3.000000</td>\n",
       "      <td>1502.000000</td>\n",
       "      <td>...</td>\n",
       "      <td>1.000000</td>\n",
       "      <td>1.000000</td>\n",
       "      <td>1.000000</td>\n",
       "      <td>0.0</td>\n",
       "      <td>7.315218</td>\n",
       "      <td>53.512420</td>\n",
       "      <td>391.455040</td>\n",
       "      <td>2.256004e+06</td>\n",
       "      <td>3.388518e+09</td>\n",
       "      <td>1.570697e+00</td>\n",
       "    </tr>\n",
       "    <tr>\n",
       "      <th>max</th>\n",
       "      <td>16.000000</td>\n",
       "      <td>16.000000</td>\n",
       "      <td>999.000000</td>\n",
       "      <td>5.000000</td>\n",
       "      <td>853.000000</td>\n",
       "      <td>24.000000</td>\n",
       "      <td>1124.000000</td>\n",
       "      <td>16.000000</td>\n",
       "      <td>40.000000</td>\n",
       "      <td>3903.000000</td>\n",
       "      <td>...</td>\n",
       "      <td>1.000000</td>\n",
       "      <td>1.000000</td>\n",
       "      <td>1.000000</td>\n",
       "      <td>0.0</td>\n",
       "      <td>8.269757</td>\n",
       "      <td>68.388880</td>\n",
       "      <td>565.559415</td>\n",
       "      <td>1.523341e+07</td>\n",
       "      <td>5.945600e+10</td>\n",
       "      <td>1.609438e+00</td>\n",
       "    </tr>\n",
       "  </tbody>\n",
       "</table>\n",
       "<p>8 rows × 33 columns</p>\n",
       "</div>"
      ],
      "text/plain": [
       "       n_accommodates   n_bathrooms       n_price  n_review_scores_rating  \\\n",
       "count    15494.000000  15494.000000  15494.000000            15494.000000   \n",
       "mean         3.414741      1.285917     96.382342                4.541674   \n",
       "std          2.221557      0.662861     96.556466                0.645171   \n",
       "min          1.000000      0.000000      1.000000                0.000000   \n",
       "25%          2.000000      1.000000     40.000000                4.500000   \n",
       "50%          3.000000      1.000000     69.000000                4.670000   \n",
       "75%          4.000000      1.000000    120.750000                4.810000   \n",
       "max         16.000000     16.000000    999.000000                5.000000   \n",
       "\n",
       "       n_number_of_reviews  n_reviews_per_month  n_minimum_nights  \\\n",
       "count         15494.000000         15494.000000      15494.000000   \n",
       "mean             33.779076             1.031295         13.720860   \n",
       "std              66.558456             1.215214         33.225475   \n",
       "min               0.000000             0.010000          1.000000   \n",
       "25%               0.000000             0.320000          1.000000   \n",
       "50%               5.000000             0.700000          3.000000   \n",
       "75%              35.000000             1.190000         30.000000   \n",
       "max             853.000000            24.000000       1124.000000   \n",
       "\n",
       "         n_bedrooms        n_beds  n_days_since  ...  flag_days_since  \\\n",
       "count  15494.000000  15494.000000  15494.000000  ...     15494.000000   \n",
       "mean       1.676778      2.325868   1167.914483  ...         0.269911   \n",
       "std        1.009070      1.895476    700.143021  ...         0.443928   \n",
       "min        1.000000      0.000000      1.000000  ...         0.000000   \n",
       "25%        1.000000      1.000000    760.000000  ...         0.000000   \n",
       "50%        1.000000      2.000000   1083.000000  ...         0.000000   \n",
       "75%        2.000000      3.000000   1502.000000  ...         1.000000   \n",
       "max       16.000000     40.000000   3903.000000  ...         1.000000   \n",
       "\n",
       "       flag_review_scores_rating  flag_reviews_per_month  \\\n",
       "count               15494.000000            15494.000000   \n",
       "mean                    0.269911                0.269911   \n",
       "std                     0.443928                0.443928   \n",
       "min                     0.000000                0.000000   \n",
       "25%                     0.000000                0.000000   \n",
       "50%                     0.000000                0.000000   \n",
       "75%                     1.000000                1.000000   \n",
       "max                     1.000000                1.000000   \n",
       "\n",
       "       flag_n_number_of_reviews  ln_days_since  ln_days_since2  \\\n",
       "count                   15494.0   15494.000000    15494.000000   \n",
       "mean                        0.0       6.732928       46.503458   \n",
       "std                         0.0       1.082228       12.276252   \n",
       "min                         0.0       0.693147        0.480453   \n",
       "25%                         0.0       6.634633       44.018360   \n",
       "50%                         0.0       6.988413       48.837919   \n",
       "75%                         0.0       7.315218       53.512420   \n",
       "max                         0.0       8.269757       68.388880   \n",
       "\n",
       "       ln_days_since3  n_days_since2  n_days_since3  ln_review_scores_rating  \n",
       "count    15494.000000   1.549400e+04   1.549400e+04             1.549400e+04  \n",
       "mean       326.264151   1.854193e+06   3.539053e+09                     -inf  \n",
       "std        111.305786   2.078177e+06   5.990524e+09                      NaN  \n",
       "min          0.333025   1.000000e+00   1.000000e+00                     -inf  \n",
       "25%        292.045678   5.776000e+05   4.389760e+08             1.504077e+00  \n",
       "50%        341.299556   1.172889e+06   1.270239e+09             1.541159e+00  \n",
       "75%        391.455040   2.256004e+06   3.388518e+09             1.570697e+00  \n",
       "max        565.559415   1.523341e+07   5.945600e+10             1.609438e+00  \n",
       "\n",
       "[8 rows x 33 columns]"
      ]
     },
     "execution_count": 663,
     "metadata": {},
     "output_type": "execute_result"
    }
   ],
   "source": [
    "bcn.describe()"
   ]
  },
  {
   "cell_type": "markdown",
   "id": "79c44103",
   "metadata": {},
   "source": [
    "***Export the processed Barcelona Airbnb data***"
   ]
  },
  {
   "cell_type": "markdown",
   "id": "f7d7a51a",
   "metadata": {},
   "source": [
    "***Preparing data***"
   ]
  },
  {
   "cell_type": "code",
   "execution_count": 664,
   "id": "dfca1eda",
   "metadata": {},
   "outputs": [],
   "source": [
    "bcn.to_csv('../Output/Processed_Barcelona_Airbnb_data.csv', index=False)"
   ]
  },
  {
   "cell_type": "code",
   "execution_count": 665,
   "id": "06a4d550",
   "metadata": {},
   "outputs": [],
   "source": [
    "data = bcn.loc[bcn.price.notna(), :]"
   ]
  },
  {
   "cell_type": "code",
   "execution_count": 666,
   "id": "a3f8e925",
   "metadata": {},
   "outputs": [],
   "source": [
    "def count_missing_values(df):\n",
    "    return df.isna().sum()[df.isna().sum()>0]"
   ]
  },
  {
   "cell_type": "code",
   "execution_count": 667,
   "id": "d894d36b",
   "metadata": {},
   "outputs": [
    {
     "data": {
      "text/plain": [
       "Series([], dtype: int64)"
      ]
     },
     "execution_count": 667,
     "metadata": {},
     "output_type": "execute_result"
    }
   ],
   "source": [
    "count_missing_values(data)"
   ]
  },
  {
   "cell_type": "markdown",
   "id": "64333d16",
   "metadata": {},
   "source": [
    "***Since in this case, my task is:***\n",
    "\n",
    "***help a company operating small and mid-size apartments hosting 2-6 guests***\n",
    "\n",
    "***Thus, We focus on normal apartments, n<6***"
   ]
  },
  {
   "cell_type": "code",
   "execution_count": 668,
   "id": "71240cce",
   "metadata": {},
   "outputs": [],
   "source": [
    "data = data.query('n_accommodates < 7')"
   ]
  },
  {
   "cell_type": "markdown",
   "id": "d254de1a",
   "metadata": {},
   "source": [
    "***Copy a variable***"
   ]
  },
  {
   "cell_type": "code",
   "execution_count": 669,
   "id": "f3a91f27",
   "metadata": {},
   "outputs": [],
   "source": [
    "data = data.assign(n_accommodates_copy = data.n_accommodates)\n",
    "data1 = data"
   ]
  },
  {
   "cell_type": "markdown",
   "id": "ee5e80a3",
   "metadata": {},
   "source": [
    "***Data statistical describe***"
   ]
  },
  {
   "cell_type": "code",
   "execution_count": 670,
   "id": "27820fba",
   "metadata": {},
   "outputs": [
    {
     "data": {
      "text/html": [
       "<div>\n",
       "<style scoped>\n",
       "    .dataframe tbody tr th:only-of-type {\n",
       "        vertical-align: middle;\n",
       "    }\n",
       "\n",
       "    .dataframe tbody tr th {\n",
       "        vertical-align: top;\n",
       "    }\n",
       "\n",
       "    .dataframe thead th {\n",
       "        text-align: right;\n",
       "    }\n",
       "</style>\n",
       "<table border=\"1\" class=\"dataframe\">\n",
       "  <thead>\n",
       "    <tr style=\"text-align: right;\">\n",
       "      <th></th>\n",
       "      <th>n_accommodates</th>\n",
       "      <th>n_bathrooms</th>\n",
       "      <th>n_price</th>\n",
       "      <th>n_review_scores_rating</th>\n",
       "      <th>n_number_of_reviews</th>\n",
       "      <th>n_reviews_per_month</th>\n",
       "      <th>n_minimum_nights</th>\n",
       "      <th>n_bedrooms</th>\n",
       "      <th>n_beds</th>\n",
       "      <th>n_days_since</th>\n",
       "      <th>...</th>\n",
       "      <th>flag_review_scores_rating</th>\n",
       "      <th>flag_reviews_per_month</th>\n",
       "      <th>flag_n_number_of_reviews</th>\n",
       "      <th>ln_days_since</th>\n",
       "      <th>ln_days_since2</th>\n",
       "      <th>ln_days_since3</th>\n",
       "      <th>n_days_since2</th>\n",
       "      <th>n_days_since3</th>\n",
       "      <th>ln_review_scores_rating</th>\n",
       "      <th>n_accommodates_copy</th>\n",
       "    </tr>\n",
       "  </thead>\n",
       "  <tbody>\n",
       "    <tr>\n",
       "      <th>count</th>\n",
       "      <td>14379.000000</td>\n",
       "      <td>14379.000000</td>\n",
       "      <td>14379.000000</td>\n",
       "      <td>14379.000000</td>\n",
       "      <td>14379.000000</td>\n",
       "      <td>14379.000000</td>\n",
       "      <td>14379.000000</td>\n",
       "      <td>14379.000000</td>\n",
       "      <td>14379.000000</td>\n",
       "      <td>14379.000000</td>\n",
       "      <td>...</td>\n",
       "      <td>14379.000000</td>\n",
       "      <td>14379.000000</td>\n",
       "      <td>14379.0</td>\n",
       "      <td>14379.000000</td>\n",
       "      <td>14379.000000</td>\n",
       "      <td>14379.000000</td>\n",
       "      <td>1.437900e+04</td>\n",
       "      <td>1.437900e+04</td>\n",
       "      <td>1.437900e+04</td>\n",
       "      <td>14379.000000</td>\n",
       "    </tr>\n",
       "    <tr>\n",
       "      <th>mean</th>\n",
       "      <td>2.995966</td>\n",
       "      <td>1.209889</td>\n",
       "      <td>86.737882</td>\n",
       "      <td>4.541359</td>\n",
       "      <td>33.038807</td>\n",
       "      <td>1.020788</td>\n",
       "      <td>14.339384</td>\n",
       "      <td>1.509076</td>\n",
       "      <td>2.006607</td>\n",
       "      <td>1161.831073</td>\n",
       "      <td>...</td>\n",
       "      <td>0.276862</td>\n",
       "      <td>0.276862</td>\n",
       "      <td>0.0</td>\n",
       "      <td>6.735879</td>\n",
       "      <td>46.510379</td>\n",
       "      <td>326.090274</td>\n",
       "      <td>1.826624e+06</td>\n",
       "      <td>3.452228e+09</td>\n",
       "      <td>-inf</td>\n",
       "      <td>2.995966</td>\n",
       "    </tr>\n",
       "    <tr>\n",
       "      <th>std</th>\n",
       "      <td>1.586338</td>\n",
       "      <td>0.552599</td>\n",
       "      <td>82.863896</td>\n",
       "      <td>0.654827</td>\n",
       "      <td>66.609982</td>\n",
       "      <td>1.222820</td>\n",
       "      <td>34.172079</td>\n",
       "      <td>0.749719</td>\n",
       "      <td>1.336030</td>\n",
       "      <td>690.511390</td>\n",
       "      <td>...</td>\n",
       "      <td>0.447463</td>\n",
       "      <td>0.447463</td>\n",
       "      <td>0.0</td>\n",
       "      <td>1.066956</td>\n",
       "      <td>12.114128</td>\n",
       "      <td>109.903831</td>\n",
       "      <td>2.041132e+06</td>\n",
       "      <td>5.859354e+09</td>\n",
       "      <td>NaN</td>\n",
       "      <td>1.586338</td>\n",
       "    </tr>\n",
       "    <tr>\n",
       "      <th>min</th>\n",
       "      <td>1.000000</td>\n",
       "      <td>0.000000</td>\n",
       "      <td>1.000000</td>\n",
       "      <td>0.000000</td>\n",
       "      <td>0.000000</td>\n",
       "      <td>0.010000</td>\n",
       "      <td>1.000000</td>\n",
       "      <td>1.000000</td>\n",
       "      <td>0.000000</td>\n",
       "      <td>1.000000</td>\n",
       "      <td>...</td>\n",
       "      <td>0.000000</td>\n",
       "      <td>0.000000</td>\n",
       "      <td>0.0</td>\n",
       "      <td>0.693147</td>\n",
       "      <td>0.480453</td>\n",
       "      <td>0.333025</td>\n",
       "      <td>1.000000e+00</td>\n",
       "      <td>1.000000e+00</td>\n",
       "      <td>-inf</td>\n",
       "      <td>1.000000</td>\n",
       "    </tr>\n",
       "    <tr>\n",
       "      <th>25%</th>\n",
       "      <td>2.000000</td>\n",
       "      <td>1.000000</td>\n",
       "      <td>38.000000</td>\n",
       "      <td>4.510000</td>\n",
       "      <td>0.000000</td>\n",
       "      <td>0.300000</td>\n",
       "      <td>1.000000</td>\n",
       "      <td>1.000000</td>\n",
       "      <td>1.000000</td>\n",
       "      <td>762.000000</td>\n",
       "      <td>...</td>\n",
       "      <td>0.000000</td>\n",
       "      <td>0.000000</td>\n",
       "      <td>0.0</td>\n",
       "      <td>6.637258</td>\n",
       "      <td>44.053194</td>\n",
       "      <td>292.392417</td>\n",
       "      <td>5.806440e+05</td>\n",
       "      <td>4.424507e+08</td>\n",
       "      <td>1.506297e+00</td>\n",
       "      <td>2.000000</td>\n",
       "    </tr>\n",
       "    <tr>\n",
       "      <th>50%</th>\n",
       "      <td>2.000000</td>\n",
       "      <td>1.000000</td>\n",
       "      <td>62.000000</td>\n",
       "      <td>4.670000</td>\n",
       "      <td>4.000000</td>\n",
       "      <td>0.700000</td>\n",
       "      <td>3.000000</td>\n",
       "      <td>1.000000</td>\n",
       "      <td>2.000000</td>\n",
       "      <td>1083.000000</td>\n",
       "      <td>...</td>\n",
       "      <td>0.000000</td>\n",
       "      <td>0.000000</td>\n",
       "      <td>0.0</td>\n",
       "      <td>6.988413</td>\n",
       "      <td>48.837919</td>\n",
       "      <td>341.299556</td>\n",
       "      <td>1.172889e+06</td>\n",
       "      <td>1.270239e+09</td>\n",
       "      <td>1.541159e+00</td>\n",
       "      <td>2.000000</td>\n",
       "    </tr>\n",
       "    <tr>\n",
       "      <th>75%</th>\n",
       "      <td>4.000000</td>\n",
       "      <td>1.000000</td>\n",
       "      <td>111.000000</td>\n",
       "      <td>4.810000</td>\n",
       "      <td>32.000000</td>\n",
       "      <td>1.160000</td>\n",
       "      <td>30.000000</td>\n",
       "      <td>2.000000</td>\n",
       "      <td>3.000000</td>\n",
       "      <td>1489.000000</td>\n",
       "      <td>...</td>\n",
       "      <td>1.000000</td>\n",
       "      <td>1.000000</td>\n",
       "      <td>0.0</td>\n",
       "      <td>7.306531</td>\n",
       "      <td>53.385401</td>\n",
       "      <td>390.062109</td>\n",
       "      <td>2.217121e+06</td>\n",
       "      <td>3.301293e+09</td>\n",
       "      <td>1.570697e+00</td>\n",
       "      <td>4.000000</td>\n",
       "    </tr>\n",
       "    <tr>\n",
       "      <th>max</th>\n",
       "      <td>6.000000</td>\n",
       "      <td>11.000000</td>\n",
       "      <td>999.000000</td>\n",
       "      <td>5.000000</td>\n",
       "      <td>853.000000</td>\n",
       "      <td>24.000000</td>\n",
       "      <td>1124.000000</td>\n",
       "      <td>10.000000</td>\n",
       "      <td>15.000000</td>\n",
       "      <td>3903.000000</td>\n",
       "      <td>...</td>\n",
       "      <td>1.000000</td>\n",
       "      <td>1.000000</td>\n",
       "      <td>0.0</td>\n",
       "      <td>8.269757</td>\n",
       "      <td>68.388880</td>\n",
       "      <td>565.559415</td>\n",
       "      <td>1.523341e+07</td>\n",
       "      <td>5.945600e+10</td>\n",
       "      <td>1.609438e+00</td>\n",
       "      <td>6.000000</td>\n",
       "    </tr>\n",
       "  </tbody>\n",
       "</table>\n",
       "<p>8 rows × 34 columns</p>\n",
       "</div>"
      ],
      "text/plain": [
       "       n_accommodates   n_bathrooms       n_price  n_review_scores_rating  \\\n",
       "count    14379.000000  14379.000000  14379.000000            14379.000000   \n",
       "mean         2.995966      1.209889     86.737882                4.541359   \n",
       "std          1.586338      0.552599     82.863896                0.654827   \n",
       "min          1.000000      0.000000      1.000000                0.000000   \n",
       "25%          2.000000      1.000000     38.000000                4.510000   \n",
       "50%          2.000000      1.000000     62.000000                4.670000   \n",
       "75%          4.000000      1.000000    111.000000                4.810000   \n",
       "max          6.000000     11.000000    999.000000                5.000000   \n",
       "\n",
       "       n_number_of_reviews  n_reviews_per_month  n_minimum_nights  \\\n",
       "count         14379.000000         14379.000000      14379.000000   \n",
       "mean             33.038807             1.020788         14.339384   \n",
       "std              66.609982             1.222820         34.172079   \n",
       "min               0.000000             0.010000          1.000000   \n",
       "25%               0.000000             0.300000          1.000000   \n",
       "50%               4.000000             0.700000          3.000000   \n",
       "75%              32.000000             1.160000         30.000000   \n",
       "max             853.000000            24.000000       1124.000000   \n",
       "\n",
       "         n_bedrooms        n_beds  n_days_since  ...  \\\n",
       "count  14379.000000  14379.000000  14379.000000  ...   \n",
       "mean       1.509076      2.006607   1161.831073  ...   \n",
       "std        0.749719      1.336030    690.511390  ...   \n",
       "min        1.000000      0.000000      1.000000  ...   \n",
       "25%        1.000000      1.000000    762.000000  ...   \n",
       "50%        1.000000      2.000000   1083.000000  ...   \n",
       "75%        2.000000      3.000000   1489.000000  ...   \n",
       "max       10.000000     15.000000   3903.000000  ...   \n",
       "\n",
       "       flag_review_scores_rating  flag_reviews_per_month  \\\n",
       "count               14379.000000            14379.000000   \n",
       "mean                    0.276862                0.276862   \n",
       "std                     0.447463                0.447463   \n",
       "min                     0.000000                0.000000   \n",
       "25%                     0.000000                0.000000   \n",
       "50%                     0.000000                0.000000   \n",
       "75%                     1.000000                1.000000   \n",
       "max                     1.000000                1.000000   \n",
       "\n",
       "       flag_n_number_of_reviews  ln_days_since  ln_days_since2  \\\n",
       "count                   14379.0   14379.000000    14379.000000   \n",
       "mean                        0.0       6.735879       46.510379   \n",
       "std                         0.0       1.066956       12.114128   \n",
       "min                         0.0       0.693147        0.480453   \n",
       "25%                         0.0       6.637258       44.053194   \n",
       "50%                         0.0       6.988413       48.837919   \n",
       "75%                         0.0       7.306531       53.385401   \n",
       "max                         0.0       8.269757       68.388880   \n",
       "\n",
       "       ln_days_since3  n_days_since2  n_days_since3  ln_review_scores_rating  \\\n",
       "count    14379.000000   1.437900e+04   1.437900e+04             1.437900e+04   \n",
       "mean       326.090274   1.826624e+06   3.452228e+09                     -inf   \n",
       "std        109.903831   2.041132e+06   5.859354e+09                      NaN   \n",
       "min          0.333025   1.000000e+00   1.000000e+00                     -inf   \n",
       "25%        292.392417   5.806440e+05   4.424507e+08             1.506297e+00   \n",
       "50%        341.299556   1.172889e+06   1.270239e+09             1.541159e+00   \n",
       "75%        390.062109   2.217121e+06   3.301293e+09             1.570697e+00   \n",
       "max        565.559415   1.523341e+07   5.945600e+10             1.609438e+00   \n",
       "\n",
       "       n_accommodates_copy  \n",
       "count         14379.000000  \n",
       "mean              2.995966  \n",
       "std               1.586338  \n",
       "min               1.000000  \n",
       "25%               2.000000  \n",
       "50%               2.000000  \n",
       "75%               4.000000  \n",
       "max               6.000000  \n",
       "\n",
       "[8 rows x 34 columns]"
      ]
     },
     "execution_count": 670,
     "metadata": {},
     "output_type": "execute_result"
    }
   ],
   "source": [
    "data.describe()"
   ]
  },
  {
   "cell_type": "code",
   "execution_count": 671,
   "id": "d24fb33e",
   "metadata": {},
   "outputs": [
    {
     "data": {
      "text/plain": [
       "count    14379.000000\n",
       "mean        86.737882\n",
       "std         82.863896\n",
       "min          1.000000\n",
       "25%         38.000000\n",
       "50%         62.000000\n",
       "75%        111.000000\n",
       "max        999.000000\n",
       "Name: price, dtype: float64"
      ]
     },
     "execution_count": 671,
     "metadata": {},
     "output_type": "execute_result"
    }
   ],
   "source": [
    "data.price.describe()"
   ]
  },
  {
   "cell_type": "code",
   "execution_count": 672,
   "id": "12f6240f",
   "metadata": {},
   "outputs": [
    {
     "data": {
      "text/plain": [
       "Entire home/apt    7451\n",
       "Private room       6794\n",
       "Shared room         134\n",
       "Name: f_room_type, dtype: int64"
      ]
     },
     "execution_count": 672,
     "metadata": {},
     "output_type": "execute_result"
    }
   ],
   "source": [
    "data.f_room_type.value_counts()"
   ]
  },
  {
   "cell_type": "code",
   "execution_count": 673,
   "id": "1cb2ed8e",
   "metadata": {},
   "outputs": [
    {
     "data": {
      "text/plain": [
       "Rental unit    12371\n",
       "Apartment       1542\n",
       "Hotel            466\n",
       "Name: f_property_type, dtype: int64"
      ]
     },
     "execution_count": 673,
     "metadata": {},
     "output_type": "execute_result"
    }
   ],
   "source": [
    "data.f_property_type.value_counts()"
   ]
  },
  {
   "cell_type": "code",
   "execution_count": 674,
   "id": "10618334",
   "metadata": {},
   "outputs": [
    {
     "data": {
      "text/plain": [
       "1    7554\n",
       "0    3981\n",
       "2    2844\n",
       "Name: f_number_of_reviews, dtype: int64"
      ]
     },
     "execution_count": 674,
     "metadata": {},
     "output_type": "execute_result"
    }
   ],
   "source": [
    "data.f_number_of_reviews.value_counts()"
   ]
  },
  {
   "cell_type": "markdown",
   "id": "fcac6fd2",
   "metadata": {},
   "source": [
    "***Linear regressions models***"
   ]
  },
  {
   "cell_type": "code",
   "execution_count": 675,
   "id": "09977911",
   "metadata": {},
   "outputs": [],
   "source": [
    "reg_model1 = smf.ols(formula=\"price~n_accommodates+n_beds+n_bedrooms+n_days_since+f_property_type+f_room_type+f_bathrooms+f_neighbourhood_cleansed\", data = data).fit(cov_type=\"HC0\")\n",
    "reg_model2 = smf.ols(formula=\"price~n_accommodates+n_beds+n_bedrooms+n_days_since+f_property_type+f_room_type+f_bathrooms+f_neighbourhood_cleansed+n_number_of_reviews+flag_n_number_of_reviews+n_review_scores_rating+flag_review_scores_rating\", data = data).fit(cov_type=\"HC0\")\n",
    "reg_model3 = smf.ols(formula=\"price~n_accommodates+n_beds+n_bedrooms+n_days_since+f_property_type+f_room_type+f_bathrooms+f_neighbourhood_cleansed+n_number_of_reviews+flag_n_number_of_reviews+n_review_scores_rating+flag_review_scores_rating+d_host_is_superhost+d_host_has_profile_pic+d_host_identity_verified+d_has_availability+d_instant_bookable\", data = data).fit(cov_type=\"HC0\")"
   ]
  },
  {
   "cell_type": "code",
   "execution_count": 676,
   "id": "b6ac8c92",
   "metadata": {},
   "outputs": [],
   "source": [
    "models = [reg_model1, reg_model2,reg_model3]\n",
    "AIC = [None]*len(models)\n",
    "BIC = [None]*len(models)\n",
    "RMSE = [None]*len(models)\n",
    "Rsquared = [None]*len(models)\n",
    "regr = [None]*len(models)\n",
    "k = [None]*len(models)\n",
    "\n",
    "for i in range(0,len(models)):\n",
    "    AIC[i] = models[i].aic\n",
    "    BIC[i] = models[i].bic\n",
    "    RMSE[i] = rmse(models[i].fittedvalues, data.price) \n",
    "    Rsquared[i] = models[i].rsquared\n",
    "    k[i] = (models[i].df_model)"
   ]
  },
  {
   "cell_type": "code",
   "execution_count": 677,
   "id": "14b4c7c1",
   "metadata": {},
   "outputs": [
    {
     "data": {
      "text/html": [
       "<div>\n",
       "<style scoped>\n",
       "    .dataframe tbody tr th:only-of-type {\n",
       "        vertical-align: middle;\n",
       "    }\n",
       "\n",
       "    .dataframe tbody tr th {\n",
       "        vertical-align: top;\n",
       "    }\n",
       "\n",
       "    .dataframe thead th {\n",
       "        text-align: right;\n",
       "    }\n",
       "</style>\n",
       "<table border=\"1\" class=\"dataframe\">\n",
       "  <thead>\n",
       "    <tr style=\"text-align: right;\">\n",
       "      <th></th>\n",
       "      <th>k</th>\n",
       "      <th>RSquared</th>\n",
       "      <th>RMSE</th>\n",
       "      <th>BIC</th>\n",
       "    </tr>\n",
       "    <tr>\n",
       "      <th>models</th>\n",
       "      <th></th>\n",
       "      <th></th>\n",
       "      <th></th>\n",
       "      <th></th>\n",
       "    </tr>\n",
       "  </thead>\n",
       "  <tbody>\n",
       "    <tr>\n",
       "      <th>(1)</th>\n",
       "      <td>83.0</td>\n",
       "      <td>0.237077</td>\n",
       "      <td>72.375330</td>\n",
       "      <td>164747.898471</td>\n",
       "    </tr>\n",
       "    <tr>\n",
       "      <th>(2)</th>\n",
       "      <td>86.0</td>\n",
       "      <td>0.242015</td>\n",
       "      <td>72.140722</td>\n",
       "      <td>164683.247146</td>\n",
       "    </tr>\n",
       "    <tr>\n",
       "      <th>(3)</th>\n",
       "      <td>91.0</td>\n",
       "      <td>0.250852</td>\n",
       "      <td>71.718959</td>\n",
       "      <td>164562.490616</td>\n",
       "    </tr>\n",
       "  </tbody>\n",
       "</table>\n",
       "</div>"
      ],
      "text/plain": [
       "           k  RSquared       RMSE            BIC\n",
       "models                                          \n",
       "(1)     83.0  0.237077  72.375330  164747.898471\n",
       "(2)     86.0  0.242015  72.140722  164683.247146\n",
       "(3)     91.0  0.250852  71.718959  164562.490616"
      ]
     },
     "execution_count": 677,
     "metadata": {},
     "output_type": "execute_result"
    }
   ],
   "source": [
    "evaluation_models = pd.DataFrame({'models':['(' + str(x+1) + ')'for x in range(len(models))],'k':k,'RSquared':Rsquared,'RMSE':RMSE,'BIC':BIC}).set_index('models')\n",
    "evaluation_models"
   ]
  },
  {
   "cell_type": "markdown",
   "id": "a659ec4d",
   "metadata": {},
   "source": [
    "Export .csv file"
   ]
  },
  {
   "cell_type": "code",
   "execution_count": 678,
   "id": "252e579b",
   "metadata": {},
   "outputs": [],
   "source": [
    "evaluation_models.to_csv(\"../Output/evaluation_bcn_lr_models.csv\")"
   ]
  },
  {
   "cell_type": "markdown",
   "id": "2e1bfd84",
   "metadata": {},
   "source": [
    "***Cross Validation***"
   ]
  },
  {
   "cell_type": "markdown",
   "id": "4eba3db8",
   "metadata": {},
   "source": [
    "*Separate holdout set*"
   ]
  },
  {
   "cell_type": "code",
   "execution_count": 679,
   "id": "bac378e1",
   "metadata": {},
   "outputs": [],
   "source": [
    "sample_size = round(0.2 * data1.shape[0])-1"
   ]
  },
  {
   "cell_type": "code",
   "execution_count": 680,
   "id": "f1759de4",
   "metadata": {},
   "outputs": [],
   "source": [
    "np.random.seed(20211023)"
   ]
  },
  {
   "cell_type": "code",
   "execution_count": 681,
   "id": "120f7951",
   "metadata": {},
   "outputs": [],
   "source": [
    "data_work,data_holdout = train_test_split(data1, test_size = sample_size)"
   ]
  },
  {
   "cell_type": "code",
   "execution_count": 682,
   "id": "645852d1",
   "metadata": {},
   "outputs": [],
   "source": [
    "n_folds = 5\n",
    "k = KFold(n_splits = n_folds, shuffle = False, random_state = None)"
   ]
  },
  {
   "cell_type": "code",
   "execution_count": 683,
   "id": "876209e3",
   "metadata": {},
   "outputs": [],
   "source": [
    "def cross_validation_reg(formula, data, kfold, testdata, robustse = None):\n",
    "    regression_list = []\n",
    "    predicts_on_test = []\n",
    "    rsquared = []\n",
    "    rmse_list = []\n",
    "    rmse_list_test = []\n",
    "\n",
    "    for train_index, test_index in k.split(data):\n",
    "        data_train, data_test = data.iloc[train_index, :], data.iloc[test_index, :]\n",
    "        if robustse is None:\n",
    "            model = smf.ols(formula, data = data_train).fit()\n",
    "        else:\n",
    "            model = smf.ols(formula, data = data_train).fit(cov_type = robustse)\n",
    "        regression_list += [model]\n",
    "        predicts_on_test += [model.predict(data_test)]\n",
    "        rsquared += [model.rsquared]\n",
    "\n",
    "        rmse_tr = pd.concat(\n",
    "            [data_train[\"price\"], model.predict(data_train)],\n",
    "            axis=1,\n",
    "            keys=[\"price\", \"predicted\"],\n",
    "        )\n",
    "        rmse_tr = rmse_tr[~rmse_tr.isna().any(axis=1)]\n",
    "\n",
    "        rmse_te = pd.concat(\n",
    "            [data_test[\"price\"], model.predict(data_test)],\n",
    "            axis=1,\n",
    "            keys=[\"price\", \"predicted\"],\n",
    "        )\n",
    "        rmse_te = rmse_te[~rmse_te.isna().any(axis=1)]\n",
    "\n",
    "        rmse_list += [rmse(rmse_tr[\"price\"], rmse_tr[\"predicted\"], axis = 0)]\n",
    "        rmse_list_test += [rmse(rmse_te[\"price\"], rmse_te[\"predicted\"], axis = 0)]\n",
    "    nvars = model.df_model\n",
    "\n",
    "    return {\n",
    "        \"regressions\": regression_list,\n",
    "        \"test_predict\": predicts_on_test,\n",
    "        \"r2\": rsquared,\n",
    "        \"rmse\": rmse_list,\n",
    "        \"rmse_test\": rmse_list_test,\n",
    "        \"nvars\": nvars,\n",
    "    }"
   ]
  },
  {
   "cell_type": "code",
   "execution_count": 684,
   "id": "813b721c",
   "metadata": {},
   "outputs": [],
   "source": [
    "def summarize_cv(cvlist, stat=\"rmse\"):\n",
    "    result = pd.DataFrame(\n",
    "        {\"Model\" + str(x + 1): cvlist[x][stat] for x in range(len(cv_list))}\n",
    "    )\n",
    "    result[\"Resample\"] = [\"Fold\" + str(x + 1) for x in range(len(cvlist[0][\"rmse\"]))]\n",
    "    result = result.set_index(\"Resample\")\n",
    "    result = pd.concat([result, pd.DataFrame(result.mean(), columns=[\"Average\"]).T])\n",
    "    return result"
   ]
  },
  {
   "cell_type": "code",
   "execution_count": 685,
   "id": "b6c3a8a0",
   "metadata": {},
   "outputs": [],
   "source": [
    "cvm1 = cross_validation_reg(\"price~n_accommodates+n_beds+n_bedrooms+n_days_since+f_property_type+f_room_type+f_bathrooms+f_neighbourhood_cleansed\", data1, k, \"HC0\")\n",
    "cvm2 = cross_validation_reg(\"price~n_accommodates+n_beds+n_bedrooms+n_days_since+f_property_type+f_room_type+f_bathrooms+f_neighbourhood_cleansed+n_number_of_reviews+flag_n_number_of_reviews+n_review_scores_rating+flag_review_scores_rating\", data1, k, \"HC0\")\n",
    "cvm3 = cross_validation_reg(\"price~n_accommodates+n_beds+n_bedrooms+n_days_since+f_property_type+f_room_type+f_bathrooms+f_neighbourhood_cleansed+n_number_of_reviews+flag_n_number_of_reviews+n_review_scores_rating+flag_review_scores_rating+d_host_is_superhost+d_host_has_profile_pic+d_host_identity_verified+d_has_availability+d_instant_bookable\", data1, k, \"HC0\")"
   ]
  },
  {
   "cell_type": "code",
   "execution_count": 686,
   "id": "5faf0f11",
   "metadata": {},
   "outputs": [
    {
     "data": {
      "text/html": [
       "<div>\n",
       "<style scoped>\n",
       "    .dataframe tbody tr th:only-of-type {\n",
       "        vertical-align: middle;\n",
       "    }\n",
       "\n",
       "    .dataframe tbody tr th {\n",
       "        vertical-align: top;\n",
       "    }\n",
       "\n",
       "    .dataframe thead th {\n",
       "        text-align: right;\n",
       "    }\n",
       "</style>\n",
       "<table border=\"1\" class=\"dataframe\">\n",
       "  <thead>\n",
       "    <tr style=\"text-align: right;\">\n",
       "      <th></th>\n",
       "      <th>Model1</th>\n",
       "      <th>Model2</th>\n",
       "      <th>Model3</th>\n",
       "    </tr>\n",
       "  </thead>\n",
       "  <tbody>\n",
       "    <tr>\n",
       "      <th>Fold1</th>\n",
       "      <td>76.624979</td>\n",
       "      <td>76.427807</td>\n",
       "      <td>75.960056</td>\n",
       "    </tr>\n",
       "    <tr>\n",
       "      <th>Fold2</th>\n",
       "      <td>74.473736</td>\n",
       "      <td>74.237212</td>\n",
       "      <td>73.733160</td>\n",
       "    </tr>\n",
       "    <tr>\n",
       "      <th>Fold3</th>\n",
       "      <td>71.453193</td>\n",
       "      <td>71.198859</td>\n",
       "      <td>70.933382</td>\n",
       "    </tr>\n",
       "    <tr>\n",
       "      <th>Fold4</th>\n",
       "      <td>71.568139</td>\n",
       "      <td>71.364676</td>\n",
       "      <td>70.889527</td>\n",
       "    </tr>\n",
       "    <tr>\n",
       "      <th>Fold5</th>\n",
       "      <td>66.743295</td>\n",
       "      <td>66.475513</td>\n",
       "      <td>66.016913</td>\n",
       "    </tr>\n",
       "    <tr>\n",
       "      <th>Average</th>\n",
       "      <td>72.172668</td>\n",
       "      <td>71.940813</td>\n",
       "      <td>71.506608</td>\n",
       "    </tr>\n",
       "  </tbody>\n",
       "</table>\n",
       "</div>"
      ],
      "text/plain": [
       "            Model1     Model2     Model3\n",
       "Fold1    76.624979  76.427807  75.960056\n",
       "Fold2    74.473736  74.237212  73.733160\n",
       "Fold3    71.453193  71.198859  70.933382\n",
       "Fold4    71.568139  71.364676  70.889527\n",
       "Fold5    66.743295  66.475513  66.016913\n",
       "Average  72.172668  71.940813  71.506608"
      ]
     },
     "execution_count": 686,
     "metadata": {},
     "output_type": "execute_result"
    }
   ],
   "source": [
    "cv_list = [cvm1, cvm2, cvm3]\n",
    "z = summarize_cv(cv_list)\n",
    "z"
   ]
  },
  {
   "cell_type": "code",
   "execution_count": 687,
   "id": "07ba3ee1",
   "metadata": {},
   "outputs": [
    {
     "name": "stdout",
     "output_type": "stream",
     "text": [
      "            Model1     Model2     Model3\n",
      "Fold1    76.624979  76.427807  75.960056\n",
      "Fold2    74.473736  74.237212  73.733160\n",
      "Fold3    71.453193  71.198859  70.933382\n",
      "Fold4    71.568139  71.364676  70.889527\n",
      "Fold5    66.743295  66.475513  66.016913\n",
      "Average  72.172668  71.940813  71.506608\n"
     ]
    }
   ],
   "source": [
    "print(z)\n",
    "z.to_csv(\"../Output/bcn_cv_list.csv\")"
   ]
  },
  {
   "cell_type": "markdown",
   "id": "a20dd42e",
   "metadata": {},
   "source": [
    "***Random forest***"
   ]
  },
  {
   "cell_type": "markdown",
   "id": "5759e5bb",
   "metadata": {},
   "source": [
    "*Create train set and holdout set samples*\n",
    "\n",
    "*Pick a smaller training set first so that models run faster and check if works*"
   ]
  },
  {
   "cell_type": "code",
   "execution_count": 688,
   "id": "2fd98f43",
   "metadata": {},
   "outputs": [],
   "source": [
    "data_train_set, data_holdout_set = train_test_split(data,train_size = 0.7, random_state = 42)"
   ]
  },
  {
   "cell_type": "code",
   "execution_count": 689,
   "id": "3aadb9f9",
   "metadata": {},
   "outputs": [
    {
     "data": {
      "text/plain": [
       "((10065, 45), (4314, 45))"
      ]
     },
     "execution_count": 689,
     "metadata": {},
     "output_type": "execute_result"
    }
   ],
   "source": [
    "data_train_set.shape, data_holdout_set.shape"
   ]
  },
  {
   "cell_type": "markdown",
   "id": "737aa7b1",
   "metadata": {},
   "source": [
    "*Basic Variables*"
   ]
  },
  {
   "cell_type": "code",
   "execution_count": 690,
   "id": "1d60ca5f",
   "metadata": {},
   "outputs": [],
   "source": [
    "Basic = [\n",
    "    \"n_accommodates\",\n",
    "    \"n_beds\",\n",
    "    \"n_bedrooms\",\n",
    "    \"n_days_since\",\n",
    "    \"f_property_type\",\n",
    "    \"f_room_type\",\n",
    "    \"f_bathrooms\",\n",
    "    \"f_neighbourhood_cleansed\"\n",
    "]"
   ]
  },
  {
   "cell_type": "markdown",
   "id": "44ad7032",
   "metadata": {},
   "source": [
    "*Reviews Variables*"
   ]
  },
  {
   "cell_type": "code",
   "execution_count": 691,
   "id": "00cdac9d",
   "metadata": {},
   "outputs": [],
   "source": [
    "Reviews = [\n",
    "    \"n_number_of_reviews\",\n",
    "    \"flag_n_number_of_reviews\",\n",
    "    \"n_review_scores_rating\",\n",
    "    \"flag_review_scores_rating\"\n",
    "]"
   ]
  },
  {
   "cell_type": "markdown",
   "id": "5a8ce8f7",
   "metadata": {},
   "source": [
    "*Creat dummy variables*"
   ]
  },
  {
   "cell_type": "code",
   "execution_count": 692,
   "id": "48679106",
   "metadata": {},
   "outputs": [],
   "source": [
    "Dummy = [col for col in data if col.startswith(\"d_\")]"
   ]
  },
  {
   "cell_type": "code",
   "execution_count": 693,
   "id": "cc04d70d",
   "metadata": {},
   "outputs": [],
   "source": [
    "X1 = [\n",
    "    \"n_accommodates:f_property_type\",\n",
    "    \"f_room_type:f_property_type\",\n",
    "    \"f_room_type:d_familykidfriendly\",\n",
    "    \"d_host_is_superhost:f_property_type\",\n",
    "    \"d_host_has_profile_pic:f_property_type\",\n",
    "    \"d_host_identity_verified:f_property_type\",\n",
    "    \"d_has_availability:f_property_type\",\n",
    "    \"d_instant_bookable:f_property_type\"\n",
    "]\n",
    "\n",
    "X2 = [\n",
    "    \"f_property_type:f_neighbourhood_cleansed\",\n",
    "    \"f_room_type:f_neighbourhood_cleansed\",\n",
    "    \"n_accommodates:f_neighbourhood_cleansed\",\n",
    "]"
   ]
  },
  {
   "cell_type": "code",
   "execution_count": 694,
   "id": "a974eefc",
   "metadata": {},
   "outputs": [],
   "source": [
    "Predictors_1 = Basic\n",
    "Predictors_2 = Basic + Reviews + Dummy\n",
    "Predictors_E = Basic + Reviews + Dummy + X1 + X2"
   ]
  },
  {
   "cell_type": "code",
   "execution_count": 695,
   "id": "15f6edc2",
   "metadata": {},
   "outputs": [
    {
     "name": "stdout",
     "output_type": "stream",
     "text": [
      "Fitting 5 folds for each of 6 candidates, totalling 30 fits\n",
      "[CV 1/5] END .........min_node_size=5, mtry=5;, score=-77.577 total time=   0.4s\n",
      "[CV 2/5] END .........min_node_size=5, mtry=5;, score=-64.736 total time=   0.4s\n",
      "[CV 3/5] END .........min_node_size=5, mtry=5;, score=-72.010 total time=   0.4s\n",
      "[CV 4/5] END .........min_node_size=5, mtry=5;, score=-73.324 total time=   0.4s\n",
      "[CV 5/5] END .........min_node_size=5, mtry=5;, score=-67.380 total time=   0.4s\n",
      "[CV 1/5] END .........min_node_size=5, mtry=7;, score=-76.891 total time=   0.5s\n",
      "[CV 2/5] END .........min_node_size=5, mtry=7;, score=-64.358 total time=   0.5s\n",
      "[CV 3/5] END .........min_node_size=5, mtry=7;, score=-71.448 total time=   0.5s\n",
      "[CV 4/5] END .........min_node_size=5, mtry=7;, score=-73.185 total time=   0.5s\n",
      "[CV 5/5] END .........min_node_size=5, mtry=7;, score=-66.496 total time=   0.5s\n",
      "[CV 1/5] END .........min_node_size=5, mtry=9;, score=-76.503 total time=   0.6s\n",
      "[CV 2/5] END .........min_node_size=5, mtry=9;, score=-64.039 total time=   0.6s\n",
      "[CV 3/5] END .........min_node_size=5, mtry=9;, score=-71.289 total time=   0.6s\n",
      "[CV 4/5] END .........min_node_size=5, mtry=9;, score=-72.974 total time=   0.6s\n",
      "[CV 5/5] END .........min_node_size=5, mtry=9;, score=-66.460 total time=   0.7s\n",
      "[CV 1/5] END ........min_node_size=10, mtry=5;, score=-77.527 total time=   0.4s\n",
      "[CV 2/5] END ........min_node_size=10, mtry=5;, score=-64.643 total time=   0.4s\n",
      "[CV 3/5] END ........min_node_size=10, mtry=5;, score=-72.097 total time=   0.4s\n",
      "[CV 4/5] END ........min_node_size=10, mtry=5;, score=-73.482 total time=   0.4s\n",
      "[CV 5/5] END ........min_node_size=10, mtry=5;, score=-67.317 total time=   0.4s\n",
      "[CV 1/5] END ........min_node_size=10, mtry=7;, score=-77.063 total time=   0.5s\n",
      "[CV 2/5] END ........min_node_size=10, mtry=7;, score=-64.302 total time=   0.5s\n",
      "[CV 3/5] END ........min_node_size=10, mtry=7;, score=-71.378 total time=   0.5s\n",
      "[CV 4/5] END ........min_node_size=10, mtry=7;, score=-73.123 total time=   0.5s\n",
      "[CV 5/5] END ........min_node_size=10, mtry=7;, score=-66.635 total time=   0.6s\n",
      "[CV 1/5] END ........min_node_size=10, mtry=9;, score=-76.687 total time=   0.7s\n",
      "[CV 2/5] END ........min_node_size=10, mtry=9;, score=-64.032 total time=   0.7s\n",
      "[CV 3/5] END ........min_node_size=10, mtry=9;, score=-71.355 total time=   0.6s\n",
      "[CV 4/5] END ........min_node_size=10, mtry=9;, score=-72.877 total time=   0.6s\n",
      "[CV 5/5] END ........min_node_size=10, mtry=9;, score=-66.730 total time=   0.6s\n"
     ]
    }
   ],
   "source": [
    "rfr = RangerForestRegressor(importance = \"impurity\",seed = 42)\n",
    "\n",
    "tune_grid = {\"mtry\": [5, 7, 9], \"min_node_size\": [5, 10]}\n",
    "\n",
    "rf_random = GridSearchCV(\n",
    "    rfr,\n",
    "    tune_grid,\n",
    "    cv=5,\n",
    "    scoring=\"neg_root_mean_squared_error\",\n",
    "    verbose=3,\n",
    ")\n",
    "\n",
    "y, X = dmatrices(\"price ~ \" + \" + \".join(Predictors_1), data_train_set)\n",
    "\n",
    "rf_model_1 = rf_random.fit(X, y.ravel())"
   ]
  },
  {
   "cell_type": "code",
   "execution_count": 696,
   "id": "9e270f3b",
   "metadata": {},
   "outputs": [
    {
     "name": "stdout",
     "output_type": "stream",
     "text": [
      "Fitting 5 folds for each of 9 candidates, totalling 45 fits\n",
      "[CV 1/5] END .........min_node_size=5, mtry=8;, score=-75.144 total time=   0.7s\n",
      "[CV 2/5] END .........min_node_size=5, mtry=8;, score=-62.481 total time=   0.7s\n",
      "[CV 3/5] END .........min_node_size=5, mtry=8;, score=-70.403 total time=   0.7s\n",
      "[CV 4/5] END .........min_node_size=5, mtry=8;, score=-70.890 total time=   0.9s\n",
      "[CV 5/5] END .........min_node_size=5, mtry=8;, score=-64.673 total time=   0.6s\n",
      "[CV 1/5] END ........min_node_size=5, mtry=10;, score=-74.561 total time=   0.6s\n",
      "[CV 2/5] END ........min_node_size=5, mtry=10;, score=-62.161 total time=   0.6s\n",
      "[CV 3/5] END ........min_node_size=5, mtry=10;, score=-70.129 total time=   0.7s\n",
      "[CV 4/5] END ........min_node_size=5, mtry=10;, score=-70.863 total time=   0.8s\n",
      "[CV 5/5] END ........min_node_size=5, mtry=10;, score=-64.208 total time=   0.7s\n",
      "[CV 1/5] END ........min_node_size=5, mtry=12;, score=-74.208 total time=   0.9s\n",
      "[CV 2/5] END ........min_node_size=5, mtry=12;, score=-62.040 total time=   0.8s\n",
      "[CV 3/5] END ........min_node_size=5, mtry=12;, score=-69.800 total time=   0.8s\n",
      "[CV 4/5] END ........min_node_size=5, mtry=12;, score=-70.888 total time=   0.8s\n",
      "[CV 5/5] END ........min_node_size=5, mtry=12;, score=-63.785 total time=   0.8s\n",
      "[CV 1/5] END ........min_node_size=10, mtry=8;, score=-75.103 total time=   0.6s\n",
      "[CV 2/5] END ........min_node_size=10, mtry=8;, score=-62.709 total time=   0.6s\n",
      "[CV 3/5] END ........min_node_size=10, mtry=8;, score=-70.210 total time=   0.6s\n",
      "[CV 4/5] END ........min_node_size=10, mtry=8;, score=-71.337 total time=   0.6s\n",
      "[CV 5/5] END ........min_node_size=10, mtry=8;, score=-64.790 total time=   0.9s\n",
      "[CV 1/5] END .......min_node_size=10, mtry=10;, score=-74.632 total time=   0.7s\n",
      "[CV 2/5] END .......min_node_size=10, mtry=10;, score=-62.304 total time=   0.8s\n",
      "[CV 3/5] END .......min_node_size=10, mtry=10;, score=-70.178 total time=   0.7s\n",
      "[CV 4/5] END .......min_node_size=10, mtry=10;, score=-70.998 total time=   0.7s\n",
      "[CV 5/5] END .......min_node_size=10, mtry=10;, score=-64.361 total time=   0.7s\n",
      "[CV 1/5] END .......min_node_size=10, mtry=12;, score=-74.757 total time=   0.9s\n",
      "[CV 2/5] END .......min_node_size=10, mtry=12;, score=-61.889 total time=   0.8s\n",
      "[CV 3/5] END .......min_node_size=10, mtry=12;, score=-70.146 total time=   0.7s\n",
      "[CV 4/5] END .......min_node_size=10, mtry=12;, score=-70.651 total time=   0.7s\n",
      "[CV 5/5] END .......min_node_size=10, mtry=12;, score=-64.451 total time=   0.7s\n",
      "[CV 1/5] END ........min_node_size=15, mtry=8;, score=-75.218 total time=   0.5s\n",
      "[CV 2/5] END ........min_node_size=15, mtry=8;, score=-62.687 total time=   0.5s\n",
      "[CV 3/5] END ........min_node_size=15, mtry=8;, score=-70.410 total time=   0.5s\n",
      "[CV 4/5] END ........min_node_size=15, mtry=8;, score=-71.312 total time=   0.5s\n",
      "[CV 5/5] END ........min_node_size=15, mtry=8;, score=-64.888 total time=   0.7s\n",
      "[CV 1/5] END .......min_node_size=15, mtry=10;, score=-75.085 total time=   0.6s\n",
      "[CV 2/5] END .......min_node_size=15, mtry=10;, score=-62.335 total time=   0.6s\n",
      "[CV 3/5] END .......min_node_size=15, mtry=10;, score=-70.130 total time=   0.6s\n",
      "[CV 4/5] END .......min_node_size=15, mtry=10;, score=-70.990 total time=   0.6s\n",
      "[CV 5/5] END .......min_node_size=15, mtry=10;, score=-64.443 total time=   0.6s\n",
      "[CV 1/5] END .......min_node_size=15, mtry=12;, score=-75.085 total time=   0.7s\n",
      "[CV 2/5] END .......min_node_size=15, mtry=12;, score=-61.775 total time=   0.7s\n",
      "[CV 3/5] END .......min_node_size=15, mtry=12;, score=-69.973 total time=   0.7s\n",
      "[CV 4/5] END .......min_node_size=15, mtry=12;, score=-71.065 total time=   0.7s\n",
      "[CV 5/5] END .......min_node_size=15, mtry=12;, score=-64.245 total time=   0.7s\n"
     ]
    }
   ],
   "source": [
    "rfr = RangerForestRegressor(importance=\"impurity\",seed = 42)\n",
    "\n",
    "tune_grid = {\"mtry\": [8, 10, 12], \"min_node_size\": [5, 10, 15]}\n",
    "\n",
    "rf_random = GridSearchCV(\n",
    "    rfr,\n",
    "    tune_grid,\n",
    "    cv=5,\n",
    "    scoring=\"neg_root_mean_squared_error\",\n",
    "    verbose=3,\n",
    ")\n",
    "\n",
    "y, X = dmatrices(\"price ~ \" + \" + \".join(Predictors_2), data_train_set)\n",
    "\n",
    "rf_model_2 = rf_random.fit(X,y.ravel())"
   ]
  },
  {
   "cell_type": "markdown",
   "id": "a3223fff",
   "metadata": {},
   "source": [
    "***Random forest RMSE by tuning parameters***"
   ]
  },
  {
   "cell_type": "code",
   "execution_count": 697,
   "id": "b11d8280",
   "metadata": {},
   "outputs": [
    {
     "data": {
      "text/html": [
       "<div>\n",
       "<style scoped>\n",
       "    .dataframe tbody tr th:only-of-type {\n",
       "        vertical-align: middle;\n",
       "    }\n",
       "\n",
       "    .dataframe tbody tr th {\n",
       "        vertical-align: top;\n",
       "    }\n",
       "\n",
       "    .dataframe thead th {\n",
       "        text-align: right;\n",
       "    }\n",
       "</style>\n",
       "<table border=\"1\" class=\"dataframe\">\n",
       "  <thead>\n",
       "    <tr style=\"text-align: right;\">\n",
       "      <th>Variables</th>\n",
       "      <th>8</th>\n",
       "      <th>10</th>\n",
       "      <th>12</th>\n",
       "    </tr>\n",
       "    <tr>\n",
       "      <th>Min_nodes</th>\n",
       "      <th></th>\n",
       "      <th></th>\n",
       "      <th></th>\n",
       "    </tr>\n",
       "  </thead>\n",
       "  <tbody>\n",
       "    <tr>\n",
       "      <th>5</th>\n",
       "      <td>68.72</td>\n",
       "      <td>68.38</td>\n",
       "      <td>68.14</td>\n",
       "    </tr>\n",
       "    <tr>\n",
       "      <th>10</th>\n",
       "      <td>68.83</td>\n",
       "      <td>68.49</td>\n",
       "      <td>68.38</td>\n",
       "    </tr>\n",
       "    <tr>\n",
       "      <th>15</th>\n",
       "      <td>68.90</td>\n",
       "      <td>68.60</td>\n",
       "      <td>68.43</td>\n",
       "    </tr>\n",
       "  </tbody>\n",
       "</table>\n",
       "</div>"
      ],
      "text/plain": [
       "Variables     8      10     12\n",
       "Min_nodes                     \n",
       "5          68.72  68.38  68.14\n",
       "10         68.83  68.49  68.38\n",
       "15         68.90  68.60  68.43"
      ]
     },
     "execution_count": 697,
     "metadata": {},
     "output_type": "execute_result"
    }
   ],
   "source": [
    "pd.DataFrame(rf_model_2.cv_results_)[\n",
    "    [\"param_mtry\", \"param_min_node_size\", \"mean_test_score\"]\n",
    "].assign(\n",
    "    mean_test_score=lambda x: x[\"mean_test_score\"] * -1,\n",
    "    Variables=lambda x: x[\"param_mtry\"],\n",
    "    Min_nodes=lambda x: x[\"param_min_node_size\"],\n",
    ").pivot(\n",
    "    index=\"Min_nodes\", columns=\"Variables\", values=\"mean_test_score\"\n",
    ").round(\n",
    "    2\n",
    ")"
   ]
  },
  {
   "cell_type": "code",
   "execution_count": 698,
   "id": "04530906",
   "metadata": {},
   "outputs": [
    {
     "data": {
      "text/html": [
       "<div>\n",
       "<style scoped>\n",
       "    .dataframe tbody tr th:only-of-type {\n",
       "        vertical-align: middle;\n",
       "    }\n",
       "\n",
       "    .dataframe tbody tr th {\n",
       "        vertical-align: top;\n",
       "    }\n",
       "\n",
       "    .dataframe thead th {\n",
       "        text-align: right;\n",
       "    }\n",
       "</style>\n",
       "<table border=\"1\" class=\"dataframe\">\n",
       "  <thead>\n",
       "    <tr style=\"text-align: right;\">\n",
       "      <th></th>\n",
       "      <th>Min vars</th>\n",
       "      <th>Min nodes</th>\n",
       "    </tr>\n",
       "  </thead>\n",
       "  <tbody>\n",
       "    <tr>\n",
       "      <th>Model A</th>\n",
       "      <td>9</td>\n",
       "      <td>5</td>\n",
       "    </tr>\n",
       "    <tr>\n",
       "      <th>Model B</th>\n",
       "      <td>12</td>\n",
       "      <td>5</td>\n",
       "    </tr>\n",
       "  </tbody>\n",
       "</table>\n",
       "</div>"
      ],
      "text/plain": [
       "         Min vars  Min nodes\n",
       "Model A         9          5\n",
       "Model B        12          5"
      ]
     },
     "execution_count": 698,
     "metadata": {},
     "output_type": "execute_result"
    }
   ],
   "source": [
    "pd.DataFrame(\n",
    "    {\n",
    "        \"Min vars\": [rf_model_1.best_estimator_.mtry, rf_model_2.best_estimator_.mtry],\n",
    "        \"Min nodes\": [\n",
    "            rf_model_1.best_estimator_.min_node_size,\n",
    "            rf_model_2.best_estimator_.min_node_size,\n",
    "        ],\n",
    "    },\n",
    "    [\"Model A\", \"Model B\"],\n",
    ")"
   ]
  },
  {
   "cell_type": "code",
   "execution_count": 699,
   "id": "5675d760",
   "metadata": {},
   "outputs": [],
   "source": [
    "z2 = pd.DataFrame(\n",
    "    {\n",
    "        \"RMSE\": [\n",
    "            rf_model_1.cv_results_[\"mean_test_score\"].min(),\n",
    "            rf_model_2.cv_results_[\"mean_test_score\"].min(),\n",
    "        ]\n",
    "    },\n",
    "    [\"Model A\", \"Model B\"],\n",
    ").round(3) * -1"
   ]
  },
  {
   "cell_type": "code",
   "execution_count": 700,
   "id": "cb4b0a84",
   "metadata": {},
   "outputs": [
    {
     "name": "stdout",
     "output_type": "stream",
     "text": [
      "           RMSE\n",
      "Model A  71.013\n",
      "Model B  68.903\n"
     ]
    }
   ],
   "source": [
    "print(z2)\n",
    "z2.to_csv(\"../Output/bcn_rf.csv\")"
   ]
  },
  {
   "cell_type": "markdown",
   "id": "a534821e",
   "metadata": {},
   "source": [
    "***Model Diagonalstics***"
   ]
  },
  {
   "cell_type": "code",
   "execution_count": 701,
   "id": "f664b4fd",
   "metadata": {},
   "outputs": [
    {
     "data": {
      "text/plain": [
       "la Dreta de l'Eixample                          1133\n",
       "el Raval                                         817\n",
       "el Barri Gòtic                                   703\n",
       "Sant Pere, Santa Caterina i la Ribera            654\n",
       "la Sagrada Família                               593\n",
       "la Vila de Gràcia                                591\n",
       "l'Antiga Esquerra de l'Eixample                  557\n",
       "el Poble Sec                                     523\n",
       "Sant Antoni                                      488\n",
       "la Nova Esquerra de l'Eixample                   398\n",
       "el Fort Pienc                                    257\n",
       "la Barceloneta                                   255\n",
       "el Poblenou                                      244\n",
       "Sants                                            210\n",
       "el Camp d'en Grassot i Gràcia Nova               194\n",
       "Sant Gervasi - Galvany                           192\n",
       "el Camp de l'Arpa del Clot                       166\n",
       "Hostafrancs                                      147\n",
       "les Corts                                        124\n",
       "el Putxet i el Farró                             115\n",
       "el Parc i la Llacuna del Poblenou                114\n",
       "Sants - Badal                                    114\n",
       "el Baix Guinardó                                 106\n",
       "el Guinardó                                       98\n",
       "el Besòs i el Maresme                             86\n",
       "Diagonal Mar i el Front Marítim del Poblenou      79\n",
       "la Vila Olímpica del Poblenou                     73\n",
       "el Clot                                           72\n",
       "la Maternitat i Sant Ramon                        67\n",
       "la Font de la Guatlla                             61\n",
       "Vallcarca i els Penitents                         57\n",
       "la Bordeta                                        54\n",
       "Provençals del Poblenou                           46\n",
       "Sant Martí de Provençals                          46\n",
       "la Salut                                          44\n",
       "el Carmel                                         43\n",
       "Sant Andreu                                       39\n",
       "la Marina de Port                                 38\n",
       "la Sagrera                                        33\n",
       "Vilapicina i la Torre Llobeta                     33\n",
       "Navas                                             29\n",
       "la Verneda i la Pau                               28\n",
       "Porta                                             27\n",
       "Sant Gervasi - la Bonanova                        24\n",
       "el Coll                                           23\n",
       "Pedralbes                                         22\n",
       "les Tres Torres                                   21\n",
       "el Turó de la Peira                               21\n",
       "el Congrés i els Indians                          19\n",
       "Can Baró                                          17\n",
       "Sarrià                                            16\n",
       "la Prosperitat                                    16\n",
       "Verdun                                            15\n",
       "les Roquetes                                      15\n",
       "el Bon Pastor                                     14\n",
       "Sant Genís dels Agudells                          13\n",
       "Horta                                             13\n",
       "la Teixonera                                      12\n",
       "Montbau                                            8\n",
       "la Guineueta                                       8\n",
       "la Trinitat Vella                                  8\n",
       "Vallvidrera, el Tibidabo i les Planes              7\n",
       "la Trinitat Nova                                   7\n",
       "la Font d'en Fargues                               6\n",
       "la Vall d'Hebron                                   5\n",
       "Ciutat Meridiana                                   3\n",
       "Can Peguera                                        1\n",
       "Baró de Viver                                      1\n",
       "Torre Baró                                         1\n",
       "la Clota                                           1\n",
       "Canyelles                                          0\n",
       "la Marina del Prat Vermell                         0\n",
       "Name: f_neighbourhood_cleansed, dtype: int64"
      ]
     },
     "execution_count": 701,
     "metadata": {},
     "output_type": "execute_result"
    }
   ],
   "source": [
    "data_train_set.f_neighbourhood_cleansed.value_counts()"
   ]
  },
  {
   "cell_type": "code",
   "execution_count": 702,
   "id": "14ca6114",
   "metadata": {},
   "outputs": [
    {
     "name": "stderr",
     "output_type": "stream",
     "text": [
      "/var/folders/lq/10gdfgyj495gwt01brtf67740000gn/T/ipykernel_71348/3817843367.py:3: SettingWithCopyWarning: \n",
      "A value is trying to be set on a copy of a slice from a DataFrame.\n",
      "Try using .loc[row_indexer,col_indexer] = value instead\n",
      "\n",
      "See the caveats in the documentation: https://pandas.pydata.org/pandas-docs/stable/user_guide/indexing.html#returning-a-view-versus-a-copy\n"
     ]
    }
   ],
   "source": [
    "filt=list(data_train_set.f_neighbourhood_cleansed.value_counts()[1:11].index)\n",
    "~data_train_set.f_neighbourhood_cleansed.isin(filt)\n",
    "data_train_set[\"f_nbh\"] = data_train_set.f_neighbourhood_cleansed.apply(lambda x: np.where(x in filt,x,'Other'))"
   ]
  },
  {
   "cell_type": "code",
   "execution_count": 703,
   "id": "7786b371",
   "metadata": {},
   "outputs": [],
   "source": [
    "rf_model_2_var_imp_df = (\n",
    "    pd.DataFrame(\n",
    "        rf_model_2.best_estimator_.feature_importances_, X.design_info.column_names\n",
    "    )\n",
    "    .reset_index()\n",
    "    .rename({\"index\": \"varname\",0: \"imp\"}, axis=1)\n",
    "    .assign(imp_percentage=lambda x: x[\"imp\"] / x[\"imp\"].sum())\n",
    "    .sort_values(by=[\"imp\"], ascending=False)\n",
    ")"
   ]
  },
  {
   "cell_type": "code",
   "execution_count": 726,
   "id": "be0ec923",
   "metadata": {},
   "outputs": [
    {
     "data": {
      "image/png": "[encoded data removed]",
      "text/plain": [
       "<Figure size 640x480 with 1 Axes>"
      ]
     },
     "metadata": {},
     "output_type": "display_data"
    },
    {
     "data": {
      "text/plain": [
       "<ggplot: (8766066135739)>"
      ]
     },
     "execution_count": 726,
     "metadata": {},
     "output_type": "execute_result"
    }
   ],
   "source": [
    "cutoff = 600000\n",
    "\n",
    "P1 = ggplot(\n",
    "    rf_model_2_var_imp_df.loc[lambda x: x.imp > cutoff],\n",
    "    aes(x=\"reorder(varname, imp)\", y=\"imp_percentage\"),\n",
    ") + geom_point(color=color[0], size=1.5) + geom_segment(\n",
    "    aes(x=\"varname\", xend=\"varname\", y=0, yend=\"imp_percentage\"), color=color[0], size=1\n",
    ") + ylab(\n",
    "    \"Importance (Percent)\"\n",
    ") + xlab(\n",
    "    \"Variable Name\"\n",
    ") + coord_flip() + scale_y_continuous(\n",
    "    labels=percent_format()\n",
    ") + theme_bw()\n",
    "P1"
   ]
  },
  {
   "cell_type": "code",
   "execution_count": 729,
   "id": "74df8e0a",
   "metadata": {},
   "outputs": [
    {
     "name": "stderr",
     "output_type": "stream",
     "text": [
      "/Users/chenche/miniconda3/lib/python3.8/site-packages/plotnine/ggplot.py:719: PlotnineWarning: Saving 6.4 x 4.8 in image.\n",
      "/Users/chenche/miniconda3/lib/python3.8/site-packages/plotnine/ggplot.py:722: PlotnineWarning: Filename: ../Output/Figure1_A2.png\n"
     ]
    }
   ],
   "source": [
    "ggsave(plot = P1, filename=\"Figure1_A2.png\", path = \"../Output/\")"
   ]
  },
  {
   "cell_type": "code",
   "execution_count": 731,
   "id": "05035149",
   "metadata": {},
   "outputs": [
    {
     "data": {
      "image/png": "[encoded data removed]",
      "text/plain": [
       "<Figure size 640x480 with 1 Axes>"
      ]
     },
     "metadata": {},
     "output_type": "display_data"
    },
    {
     "data": {
      "text/plain": [
       "<ggplot: (8765961422894)>"
      ]
     },
     "execution_count": 731,
     "metadata": {},
     "output_type": "execute_result"
    }
   ],
   "source": [
    "P2 = ggplot(\n",
    "    rf_model_2_var_imp_df.iloc[:10, :],\n",
    "    aes(x=\"reorder(varname, imp)\", y=\"imp_percentage\"),\n",
    ") + geom_point(color=color[0], size=1.5) + geom_segment(\n",
    "    aes(x=\"varname\", xend=\"varname\", y=0, yend=\"imp_percentage\"), color=color[0], size=1\n",
    ") + ylab(\n",
    "    \"Importance (Percent)\"\n",
    ") + xlab(\n",
    "    \"Variable Name\"\n",
    ") + coord_flip() + scale_y_continuous(\n",
    "    labels=percent_format()\n",
    ") + theme_bw()\n",
    "P2"
   ]
  },
  {
   "cell_type": "code",
   "execution_count": 732,
   "id": "331e5835",
   "metadata": {},
   "outputs": [
    {
     "name": "stderr",
     "output_type": "stream",
     "text": [
      "/Users/chenche/miniconda3/lib/python3.8/site-packages/plotnine/ggplot.py:719: PlotnineWarning: Saving 6.4 x 4.8 in image.\n",
      "/Users/chenche/miniconda3/lib/python3.8/site-packages/plotnine/ggplot.py:722: PlotnineWarning: Filename: ../Output/Figure2_A2.png\n"
     ]
    }
   ],
   "source": [
    "ggsave(plot = P2, filename=\"Figure2_A2.png\", path = \"../Output/\")"
   ]
  },
  {
   "cell_type": "code",
   "execution_count": 706,
   "id": "389ba4f7",
   "metadata": {},
   "outputs": [],
   "source": [
    "categorical_columns = [col for col in Predictors_2 if col.startswith(\"f_\")]\n",
    "numerical_columns = [col for col in Predictors_2 if col not in categorical_columns]"
   ]
  },
  {
   "cell_type": "code",
   "execution_count": 707,
   "id": "446bbd7f",
   "metadata": {},
   "outputs": [],
   "source": [
    "categorical_columns.remove('f_neighbourhood_cleansed')"
   ]
  },
  {
   "cell_type": "code",
   "execution_count": 708,
   "id": "8af42d38",
   "metadata": {},
   "outputs": [],
   "source": [
    "categorical_columns.append('f_nbh')"
   ]
  },
  {
   "cell_type": "code",
   "execution_count": 709,
   "id": "e54951f1",
   "metadata": {},
   "outputs": [
    {
     "data": {
      "text/plain": [
       "['f_property_type', 'f_room_type', 'f_bathrooms', 'f_nbh']"
      ]
     },
     "execution_count": 709,
     "metadata": {},
     "output_type": "execute_result"
    }
   ],
   "source": [
    "categorical_columns"
   ]
  },
  {
   "cell_type": "code",
   "execution_count": 710,
   "id": "eb39fbb3",
   "metadata": {},
   "outputs": [],
   "source": [
    "preprocessing = ColumnTransformer(\n",
    "    [\n",
    "        (\"cat\", categorical_encoder, categorical_columns),\n",
    "        (\"num\", \"passthrough\", numerical_columns),\n",
    "    ]\n",
    ")\n",
    "\n",
    "rf = Pipeline(\n",
    "    [(\"preprocess\", preprocessing), (\"regressor\", rf_model_2.best_estimator_)]\n",
    ")"
   ]
  },
  {
   "cell_type": "code",
   "execution_count": 711,
   "id": "01a7b9cc",
   "metadata": {},
   "outputs": [],
   "source": [
    "Predictors_2.remove('f_neighbourhood_cleansed')\n",
    "Predictors_2.append('f_nbh')"
   ]
  },
  {
   "cell_type": "code",
   "execution_count": 712,
   "id": "7d242082",
   "metadata": {},
   "outputs": [
    {
     "data": {
      "text/plain": [
       "Pipeline(steps=[('preprocess',\n",
       "                 ColumnTransformer(transformers=[('cat',\n",
       "                                                  OneHotEncoder(handle_unknown='ignore'),\n",
       "                                                  ['f_property_type',\n",
       "                                                   'f_room_type', 'f_bathrooms',\n",
       "                                                   'f_nbh']),\n",
       "                                                 ('num', 'passthrough',\n",
       "                                                  ['n_accommodates', 'n_beds',\n",
       "                                                   'n_bedrooms', 'n_days_since',\n",
       "                                                   'n_number_of_reviews',\n",
       "                                                   'flag_n_number_of_reviews',\n",
       "                                                   'n_review_scores_rating',\n",
       "                                                   'flag_review_scores_rating',\n",
       "                                                   'd_host_is_superhost',\n",
       "                                                   'd_host_has_profile_pic',\n",
       "                                                   'd_host_identity_verified',\n",
       "                                                   'd_has_availability',\n",
       "                                                   'd_instant_bookable'])])),\n",
       "                ('regressor',\n",
       "                 RangerForestRegressor(importance='impurity', min_node_size=5,\n",
       "                                       mtry=12))])"
      ]
     },
     "execution_count": 712,
     "metadata": {},
     "output_type": "execute_result"
    }
   ],
   "source": [
    "rf.fit(data_train_set[Predictors_2],data_train_set['price'])"
   ]
  },
  {
   "cell_type": "code",
   "execution_count": 713,
   "id": "c311f858",
   "metadata": {},
   "outputs": [],
   "source": [
    "result = permutation_importance(\n",
    "    rf,\n",
    "    data_train_set[Predictors_2],\n",
    "    data_train_set['price'],\n",
    "    n_repeats=10,\n",
    "    random_state=45,\n",
    ")"
   ]
  },
  {
   "cell_type": "code",
   "execution_count": 714,
   "id": "4b426bd3",
   "metadata": {},
   "outputs": [],
   "source": [
    "grouped = [\n",
    "    \"f_property_type\",\n",
    "    \"f_room_type\",\n",
    "    \"f_bathrooms\",\n",
    "    \"f_nbh\",\n",
    "    \"n_days_since\",\n",
    "    \"n_accommodates\",\n",
    "    \"n_beds\",\n",
    "    \"n_bedrooms\"\n",
    "]\n",
    "grouped_imp = (\n",
    "    pd.DataFrame(\n",
    "        result.importances_mean,\n",
    "        data_train_set[Predictors_2].columns,\n",
    "    )\n",
    "    .loc[grouped]\n",
    "    .reset_index()\n",
    "    .rename({\"index\": \"varname\", 0: \"imp\"}, axis=1)\n",
    "    .assign(imp_percentage=lambda x: x[\"imp\"] / x[\"imp\"].sum())\n",
    "    .sort_values(by=[\"imp\"], ascending=False)\n",
    ")"
   ]
  },
  {
   "cell_type": "code",
   "execution_count": 733,
   "id": "0eea9a72",
   "metadata": {},
   "outputs": [
    {
     "data": {
      "image/png": "[encoded data removed]",
      "text/plain": [
       "<Figure size 640x480 with 1 Axes>"
      ]
     },
     "metadata": {},
     "output_type": "display_data"
    },
    {
     "data": {
      "text/plain": [
       "<ggplot: (8765913392125)>"
      ]
     },
     "execution_count": 733,
     "metadata": {},
     "output_type": "execute_result"
    }
   ],
   "source": [
    "P3 = ggplot(grouped_imp, aes(x=\"reorder(varname, imp)\", y=\"imp_percentage\"),) + geom_point(\n",
    "    color=color[0], size=1.5\n",
    ") + geom_segment(\n",
    "    aes(x=\"varname\", xend=\"varname\", y=0, yend=\"imp_percentage\"), color=color[0], size=1\n",
    ") + ylab(\n",
    "    \"Importance (Percent)\"\n",
    ") + xlab(\n",
    "    \"Variable Name\"\n",
    ") + coord_flip() + scale_y_continuous(\n",
    "    labels=percent_format()\n",
    ") + theme_bw()\n",
    "P3"
   ]
  },
  {
   "cell_type": "code",
   "execution_count": 734,
   "id": "5708acf7",
   "metadata": {},
   "outputs": [
    {
     "name": "stderr",
     "output_type": "stream",
     "text": [
      "/Users/chenche/miniconda3/lib/python3.8/site-packages/plotnine/ggplot.py:719: PlotnineWarning: Saving 6.4 x 4.8 in image.\n",
      "/Users/chenche/miniconda3/lib/python3.8/site-packages/plotnine/ggplot.py:722: PlotnineWarning: Filename: ../Output/Figure3_A2.png\n"
     ]
    }
   ],
   "source": [
    "ggsave(plot = P3, filename=\"Figure3_A2.png\", path = \"../Output/\")"
   ]
  },
  {
   "cell_type": "markdown",
   "id": "f6fa2519",
   "metadata": {},
   "source": [
    "***Partial dependence plots***"
   ]
  },
  {
   "cell_type": "code",
   "execution_count": 716,
   "id": "d225e23e",
   "metadata": {},
   "outputs": [
    {
     "name": "stderr",
     "output_type": "stream",
     "text": [
      "/var/folders/lq/10gdfgyj495gwt01brtf67740000gn/T/ipykernel_71348/3059721298.py:2: SettingWithCopyWarning: \n",
      "A value is trying to be set on a copy of a slice from a DataFrame.\n",
      "Try using .loc[row_indexer,col_indexer] = value instead\n",
      "\n",
      "See the caveats in the documentation: https://pandas.pydata.org/pandas-docs/stable/user_guide/indexing.html#returning-a-view-versus-a-copy\n"
     ]
    }
   ],
   "source": [
    "data_holdout_set.drop('f_neighbourhood_cleansed', axis = 1)\n",
    "data_holdout_set[\"f_nbh\"]=data_holdout_set.f_neighbourhood_cleansed.apply(lambda x: np.where(x in filt,x,'Other'))"
   ]
  },
  {
   "cell_type": "code",
   "execution_count": 738,
   "id": "451b30cf",
   "metadata": {},
   "outputs": [
    {
     "data": {
      "image/png": "[encoded data removed]",
      "text/plain": [
       "<Figure size 432x288 with 2 Axes>"
      ]
     },
     "metadata": {
      "needs_background": "light"
     },
     "output_type": "display_data"
    }
   ],
   "source": [
    "plot_partial_dependence(\n",
    "    rf,\n",
    "    data_holdout_set[Predictors_2],\n",
    "    [\"n_accommodates\"],\n",
    "    feature_names = data_holdout_set[Predictors_2].columns,\n",
    "    line_kw={\"marker\": \"o\", \"color\": color[0]},\n",
    ")\n",
    "plt.grid()\n",
    "plt.ylim(70, 130)\n",
    "plt.show()"
   ]
  },
  {
   "cell_type": "code",
   "execution_count": 739,
   "id": "094cc927",
   "metadata": {},
   "outputs": [
    {
     "data": {
      "image/png": "[encoded data removed]",
      "text/plain": [
       "<Figure size 640x480 with 1 Axes>"
      ]
     },
     "metadata": {},
     "output_type": "display_data"
    },
    {
     "data": {
      "text/plain": [
       "<ggplot: (8765929449198)>"
      ]
     },
     "execution_count": 739,
     "metadata": {},
     "output_type": "execute_result"
    }
   ],
   "source": [
    "accom_pdp = partial_dependence(\n",
    "    rf, data_holdout_set[Predictors_2], [\"n_accommodates\"], kind=\"average\"\n",
    ")\n",
    "\n",
    "accom_pdp = (\n",
    "    pd.DataFrame(accom_pdp[\"average\"], columns=accom_pdp[\"values\"][0].tolist())\n",
    "    .T.reset_index()\n",
    "    .rename({0: \"Predicted price\", \"index\": \"Accomodates (person)\"}, axis=1)\n",
    ")\n",
    "\n",
    "ggplot(accom_pdp, aes(x=\"Accomodates (person)\", y=\"Predicted price\")) + geom_point(\n",
    "    color=color[0], size=2\n",
    ") + geom_line(color=color[0], size=1) + ylim(60, 120) + scale_x_continuous(\n",
    "    breaks=range(1, 8)\n",
    ") + theme_bw()"
   ]
  },
  {
   "cell_type": "code",
   "execution_count": 740,
   "id": "b19cde64",
   "metadata": {},
   "outputs": [
    {
     "data": {
      "image/png": "[encoded data removed]",
      "text/plain": [
       "<Figure size 640x480 with 1 Axes>"
      ]
     },
     "metadata": {},
     "output_type": "display_data"
    },
    {
     "data": {
      "text/plain": [
       "<ggplot: (8766084394478)>"
      ]
     },
     "execution_count": 740,
     "metadata": {},
     "output_type": "execute_result"
    }
   ],
   "source": [
    "roomtype_pdp = partial_dependence(\n",
    "    rf, data_holdout_set[Predictors_2], [\"f_room_type\"], kind=\"average\"\n",
    ")\n",
    "\n",
    "roomtype_pdp = (\n",
    "    pd.DataFrame(roomtype_pdp[\"average\"], columns=roomtype_pdp[\"values\"][0].tolist())\n",
    "    .T.reset_index()\n",
    "    .rename({0: \"Predicted price\", \"index\": \"Room type\"}, axis=1)\n",
    ")\n",
    "\n",
    "ggplot(roomtype_pdp, aes(x=\"Room type\", y=\"Predicted price\")) + geom_point(\n",
    "    color=color[0]\n",
    ") + ylim(60, 120) + theme_bw()"
   ]
  },
  {
   "cell_type": "markdown",
   "id": "c6464c3c",
   "metadata": {},
   "source": [
    "***CART model***"
   ]
  },
  {
   "cell_type": "code",
   "execution_count": 720,
   "id": "48dfd378",
   "metadata": {},
   "outputs": [],
   "source": [
    "y, X = dmatrices(\"price ~ \" + \" + \".join(Predictors_2), data_train_set)"
   ]
  },
  {
   "cell_type": "code",
   "execution_count": 721,
   "id": "f8614824",
   "metadata": {},
   "outputs": [],
   "source": [
    "CART_model = DecisionTreeClassifier(random_state = 2021, criterion = \"gini\")"
   ]
  },
  {
   "cell_type": "markdown",
   "id": "aed124d2",
   "metadata": {},
   "source": [
    "*Get potential ccp_alpha parameters*"
   ]
  },
  {
   "cell_type": "code",
   "execution_count": 722,
   "id": "9e16b39c",
   "metadata": {},
   "outputs": [],
   "source": [
    "path = CART_model.cost_complexity_pruning_path(X, y.ravel())\n",
    "ccp_alphas, impurities = path.ccp_alphas, path.impurities"
   ]
  },
  {
   "cell_type": "markdown",
   "id": "739a11a6",
   "metadata": {},
   "source": [
    "*Apply random search to select a \"best\" alpha*"
   ]
  },
  {
   "cell_type": "code",
   "execution_count": 723,
   "id": "b5f5e9b9",
   "metadata": {},
   "outputs": [
    {
     "name": "stdout",
     "output_type": "stream",
     "text": [
      "Fitting 5 folds for each of 10 candidates, totalling 50 fits\n"
     ]
    },
    {
     "name": "stderr",
     "output_type": "stream",
     "text": [
      "/Users/chenche/miniconda3/lib/python3.8/site-packages/sklearn/model_selection/_split.py:666: UserWarning: The least populated class in y has only 1 members, which is less than n_splits=5.\n"
     ]
    },
    {
     "name": "stdout",
     "output_type": "stream",
     "text": [
      "[CV 1/5] END .ccp_alpha=9.935419771485345e-05;, score=-88.417 total time=   0.2s\n",
      "[CV 2/5] END .ccp_alpha=9.935419771485345e-05;, score=-90.716 total time=   0.2s\n",
      "[CV 3/5] END .ccp_alpha=9.935419771485345e-05;, score=-83.001 total time=   0.2s\n",
      "[CV 4/5] END .ccp_alpha=9.935419771485345e-05;, score=-89.008 total time=   0.2s\n",
      "[CV 5/5] END .ccp_alpha=9.935419771485345e-05;, score=-82.979 total time=   0.2s\n",
      "[CV 1/5] END ccp_alpha=0.00011318275182942063;, score=-88.383 total time=   0.2s\n",
      "[CV 2/5] END ccp_alpha=0.00011318275182942063;, score=-90.623 total time=   0.2s\n",
      "[CV 3/5] END ccp_alpha=0.00011318275182942063;, score=-83.059 total time=   0.2s\n",
      "[CV 4/5] END ccp_alpha=0.00011318275182942063;, score=-88.933 total time=   0.2s\n",
      "[CV 5/5] END ccp_alpha=0.00011318275182942063;, score=-83.086 total time=   0.2s\n",
      "[CV 1/5] END .ccp_alpha=9.935419771485345e-05;, score=-88.417 total time=   0.2s\n",
      "[CV 2/5] END .ccp_alpha=9.935419771485345e-05;, score=-90.716 total time=   0.2s\n",
      "[CV 3/5] END .ccp_alpha=9.935419771485345e-05;, score=-83.001 total time=   0.2s\n",
      "[CV 4/5] END .ccp_alpha=9.935419771485345e-05;, score=-89.008 total time=   0.2s\n",
      "[CV 5/5] END .ccp_alpha=9.935419771485345e-05;, score=-82.979 total time=   0.2s\n",
      "[CV 1/5] END .ccp_alpha=9.935419771485345e-05;, score=-88.417 total time=   0.2s\n",
      "[CV 2/5] END .ccp_alpha=9.935419771485345e-05;, score=-90.716 total time=   0.2s\n",
      "[CV 3/5] END .ccp_alpha=9.935419771485345e-05;, score=-83.001 total time=   0.2s\n",
      "[CV 4/5] END .ccp_alpha=9.935419771485345e-05;, score=-89.008 total time=   0.2s\n",
      "[CV 5/5] END .ccp_alpha=9.935419771485345e-05;, score=-82.979 total time=   0.2s\n",
      "[CV 1/5] END .ccp_alpha=9.935419771485345e-05;, score=-88.417 total time=   0.2s\n",
      "[CV 2/5] END .ccp_alpha=9.935419771485345e-05;, score=-90.716 total time=   0.2s\n",
      "[CV 3/5] END .ccp_alpha=9.935419771485345e-05;, score=-83.001 total time=   0.2s\n",
      "[CV 4/5] END .ccp_alpha=9.935419771485345e-05;, score=-89.008 total time=   0.2s\n",
      "[CV 5/5] END .ccp_alpha=9.935419771485345e-05;, score=-82.979 total time=   0.2s\n",
      "[CV 1/5] END ..ccp_alpha=6.62361318099023e-05;, score=-88.420 total time=   0.2s\n",
      "[CV 2/5] END ..ccp_alpha=6.62361318099023e-05;, score=-90.935 total time=   0.2s\n",
      "[CV 3/5] END ..ccp_alpha=6.62361318099023e-05;, score=-82.838 total time=   0.2s\n",
      "[CV 4/5] END ..ccp_alpha=6.62361318099023e-05;, score=-89.663 total time=   0.2s\n",
      "[CV 5/5] END ..ccp_alpha=6.62361318099023e-05;, score=-82.743 total time=   0.2s\n",
      "[CV 1/5] END ccp_alpha=0.00010834746561145657;, score=-88.438 total time=   0.2s\n",
      "[CV 2/5] END ccp_alpha=0.00010834746561145657;, score=-90.628 total time=   0.2s\n",
      "[CV 3/5] END ccp_alpha=0.00010834746561145657;, score=-83.028 total time=   0.2s\n",
      "[CV 4/5] END ccp_alpha=0.00010834746561145657;, score=-88.931 total time=   0.2s\n",
      "[CV 5/5] END ccp_alpha=0.00010834746561145657;, score=-82.999 total time=   0.2s\n",
      "[CV 1/5] END .ccp_alpha=9.935419771485345e-05;, score=-88.417 total time=   0.2s\n",
      "[CV 2/5] END .ccp_alpha=9.935419771485345e-05;, score=-90.716 total time=   0.2s\n",
      "[CV 3/5] END .ccp_alpha=9.935419771485345e-05;, score=-83.001 total time=   0.2s\n",
      "[CV 4/5] END .ccp_alpha=9.935419771485345e-05;, score=-89.008 total time=   0.2s\n",
      "[CV 5/5] END .ccp_alpha=9.935419771485345e-05;, score=-82.979 total time=   0.2s\n",
      "[CV 1/5] END .ccp_alpha=0.0001379919412706298;, score=-83.069 total time=   0.2s\n",
      "[CV 2/5] END .ccp_alpha=0.0001379919412706298;, score=-93.479 total time=   0.2s\n",
      "[CV 3/5] END .ccp_alpha=0.0001379919412706298;, score=-83.795 total time=   0.2s\n",
      "[CV 4/5] END .ccp_alpha=0.0001379919412706298;, score=-86.808 total time=   0.2s\n",
      "[CV 5/5] END .ccp_alpha=0.0001379919412706298;, score=-78.696 total time=   0.2s\n",
      "[CV 1/5] END .ccp_alpha=9.935419771485345e-05;, score=-88.417 total time=   0.2s\n",
      "[CV 2/5] END .ccp_alpha=9.935419771485345e-05;, score=-90.716 total time=   0.2s\n",
      "[CV 3/5] END .ccp_alpha=9.935419771485345e-05;, score=-83.001 total time=   0.2s\n",
      "[CV 4/5] END .ccp_alpha=9.935419771485345e-05;, score=-89.008 total time=   0.2s\n",
      "[CV 5/5] END .ccp_alpha=9.935419771485345e-05;, score=-82.979 total time=   0.2s\n"
     ]
    },
    {
     "data": {
      "text/plain": [
       "RandomizedSearchCV(cv=5, estimator=DecisionTreeClassifier(random_state=2021),\n",
       "                   param_distributions={'ccp_alpha': array([0.00000000e+00, 6.62361318e-06, 6.62361318e-06, ...,\n",
       "       1.57911547e-03, 1.82409218e-03, 4.08957529e-03])},\n",
       "                   scoring='neg_root_mean_squared_error', verbose=3)"
      ]
     },
     "execution_count": 723,
     "metadata": {},
     "output_type": "execute_result"
    }
   ],
   "source": [
    "CART_model_cv = RandomizedSearchCV(\n",
    "    CART_model,\n",
    "    {\"ccp_alpha\":ccp_alphas},\n",
    "    cv = 5,\n",
    "    scoring = \"neg_root_mean_squared_error\",\n",
    "    verbose = 3,\n",
    ")\n",
    "\n",
    "\n",
    "CART_model_cv.fit(X,y.ravel())"
   ]
  },
  {
   "cell_type": "code",
   "execution_count": 724,
   "id": "8341a10f",
   "metadata": {},
   "outputs": [
    {
     "data": {
      "text/plain": [
       "85.16927596361315"
      ]
     },
     "execution_count": 724,
     "metadata": {},
     "output_type": "execute_result"
    }
   ],
   "source": [
    "CART_rmse = pd.DataFrame(CART_model_cv.cv_results_).loc[\n",
    "    lambda x: x.param_ccp_alpha == CART_model_cv.best_estimator_.ccp_alpha\n",
    "].mean_test_score.values[0] * -1\n",
    "CART_rmse"
   ]
  },
  {
   "cell_type": "code",
   "execution_count": 725,
   "id": "d4b5df79",
   "metadata": {},
   "outputs": [],
   "source": [
    "np.save(\"../Output/bcn_CART.npy\", CART_rmse)"
   ]
  }
 ],
 "metadata": {
  "kernelspec": {
   "display_name": "Python 3 (ipykernel)",
   "language": "python",
   "name": "python3"
  },
  "language_info": {
   "codemirror_mode": {
    "name": "ipython",
    "version": 3
   },
   "file_extension": ".py",
   "mimetype": "text/x-python",
   "name": "python",
   "nbconvert_exporter": "python",
   "pygments_lexer": "ipython3",
   "version": "3.8.3"
  }
 },
 "nbformat": 4,
 "nbformat_minor": 5
}
