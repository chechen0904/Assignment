{
 "cells": [
  {
   "cell_type": "code",
   "execution_count": 1,
   "id": "3c39e1d6",
   "metadata": {},
   "outputs": [],
   "source": [
    "import numpy as np\n",
    "import pandas as pd"
   ]
  },
  {
   "cell_type": "markdown",
   "id": "a9aecf44",
   "metadata": {},
   "source": [
    "***The dataset***\n",
    "\n",
    "*Read .csv files and import data*"
   ]
  },
  {
   "cell_type": "code",
   "execution_count": 36,
   "id": "3dc5818d",
   "metadata": {},
   "outputs": [],
   "source": [
    "Data = pd.read_csv('../Data/morg-2014-emp.csv')"
   ]
  },
  {
   "cell_type": "code",
   "execution_count": 3,
   "id": "da11bcf8",
   "metadata": {},
   "outputs": [
    {
     "data": {
      "text/plain": [
       "149316"
      ]
     },
     "execution_count": 3,
     "metadata": {},
     "output_type": "execute_result"
    }
   ],
   "source": [
    "len(Data)"
   ]
  },
  {
   "cell_type": "markdown",
   "id": "f7a67f39",
   "metadata": {},
   "source": [
    "*Pick an occupation and filter data accordingly, finally export the processed data to the 'Output' folder.\n",
    "I chose the occupation of teacher,thus data from other occupations will be excluded from the sample.*"
   ]
  },
  {
   "cell_type": "code",
   "execution_count": 4,
   "id": "4457bff9",
   "metadata": {},
   "outputs": [],
   "source": [
    "Data.loc[((Data[\"occ2012\"] >= 2200) & (Data[\"occ2012\"] <= 2340)), \"sample\"] = 1\n",
    "Data.loc[Data[\"sample\"].isna(), \"sample\"] = 0"
   ]
  },
  {
   "cell_type": "code",
   "execution_count": 5,
   "id": "deb541be",
   "metadata": {},
   "outputs": [],
   "source": [
    "Data = Data.loc[(Data[\"sample\"] == 1)].reset_index(drop=True)"
   ]
  },
  {
   "cell_type": "code",
   "execution_count": 6,
   "id": "e258f20f",
   "metadata": {},
   "outputs": [
    {
     "data": {
      "text/plain": [
       "1.0    8278\n",
       "Name: sample, dtype: int64"
      ]
     },
     "execution_count": 6,
     "metadata": {},
     "output_type": "execute_result"
    }
   ],
   "source": [
    "Data[\"sample\"].value_counts()"
   ]
  },
  {
   "cell_type": "code",
   "execution_count": 7,
   "id": "fde565fd",
   "metadata": {},
   "outputs": [],
   "source": [
    "Data = Data.query(\"uhours>=20 & earnwke>0 & age>=24 & age<=64 & grade92>=44\")"
   ]
  },
  {
   "cell_type": "code",
   "execution_count": 8,
   "id": "270e1a46",
   "metadata": {},
   "outputs": [],
   "source": [
    "Data[\"female\"] = (Data.sex == 2).astype(int)\n",
    "Data[\"earnph\"] = Data[\"earnwke\"] / Data[\"uhours\"]\n",
    "Data[\"agesq\"] = np.power(Data[\"age\"], 2)"
   ]
  },
  {
   "cell_type": "code",
   "execution_count": 9,
   "id": "56f89893",
   "metadata": {},
   "outputs": [],
   "source": [
    "i = 1\n",
    "Data = Data.loc[Data[\"sample\"] == i, :].reset_index(drop=True)\n",
    "Data.to_csv('../Output/Processed_earnings_data.csv', index=False)"
   ]
  },
  {
   "cell_type": "markdown",
   "id": "678cc490",
   "metadata": {},
   "source": [
    "*Check and manage missing variables*"
   ]
  },
  {
   "cell_type": "code",
   "execution_count": 10,
   "id": "fb7c94b2",
   "metadata": {},
   "outputs": [
    {
     "data": {
      "text/plain": [
       "Index(['ethnic', 'unioncov'], dtype='object')"
      ]
     },
     "execution_count": 10,
     "metadata": {},
     "output_type": "execute_result"
    }
   ],
   "source": [
    "whether_missing = Data.isna().sum()\n",
    "whether_missing[whether_missing > 0].index"
   ]
  },
  {
   "cell_type": "code",
   "execution_count": 11,
   "id": "df9bba4e",
   "metadata": {},
   "outputs": [],
   "source": [
    "Data[\"ethnic\"] = Data[\"ethnic\"].fillna(\"Missing\")\n",
    "Data[\"unioncov\"] = Data[\"unioncov\"].fillna(\"Missing\")"
   ]
  },
  {
   "cell_type": "markdown",
   "id": "d91d4977",
   "metadata": {},
   "source": [
    "***Linear regressions***"
   ]
  },
  {
   "cell_type": "code",
   "execution_count": 12,
   "id": "49753b25",
   "metadata": {},
   "outputs": [],
   "source": [
    "import statsmodels.api as sm\n",
    "import statsmodels.formula.api as smf"
   ]
  },
  {
   "cell_type": "markdown",
   "id": "ea2c5beb",
   "metadata": {},
   "source": [
    "*Data generation*"
   ]
  },
  {
   "cell_type": "code",
   "execution_count": 13,
   "id": "d1c8bdab",
   "metadata": {},
   "outputs": [],
   "source": [
    "Data[\"race_white\"] = np.where(Data[\"race\"] == \"1\", 1, 0)\n",
    "Data[\"married\"] = np.where((Data[\"marital\"] == \"1\") | (Data[\"marital\"] == \"2\"), 1, 0)\n",
    "Data[\"notnative\"] = np.where((Data[\"prcitshp\"] == \"Foreign Born, US Cit By Naturalization\") | (Data[\"prcitshp\"] == \"Foreign Born, Not a US Citizen\"), 1, 0)\n",
    "Data['education_years'] = np.select([Data['grade92'] == 44,\n",
    "                                     Data['grade92'] == 45,\n",
    "                                     Data['grade92'] == 46,\n",
    "                                    ],[21, 21, 24], default=np.nan)"
   ]
  },
  {
   "cell_type": "code",
   "execution_count": 14,
   "id": "3065b9a6",
   "metadata": {},
   "outputs": [
    {
     "data": {
      "text/html": [
       "<div>\n",
       "<style scoped>\n",
       "    .dataframe tbody tr th:only-of-type {\n",
       "        vertical-align: middle;\n",
       "    }\n",
       "\n",
       "    .dataframe tbody tr th {\n",
       "        vertical-align: top;\n",
       "    }\n",
       "\n",
       "    .dataframe thead th {\n",
       "        text-align: right;\n",
       "    }\n",
       "</style>\n",
       "<table border=\"1\" class=\"dataframe\">\n",
       "  <thead>\n",
       "    <tr style=\"text-align: right;\">\n",
       "      <th></th>\n",
       "      <th>Unnamed: 0</th>\n",
       "      <th>hhid</th>\n",
       "      <th>weight</th>\n",
       "      <th>earnwke</th>\n",
       "      <th>uhours</th>\n",
       "      <th>grade92</th>\n",
       "      <th>race</th>\n",
       "      <th>age</th>\n",
       "      <th>sex</th>\n",
       "      <th>marital</th>\n",
       "      <th>...</th>\n",
       "      <th>chldpres</th>\n",
       "      <th>occ2012</th>\n",
       "      <th>sample</th>\n",
       "      <th>female</th>\n",
       "      <th>earnph</th>\n",
       "      <th>agesq</th>\n",
       "      <th>race_white</th>\n",
       "      <th>married</th>\n",
       "      <th>notnative</th>\n",
       "      <th>education_years</th>\n",
       "    </tr>\n",
       "  </thead>\n",
       "  <tbody>\n",
       "    <tr>\n",
       "      <th>count</th>\n",
       "      <td>3924.000000</td>\n",
       "      <td>3.924000e+03</td>\n",
       "      <td>3924.000000</td>\n",
       "      <td>3924.000000</td>\n",
       "      <td>3924.000000</td>\n",
       "      <td>3924.000000</td>\n",
       "      <td>3924.000000</td>\n",
       "      <td>3924.000000</td>\n",
       "      <td>3924.000000</td>\n",
       "      <td>3924.000000</td>\n",
       "      <td>...</td>\n",
       "      <td>3924.000000</td>\n",
       "      <td>3924.000000</td>\n",
       "      <td>3924.0</td>\n",
       "      <td>3924.000000</td>\n",
       "      <td>3924.000000</td>\n",
       "      <td>3924.000000</td>\n",
       "      <td>3924.0</td>\n",
       "      <td>3924.0</td>\n",
       "      <td>3924.000000</td>\n",
       "      <td>3924.000000</td>\n",
       "    </tr>\n",
       "    <tr>\n",
       "      <th>mean</th>\n",
       "      <td>156792.523700</td>\n",
       "      <td>4.412464e+14</td>\n",
       "      <td>2221.312982</td>\n",
       "      <td>1214.212271</td>\n",
       "      <td>42.080530</td>\n",
       "      <td>44.340214</td>\n",
       "      <td>1.326453</td>\n",
       "      <td>44.266820</td>\n",
       "      <td>1.698267</td>\n",
       "      <td>2.502548</td>\n",
       "      <td>...</td>\n",
       "      <td>2.215596</td>\n",
       "      <td>2285.361876</td>\n",
       "      <td>1.0</td>\n",
       "      <td>0.698267</td>\n",
       "      <td>29.089794</td>\n",
       "      <td>2073.589450</td>\n",
       "      <td>0.0</td>\n",
       "      <td>0.0</td>\n",
       "      <td>0.093527</td>\n",
       "      <td>21.454128</td>\n",
       "    </tr>\n",
       "    <tr>\n",
       "      <th>std</th>\n",
       "      <td>92898.394631</td>\n",
       "      <td>3.228293e+14</td>\n",
       "      <td>1211.880169</td>\n",
       "      <td>573.661666</td>\n",
       "      <td>8.830326</td>\n",
       "      <td>0.726192</td>\n",
       "      <td>1.177451</td>\n",
       "      <td>10.680225</td>\n",
       "      <td>0.459068</td>\n",
       "      <td>2.400557</td>\n",
       "      <td>...</td>\n",
       "      <td>3.225630</td>\n",
       "      <td>50.461511</td>\n",
       "      <td>0.0</td>\n",
       "      <td>0.459068</td>\n",
       "      <td>13.434312</td>\n",
       "      <td>962.782209</td>\n",
       "      <td>0.0</td>\n",
       "      <td>0.0</td>\n",
       "      <td>0.291207</td>\n",
       "      <td>1.075382</td>\n",
       "    </tr>\n",
       "    <tr>\n",
       "      <th>min</th>\n",
       "      <td>15.000000</td>\n",
       "      <td>1.066650e+10</td>\n",
       "      <td>135.595300</td>\n",
       "      <td>0.230000</td>\n",
       "      <td>20.000000</td>\n",
       "      <td>44.000000</td>\n",
       "      <td>1.000000</td>\n",
       "      <td>24.000000</td>\n",
       "      <td>1.000000</td>\n",
       "      <td>1.000000</td>\n",
       "      <td>...</td>\n",
       "      <td>0.000000</td>\n",
       "      <td>2200.000000</td>\n",
       "      <td>1.0</td>\n",
       "      <td>0.000000</td>\n",
       "      <td>0.005750</td>\n",
       "      <td>576.000000</td>\n",
       "      <td>0.0</td>\n",
       "      <td>0.0</td>\n",
       "      <td>0.000000</td>\n",
       "      <td>21.000000</td>\n",
       "    </tr>\n",
       "    <tr>\n",
       "      <th>25%</th>\n",
       "      <td>76126.250000</td>\n",
       "      <td>1.307751e+14</td>\n",
       "      <td>1123.182775</td>\n",
       "      <td>846.150000</td>\n",
       "      <td>40.000000</td>\n",
       "      <td>44.000000</td>\n",
       "      <td>1.000000</td>\n",
       "      <td>35.000000</td>\n",
       "      <td>1.000000</td>\n",
       "      <td>1.000000</td>\n",
       "      <td>...</td>\n",
       "      <td>0.000000</td>\n",
       "      <td>2200.000000</td>\n",
       "      <td>1.0</td>\n",
       "      <td>0.000000</td>\n",
       "      <td>20.000000</td>\n",
       "      <td>1225.000000</td>\n",
       "      <td>0.0</td>\n",
       "      <td>0.0</td>\n",
       "      <td>0.000000</td>\n",
       "      <td>21.000000</td>\n",
       "    </tr>\n",
       "    <tr>\n",
       "      <th>50%</th>\n",
       "      <td>153825.500000</td>\n",
       "      <td>4.039018e+14</td>\n",
       "      <td>2482.519600</td>\n",
       "      <td>1115.380000</td>\n",
       "      <td>40.000000</td>\n",
       "      <td>44.000000</td>\n",
       "      <td>1.000000</td>\n",
       "      <td>44.000000</td>\n",
       "      <td>2.000000</td>\n",
       "      <td>1.000000</td>\n",
       "      <td>...</td>\n",
       "      <td>0.000000</td>\n",
       "      <td>2310.000000</td>\n",
       "      <td>1.0</td>\n",
       "      <td>1.000000</td>\n",
       "      <td>26.346000</td>\n",
       "      <td>1936.000000</td>\n",
       "      <td>0.0</td>\n",
       "      <td>0.0</td>\n",
       "      <td>0.000000</td>\n",
       "      <td>21.000000</td>\n",
       "    </tr>\n",
       "    <tr>\n",
       "      <th>75%</th>\n",
       "      <td>239870.250000</td>\n",
       "      <td>7.240992e+14</td>\n",
       "      <td>3206.371325</td>\n",
       "      <td>1476.442500</td>\n",
       "      <td>45.000000</td>\n",
       "      <td>44.000000</td>\n",
       "      <td>1.000000</td>\n",
       "      <td>53.000000</td>\n",
       "      <td>2.000000</td>\n",
       "      <td>5.000000</td>\n",
       "      <td>...</td>\n",
       "      <td>4.000000</td>\n",
       "      <td>2320.000000</td>\n",
       "      <td>1.0</td>\n",
       "      <td>1.000000</td>\n",
       "      <td>35.078167</td>\n",
       "      <td>2809.000000</td>\n",
       "      <td>0.0</td>\n",
       "      <td>0.0</td>\n",
       "      <td>0.000000</td>\n",
       "      <td>21.000000</td>\n",
       "    </tr>\n",
       "    <tr>\n",
       "      <th>max</th>\n",
       "      <td>317003.000000</td>\n",
       "      <td>9.999404e+14</td>\n",
       "      <td>6784.503300</td>\n",
       "      <td>2884.610000</td>\n",
       "      <td>99.000000</td>\n",
       "      <td>46.000000</td>\n",
       "      <td>21.000000</td>\n",
       "      <td>64.000000</td>\n",
       "      <td>2.000000</td>\n",
       "      <td>7.000000</td>\n",
       "      <td>...</td>\n",
       "      <td>15.000000</td>\n",
       "      <td>2340.000000</td>\n",
       "      <td>1.0</td>\n",
       "      <td>1.000000</td>\n",
       "      <td>144.230500</td>\n",
       "      <td>4096.000000</td>\n",
       "      <td>0.0</td>\n",
       "      <td>0.0</td>\n",
       "      <td>1.000000</td>\n",
       "      <td>24.000000</td>\n",
       "    </tr>\n",
       "  </tbody>\n",
       "</table>\n",
       "<p>8 rows × 21 columns</p>\n",
       "</div>"
      ],
      "text/plain": [
       "          Unnamed: 0          hhid       weight      earnwke       uhours  \\\n",
       "count    3924.000000  3.924000e+03  3924.000000  3924.000000  3924.000000   \n",
       "mean   156792.523700  4.412464e+14  2221.312982  1214.212271    42.080530   \n",
       "std     92898.394631  3.228293e+14  1211.880169   573.661666     8.830326   \n",
       "min        15.000000  1.066650e+10   135.595300     0.230000    20.000000   \n",
       "25%     76126.250000  1.307751e+14  1123.182775   846.150000    40.000000   \n",
       "50%    153825.500000  4.039018e+14  2482.519600  1115.380000    40.000000   \n",
       "75%    239870.250000  7.240992e+14  3206.371325  1476.442500    45.000000   \n",
       "max    317003.000000  9.999404e+14  6784.503300  2884.610000    99.000000   \n",
       "\n",
       "           grade92         race          age          sex      marital  ...  \\\n",
       "count  3924.000000  3924.000000  3924.000000  3924.000000  3924.000000  ...   \n",
       "mean     44.340214     1.326453    44.266820     1.698267     2.502548  ...   \n",
       "std       0.726192     1.177451    10.680225     0.459068     2.400557  ...   \n",
       "min      44.000000     1.000000    24.000000     1.000000     1.000000  ...   \n",
       "25%      44.000000     1.000000    35.000000     1.000000     1.000000  ...   \n",
       "50%      44.000000     1.000000    44.000000     2.000000     1.000000  ...   \n",
       "75%      44.000000     1.000000    53.000000     2.000000     5.000000  ...   \n",
       "max      46.000000    21.000000    64.000000     2.000000     7.000000  ...   \n",
       "\n",
       "          chldpres      occ2012  sample       female       earnph  \\\n",
       "count  3924.000000  3924.000000  3924.0  3924.000000  3924.000000   \n",
       "mean      2.215596  2285.361876     1.0     0.698267    29.089794   \n",
       "std       3.225630    50.461511     0.0     0.459068    13.434312   \n",
       "min       0.000000  2200.000000     1.0     0.000000     0.005750   \n",
       "25%       0.000000  2200.000000     1.0     0.000000    20.000000   \n",
       "50%       0.000000  2310.000000     1.0     1.000000    26.346000   \n",
       "75%       4.000000  2320.000000     1.0     1.000000    35.078167   \n",
       "max      15.000000  2340.000000     1.0     1.000000   144.230500   \n",
       "\n",
       "             agesq  race_white  married    notnative  education_years  \n",
       "count  3924.000000      3924.0   3924.0  3924.000000      3924.000000  \n",
       "mean   2073.589450         0.0      0.0     0.093527        21.454128  \n",
       "std     962.782209         0.0      0.0     0.291207         1.075382  \n",
       "min     576.000000         0.0      0.0     0.000000        21.000000  \n",
       "25%    1225.000000         0.0      0.0     0.000000        21.000000  \n",
       "50%    1936.000000         0.0      0.0     0.000000        21.000000  \n",
       "75%    2809.000000         0.0      0.0     0.000000        21.000000  \n",
       "max    4096.000000         0.0      0.0     1.000000        24.000000  \n",
       "\n",
       "[8 rows x 21 columns]"
      ]
     },
     "execution_count": 14,
     "metadata": {},
     "output_type": "execute_result"
    }
   ],
   "source": [
    "Data.describe()"
   ]
  },
  {
   "cell_type": "markdown",
   "id": "bfd9d89d",
   "metadata": {},
   "source": [
    "*Build linear regression model*"
   ]
  },
  {
   "cell_type": "code",
   "execution_count": 15,
   "id": "4e3e3f63",
   "metadata": {},
   "outputs": [],
   "source": [
    "reg_model1 = smf.ols(formula=\"earnph~age+agesq\", data = Data).fit(cov_type=\"HC0\")\n",
    "reg_model2 = smf.ols(formula=\"earnph~age+agesq+female+age*female\", data = Data).fit(cov_type=\"HC0\")\n",
    "reg_model3 = smf.ols(formula=\"earnph~age+agesq+female+age*female+education_years+notnative+ownchild\", data = Data).fit(cov_type=\"HC0\")\n",
    "reg_model4 = smf.ols(formula=\"earnph~age+agesq+female+age*female+education_years+notnative+ownchild+race_white+chldpres+married+weight\", data = Data).fit(cov_type=\"HC0\")"
   ]
  },
  {
   "cell_type": "code",
   "execution_count": 16,
   "id": "7e40e901",
   "metadata": {},
   "outputs": [],
   "source": [
    "from stargazer import stargazer\n",
    "from statsmodels.tools.eval_measures import mse,rmse\n",
    "from sklearn.metrics import mean_squared_error"
   ]
  },
  {
   "cell_type": "code",
   "execution_count": 17,
   "id": "0f94460d",
   "metadata": {},
   "outputs": [],
   "source": [
    "models = [reg_model1, reg_model2,reg_model3, reg_model4]\n",
    "AIC = [None]*len(models)\n",
    "BIC = [None]*len(models)\n",
    "RMSE = [None]*len(models)\n",
    "Rsquared = [None]*len(models)\n",
    "regr = [None]*len(models)\n",
    "k = [None]*len(models)\n",
    "\n",
    "for i in range(0,len(models)):\n",
    "    AIC[i] = models[i].aic\n",
    "    BIC[i] = models[i].bic\n",
    "    RMSE[i] = rmse(models[i].fittedvalues,Data.earnph) \n",
    "    Rsquared[i] = models[i].rsquared\n",
    "    k[i] = (models[i].df_model)"
   ]
  },
  {
   "cell_type": "code",
   "execution_count": 18,
   "id": "f4d24bfb",
   "metadata": {},
   "outputs": [
    {
     "data": {
      "text/html": [
       "<div>\n",
       "<style scoped>\n",
       "    .dataframe tbody tr th:only-of-type {\n",
       "        vertical-align: middle;\n",
       "    }\n",
       "\n",
       "    .dataframe tbody tr th {\n",
       "        vertical-align: top;\n",
       "    }\n",
       "\n",
       "    .dataframe thead th {\n",
       "        text-align: right;\n",
       "    }\n",
       "</style>\n",
       "<table border=\"1\" class=\"dataframe\">\n",
       "  <thead>\n",
       "    <tr style=\"text-align: right;\">\n",
       "      <th></th>\n",
       "      <th>k</th>\n",
       "      <th>RSquared</th>\n",
       "      <th>RMSE</th>\n",
       "      <th>BIC</th>\n",
       "    </tr>\n",
       "    <tr>\n",
       "      <th>models</th>\n",
       "      <th></th>\n",
       "      <th></th>\n",
       "      <th></th>\n",
       "      <th></th>\n",
       "    </tr>\n",
       "  </thead>\n",
       "  <tbody>\n",
       "    <tr>\n",
       "      <th>(1)</th>\n",
       "      <td>2.0</td>\n",
       "      <td>0.054881</td>\n",
       "      <td>13.058805</td>\n",
       "      <td>31325.797076</td>\n",
       "    </tr>\n",
       "    <tr>\n",
       "      <th>(2)</th>\n",
       "      <td>4.0</td>\n",
       "      <td>0.085114</td>\n",
       "      <td>12.848238</td>\n",
       "      <td>31214.770138</td>\n",
       "    </tr>\n",
       "    <tr>\n",
       "      <th>(3)</th>\n",
       "      <td>7.0</td>\n",
       "      <td>0.097347</td>\n",
       "      <td>12.762052</td>\n",
       "      <td>31186.772983</td>\n",
       "    </tr>\n",
       "    <tr>\n",
       "      <th>(4)</th>\n",
       "      <td>9.0</td>\n",
       "      <td>0.099412</td>\n",
       "      <td>12.747448</td>\n",
       "      <td>31194.336673</td>\n",
       "    </tr>\n",
       "  </tbody>\n",
       "</table>\n",
       "</div>"
      ],
      "text/plain": [
       "          k  RSquared       RMSE           BIC\n",
       "models                                        \n",
       "(1)     2.0  0.054881  13.058805  31325.797076\n",
       "(2)     4.0  0.085114  12.848238  31214.770138\n",
       "(3)     7.0  0.097347  12.762052  31186.772983\n",
       "(4)     9.0  0.099412  12.747448  31194.336673"
      ]
     },
     "execution_count": 18,
     "metadata": {},
     "output_type": "execute_result"
    }
   ],
   "source": [
    "evaluation_models = pd.DataFrame({'models':['(' + str(x+1) + ')'for x in range(len(models))],'k':k,'RSquared':Rsquared,'RMSE':RMSE,'BIC':BIC}).set_index('models')\n",
    "evaluation_models"
   ]
  },
  {
   "cell_type": "markdown",
   "id": "7df28bc1",
   "metadata": {},
   "source": [
    "*Export .csv file*"
   ]
  },
  {
   "cell_type": "code",
   "execution_count": 19,
   "id": "74950a10",
   "metadata": {},
   "outputs": [],
   "source": [
    "evaluation_models.to_csv(\"../Output/evaluation_models.csv\")"
   ]
  },
  {
   "cell_type": "markdown",
   "id": "3a51697a",
   "metadata": {},
   "source": [
    "***Cross validation***"
   ]
  },
  {
   "cell_type": "markdown",
   "id": "5cd58385",
   "metadata": {},
   "source": [
    "*Separate the hold-out set*"
   ]
  },
  {
   "cell_type": "code",
   "execution_count": 20,
   "id": "ee4cfa9f",
   "metadata": {},
   "outputs": [],
   "source": [
    "smp_size = round(0.2 * Data.shape[0])-1"
   ]
  },
  {
   "cell_type": "code",
   "execution_count": 21,
   "id": "db6a1da2",
   "metadata": {},
   "outputs": [],
   "source": [
    "np.random.seed(20180123)"
   ]
  },
  {
   "cell_type": "code",
   "execution_count": 22,
   "id": "653726b0",
   "metadata": {},
   "outputs": [],
   "source": [
    "from sklearn.model_selection import train_test_split"
   ]
  },
  {
   "cell_type": "code",
   "execution_count": 23,
   "id": "d650dff3",
   "metadata": {},
   "outputs": [],
   "source": [
    "data_work,data_holdout=train_test_split(Data, test_size=smp_size)"
   ]
  },
  {
   "cell_type": "code",
   "execution_count": 24,
   "id": "3acaca8b",
   "metadata": {},
   "outputs": [],
   "source": [
    "def cross_validation_reg(formula, data, kfold, testdata, robustse = None):\n",
    "    regression_list = []\n",
    "    predicts_on_test = []\n",
    "    rsquared = []\n",
    "    rmse_list = []\n",
    "    rmse_list_test = []\n",
    "\n",
    "    for train_index, test_index in k.split(Data):\n",
    "        Data_train, Data_test = Data.iloc[train_index, :], Data.iloc[test_index, :]\n",
    "        if robustse is None:\n",
    "            model = smf.ols(formula, data = Data_train).fit()\n",
    "        else:\n",
    "            model = smf.ols(formula, data = Data_train).fit(cov_type = robustse)\n",
    "        regression_list += [model]\n",
    "        predicts_on_test += [model.predict(Data_test)]\n",
    "        rsquared += [model.rsquared]\n",
    "\n",
    "        rmse_tr = pd.concat(\n",
    "            [Data_train[\"earnph\"], model.predict(Data_train)],\n",
    "            axis=1,\n",
    "            keys=[\"earnph\", \"predicted\"],\n",
    "        )\n",
    "        rmse_tr = rmse_tr[~rmse_tr.isna().any(axis=1)]\n",
    "\n",
    "        rmse_te = pd.concat(\n",
    "            [Data_test[\"earnph\"], model.predict(Data_test)],\n",
    "            axis=1,\n",
    "            keys=[\"earnph\", \"predicted\"],\n",
    "        )\n",
    "        rmse_te = rmse_te[~rmse_te.isna().any(axis=1)]\n",
    "\n",
    "        rmse_list += [rmse(rmse_tr[\"earnph\"], rmse_tr[\"predicted\"], axis=0)]\n",
    "        rmse_list_test += [rmse(rmse_te[\"earnph\"], rmse_te[\"predicted\"], axis=0)]\n",
    "    nvars = model.df_model\n",
    "\n",
    "    return {\n",
    "        \"regressions\": regression_list,\n",
    "        \"test_predict\": predicts_on_test,\n",
    "        \"r2\": rsquared,\n",
    "        \"rmse\": rmse_list,\n",
    "        \"rmse_test\": rmse_list_test,\n",
    "        \"nvars\": nvars,\n",
    "    }"
   ]
  },
  {
   "cell_type": "code",
   "execution_count": 25,
   "id": "0ec0a91d",
   "metadata": {},
   "outputs": [],
   "source": [
    "def summarize_cv(cvlist, stat=\"rmse\"):\n",
    "    result = pd.DataFrame(\n",
    "        {\"Model\" + str(x + 1): cvlist[x][stat] for x in range(len(cv_list))}\n",
    "    )\n",
    "    result[\"Resample\"] = [\"Fold\" + str(x + 1) for x in range(len(cvlist[0][\"rmse\"]))]\n",
    "    result = result.set_index(\"Resample\")\n",
    "    result = pd.concat([result, pd.DataFrame(result.mean(), columns=[\"Average\"]).T])\n",
    "    return result"
   ]
  },
  {
   "cell_type": "code",
   "execution_count": 26,
   "id": "ed496bb5",
   "metadata": {},
   "outputs": [],
   "source": [
    "n_folds = 5"
   ]
  },
  {
   "cell_type": "code",
   "execution_count": 27,
   "id": "0b9c784c",
   "metadata": {},
   "outputs": [],
   "source": [
    "from sklearn.model_selection import KFold\n",
    "from statsmodels.tools.eval_measures import mse,rmse\n",
    "k = KFold(n_splits = n_folds, shuffle = False, random_state = None)"
   ]
  },
  {
   "cell_type": "code",
   "execution_count": 28,
   "id": "f4da9bba",
   "metadata": {},
   "outputs": [],
   "source": [
    "cvm1 = cross_validation_reg(\"earnph~age+agesq\", Data, k, \"HC0\")\n",
    "cvm2 = cross_validation_reg(\"earnph~age+agesq+female+age*female\", Data, k, \"HC0\")\n",
    "cvm3 = cross_validation_reg(\"earnph~age+agesq+female+age*female+education_years+notnative+ownchild\", Data, k, \"HC0\")\n",
    "cvm4 = cross_validation_reg(\"earnph~age+agesq+female+age*female+education_years+notnative+ownchild+race_white+chldpres+married+weight\", Data, k, \"HC0\")"
   ]
  },
  {
   "cell_type": "code",
   "execution_count": 29,
   "id": "761d211f",
   "metadata": {},
   "outputs": [
    {
     "data": {
      "text/html": [
       "<div>\n",
       "<style scoped>\n",
       "    .dataframe tbody tr th:only-of-type {\n",
       "        vertical-align: middle;\n",
       "    }\n",
       "\n",
       "    .dataframe tbody tr th {\n",
       "        vertical-align: top;\n",
       "    }\n",
       "\n",
       "    .dataframe thead th {\n",
       "        text-align: right;\n",
       "    }\n",
       "</style>\n",
       "<table border=\"1\" class=\"dataframe\">\n",
       "  <thead>\n",
       "    <tr style=\"text-align: right;\">\n",
       "      <th></th>\n",
       "      <th>Model1</th>\n",
       "      <th>Model2</th>\n",
       "      <th>Model3</th>\n",
       "      <th>Model4</th>\n",
       "    </tr>\n",
       "  </thead>\n",
       "  <tbody>\n",
       "    <tr>\n",
       "      <th>Fold1</th>\n",
       "      <td>13.149092</td>\n",
       "      <td>12.924149</td>\n",
       "      <td>12.836032</td>\n",
       "      <td>12.823981</td>\n",
       "    </tr>\n",
       "    <tr>\n",
       "      <th>Fold2</th>\n",
       "      <td>13.106742</td>\n",
       "      <td>12.906611</td>\n",
       "      <td>12.827143</td>\n",
       "      <td>12.816572</td>\n",
       "    </tr>\n",
       "    <tr>\n",
       "      <th>Fold3</th>\n",
       "      <td>13.050161</td>\n",
       "      <td>12.855415</td>\n",
       "      <td>12.756822</td>\n",
       "      <td>12.744411</td>\n",
       "    </tr>\n",
       "    <tr>\n",
       "      <th>Fold4</th>\n",
       "      <td>13.096886</td>\n",
       "      <td>12.843340</td>\n",
       "      <td>12.740590</td>\n",
       "      <td>12.717126</td>\n",
       "    </tr>\n",
       "    <tr>\n",
       "      <th>Fold5</th>\n",
       "      <td>12.880468</td>\n",
       "      <td>12.696980</td>\n",
       "      <td>12.625956</td>\n",
       "      <td>12.607538</td>\n",
       "    </tr>\n",
       "    <tr>\n",
       "      <th>Average</th>\n",
       "      <td>13.056670</td>\n",
       "      <td>12.845299</td>\n",
       "      <td>12.757308</td>\n",
       "      <td>12.741926</td>\n",
       "    </tr>\n",
       "  </tbody>\n",
       "</table>\n",
       "</div>"
      ],
      "text/plain": [
       "            Model1     Model2     Model3     Model4\n",
       "Fold1    13.149092  12.924149  12.836032  12.823981\n",
       "Fold2    13.106742  12.906611  12.827143  12.816572\n",
       "Fold3    13.050161  12.855415  12.756822  12.744411\n",
       "Fold4    13.096886  12.843340  12.740590  12.717126\n",
       "Fold5    12.880468  12.696980  12.625956  12.607538\n",
       "Average  13.056670  12.845299  12.757308  12.741926"
      ]
     },
     "execution_count": 29,
     "metadata": {},
     "output_type": "execute_result"
    }
   ],
   "source": [
    "cv_list = [cvm1, cvm2, cvm3, cvm4]\n",
    "z = summarize_cv(cv_list)\n",
    "z"
   ]
  },
  {
   "cell_type": "markdown",
   "id": "8fd1fe33",
   "metadata": {},
   "source": [
    "*Export .csv file*"
   ]
  },
  {
   "cell_type": "code",
   "execution_count": 30,
   "id": "b2115209",
   "metadata": {},
   "outputs": [
    {
     "name": "stdout",
     "output_type": "stream",
     "text": [
      "            Model1     Model2     Model3     Model4\n",
      "Fold1    13.149092  12.924149  12.836032  12.823981\n",
      "Fold2    13.106742  12.906611  12.827143  12.816572\n",
      "Fold3    13.050161  12.855415  12.756822  12.744411\n",
      "Fold4    13.096886  12.843340  12.740590  12.717126\n",
      "Fold5    12.880468  12.696980  12.625956  12.607538\n",
      "Average  13.056670  12.845299  12.757308  12.741926\n"
     ]
    }
   ],
   "source": [
    "print(z)\n",
    "z.to_csv(\"../Output/cv_list.csv\")"
   ]
  },
  {
   "cell_type": "code",
   "execution_count": 31,
   "id": "f01da04a",
   "metadata": {},
   "outputs": [],
   "source": [
    "import warnings\n",
    "warnings.filterwarnings('ignore')\n",
    "from ggplot import *\n",
    "from plotnine import *\n",
    "import sys\n",
    "func = \"../Function/\"\n",
    "sys.path.append(func)\n",
    "from py_helper_functions import *"
   ]
  },
  {
   "cell_type": "code",
   "execution_count": 32,
   "id": "3d143581",
   "metadata": {},
   "outputs": [],
   "source": [
    "rmse_levels = {\"nvars\": [], \"var\": [], \"value\": []}\n",
    "for i in range(0, 4):\n",
    "    rmse_levels[\"nvars\"].append(int(cv_list[i][\"nvars\"]))\n",
    "    rmse_levels[\"var\"].append(\"RMSE Training\")\n",
    "    rmse_levels[\"value\"].append(pd.Series(cv_list[i][\"rmse\"]).mean())\n",
    "for i in range(0, 4):\n",
    "    rmse_levels[\"nvars\"].append(int(cv_list[i][\"nvars\"]))\n",
    "    rmse_levels[\"var\"].append(\"RMSE Test\")\n",
    "    rmse_levels[\"value\"].append(pd.Series(cv_list[i][\"rmse_test\"]).mean())\n",
    "rmse_levels = pd.DataFrame.from_dict(rmse_levels)\n",
    "rmse_levels[\"nvars2\"] = rmse_levels[\"nvars\"] + 1"
   ]
  },
  {
   "cell_type": "code",
   "execution_count": 33,
   "id": "0e9da1bf",
   "metadata": {},
   "outputs": [],
   "source": [
    "p1 = (\n",
    "    ggplot(rmse_levels, aes(x=\"factor(nvars2)\", y=\"value\", color=\"var\", group=\"var\"))\n",
    "    + geom_line(size=1, show_legend=True, na_rm=True)\n",
    "    + scale_color_manual(name=\"\", values=(color[0], color[1]))\n",
    "    + scale_y_continuous(name=\"RMSE\")\n",
    "    + scale_x_discrete(\n",
    "        name=\"Number of coefficients\",\n",
    "        expand=(0.01, 0.01)\n",
    "    )\n",
    "    + theme_bw()\n",
    ")"
   ]
  },
  {
   "cell_type": "code",
   "execution_count": 34,
   "id": "2be66f08",
   "metadata": {},
   "outputs": [
    {
     "data": {
      "image/png": "[encoded data removed]",
      "text/plain": [
       "<Figure size 640x480 with 1 Axes>"
      ]
     },
     "metadata": {},
     "output_type": "display_data"
    },
    {
     "data": {
      "text/plain": [
       "<ggplot: (8767632455699)>"
      ]
     },
     "execution_count": 34,
     "metadata": {},
     "output_type": "execute_result"
    }
   ],
   "source": [
    "p1"
   ]
  },
  {
   "cell_type": "markdown",
   "id": "2a37b2d0",
   "metadata": {},
   "source": [
    "Export .png file"
   ]
  },
  {
   "cell_type": "code",
   "execution_count": 35,
   "id": "6fd8fb3d",
   "metadata": {},
   "outputs": [],
   "source": [
    "ggsave(plot = p1, filename=\"Figure1.png\", path = \"../Output/\")"
   ]
  },
  {
   "cell_type": "markdown",
   "id": "41d85759",
   "metadata": {},
   "source": [
    "***Reference code***\n",
    "\n",
    "*Link:*\n",
    "*https://github.com/gabors-data-analysis/da_case_studies/blob/master/ch09-gender-age-earnings/ch09-earnings-inference.ipynb*\n",
    "*https://github.com/gabors-data-analysis/da_case_studies/blob/master/ch14-used-cars-log/ch14-used-cars-log.ipynb*\n",
    "*https://github.com/gabors-data-analysis/da_case_studies/blob/master/ch14-airbnb-reg/ch14-airbnb-prediction.ipynb*"
   ]
  }
 ],
 "metadata": {
  "kernelspec": {
   "display_name": "Python 3 (ipykernel)",
   "language": "python",
   "name": "python3"
  },
  "language_info": {
   "codemirror_mode": {
    "name": "ipython",
    "version": 3
   },
   "file_extension": ".py",
   "mimetype": "text/x-python",
   "name": "python",
   "nbconvert_exporter": "python",
   "pygments_lexer": "ipython3",
   "version": "3.8.3"
  }
 },
 "nbformat": 4,
 "nbformat_minor": 5
}
